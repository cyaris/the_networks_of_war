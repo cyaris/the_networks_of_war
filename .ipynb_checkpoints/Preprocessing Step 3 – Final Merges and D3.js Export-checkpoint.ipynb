{
 "cells": [
  {
   "cell_type": "code",
   "execution_count": 1,
   "metadata": {},
   "outputs": [],
   "source": [
    "import pandas as pd\n",
    "import numpy as np\n",
    "from copy import deepcopy\n",
    "from traceback import format_exc\n",
    "# from pprint import pprint\n",
    "import the_networks_of_war_python_functions"
   ]
  },
  {
   "cell_type": "code",
   "execution_count": 2,
   "metadata": {},
   "outputs": [],
   "source": [
    "pd.set_option('display.max_columns', None)\n",
    "pd.set_option('display.float_format', lambda x: '%.5f' % x)"
   ]
  },
  {
   "cell_type": "code",
   "execution_count": 1,
   "metadata": {},
   "outputs": [
    {
     "data": {
      "text/plain": [
       "'/Users/charlieyaris/Personal/git/the_networks_of_war'"
      ]
     },
     "execution_count": 1,
     "metadata": {},
     "output_type": "execute_result"
    }
   ],
   "source": [
    "pwd"
   ]
  },
  {
   "cell_type": "code",
   "execution_count": 3,
   "metadata": {},
   "outputs": [],
   "source": [
    "csv_directory = '/Users/charlieyaris/Personal/data_sources/the_networks_of_war/csvs/'\n",
    "csv_output_directory = '../../assets/csv/the_networks_of_war/'\n",
    "pickle_directory = '/Users/charlieyaris/Personal/data_sources/the_networks_of_war/pickles/'"
   ]
  },
  {
   "cell_type": "markdown",
   "metadata": {},
   "source": [
    "## Setup for Identifying Countries by Code\n",
    "### Note: This is helpful for when different names are used for the same country."
   ]
  },
  {
   "cell_type": "code",
   "execution_count": 4,
   "metadata": {},
   "outputs": [
    {
     "name": "stdout",
     "output_type": "stream",
     "text": [
      "Total Country Codes: 217\n"
     ]
    }
   ],
   "source": [
    "c_code_dic = the_networks_of_war_python_functions.define_c_code_dic()"
   ]
  },
  {
   "cell_type": "markdown",
   "metadata": {},
   "source": [
    "## Integrating Descriptive Data (Defined in Outside Notebook)"
   ]
  },
  {
   "cell_type": "markdown",
   "metadata": {},
   "source": [
    "### Merging Participant Data with Participant-Level Descriptive Data"
   ]
  },
  {
   "cell_type": "code",
   "execution_count": 5,
   "metadata": {},
   "outputs": [],
   "source": [
    "part_df = pd.read_pickle(pickle_directory + 'initial_part_df.pkl')\n",
    "dyad_df = pd.read_pickle(pickle_directory + 'initial_dyad_df.pkl')\n",
    "war_df = pd.read_pickle(pickle_directory + 'initial_war_df.pkl')"
   ]
  },
  {
   "cell_type": "code",
   "execution_count": 6,
   "metadata": {},
   "outputs": [],
   "source": [
    "descriptive_df_1 = pd.read_pickle(pickle_directory + 'participant_descriptive_df.pkl')\n",
    "\n",
    "descriptive_df_1.rename({'year': 'start_year'}, axis=1, inplace=True)\n",
    "part_df = deepcopy(pd.merge(part_df, descriptive_df_1, how='left', on=['c_code', 'start_year']))\n",
    "\n",
    "descriptive_df_1.rename({'start_year': 'end_year'}, axis=1, inplace=True)\n",
    "part_df = deepcopy(pd.merge(part_df, descriptive_df_1, how='left', on=['c_code', 'end_year']))"
   ]
  },
  {
   "cell_type": "markdown",
   "metadata": {},
   "source": [
    "### Merging Dyadic Data with Dyadic-Level Descriptive Data"
   ]
  },
  {
   "cell_type": "code",
   "execution_count": 7,
   "metadata": {},
   "outputs": [
    {
     "name": "stdout",
     "output_type": "stream",
     "text": [
      "Counting Total Dyadic War and Year Combinations by Descriptive Field\n",
      "\n",
      "        inter_governmental_organizations  967\n",
      "                         trade_relations  854\n",
      "                                   mtops  562\n",
      "                              contiguity  445\n",
      "                    elective_legislature  272\n",
      "                           dictatorships  183\n",
      "                multi_party_state_exists  178\n",
      "                     diplomatic_exchange  152\n",
      "                                    atop  133\n",
      "          defense_cooperation_agreements  130\n",
      "                     colonial_contiguity  123\n",
      "                                alliance  102\n",
      "                     non_elected_leaders   90\n",
      "                        same_leader_type   73\n",
      "                      territory_exchange   71\n",
      "             no_non_regime_parties_exist   45\n",
      "           multi_party_legislature_legal   37\n",
      "           no_partisan_legislature_legal   37\n",
      "                        military_leaders   34\n",
      "                       indirect_election   33\n",
      " no_non_regime_legislature_parties_legal   18\n",
      "                          no_legislature   17\n",
      "                        one_party_exists   16\n",
      "                         direct_election   15\n",
      "                      democratic_regimes   12\n",
      "                     all_parties_illegal    9\n",
      "               single_party_state_exists    9\n",
      "                       communist_leaders    7\n",
      "                non_elective_legislature    6\n",
      "                        no_parties_exist    3\n"
     ]
    }
   ],
   "source": [
    "initial_descriptive_columns = deepcopy(set(list(dyad_df.columns)))\n",
    "\n",
    "descriptive_df_2 = pd.read_pickle(pickle_directory + 'dyadic_descriptive_df.pkl')\n",
    "dyad_df = deepcopy(pd.merge(dyad_df, descriptive_df_2, how='left', on=['c_code_a', 'c_code_b', 'year']))\n",
    "\n",
    "print('Counting Total Dyadic War and Year Combinations by Descriptive Field\\n')\n",
    "the_networks_of_war_python_functions.print_new_fields(dyad_df, initial_descriptive_columns, None)"
   ]
  },
  {
   "cell_type": "markdown",
   "metadata": {},
   "source": [
    "## Finalizing Participant and Dyadic Dataframes"
   ]
  },
  {
   "cell_type": "markdown",
   "metadata": {},
   "source": [
    "### Keeping values for first and last year of each dyad\n",
    "### Combining these into one row per dyad"
   ]
  },
  {
   "cell_type": "code",
   "execution_count": 8,
   "metadata": {
    "code_folding": [
     8
    ]
   },
   "outputs": [],
   "source": [
    "dyad_df['year'] = dyad_df['year'].astype(float)\n",
    "\n",
    "## creating unique identifier \"conflict_pair\" for each dyad\n",
    "## based on name\n",
    "for i, participant_a in enumerate(dyad_df['participant_a']):\n",
    "    ## standardizing participant names with ccode when available\n",
    "    dyad_list = []\n",
    "    if dyad_df.loc[i, 'c_code_a'] in c_code_dic.keys():\n",
    "        dyad_list.append(str(dyad_df.loc[i, 'c_code_a']))\n",
    "    else:\n",
    "        dyad_list.append(participant_a)\n",
    "    if dyad_df.loc[i, 'c_code_b'] in c_code_dic.keys():\n",
    "        dyad_list.append(str(dyad_df.loc[i, 'c_code_b']))\n",
    "    else:\n",
    "        dyad_list.append(dyad_df.loc[i, 'participant_b'])\n",
    "    dyad_list = str(sorted(dyad_list))\n",
    "    dyad_df.loc[i, 'conflict_pair'] = dyad_list\n",
    "\n",
    "dyad_df_columns = ['war_num',\n",
    "                   'year',\n",
    "                   'participant_a',\n",
    "                   'participant_b',\n",
    "                   'conflict_pair']\n",
    "\n",
    "for column in list(descriptive_df_2.columns):\n",
    "    dyad_df_columns.append(column)\n",
    "## not including any row without any participants\n",
    "dyad_df = deepcopy(dyad_df[(dyad_df['participant_a'].isnull()==False) & (dyad_df['participant_b'].isnull()==False)])\n",
    "\n",
    "## creating new dyad_df to get the max of each field during all the years of the dyad\n",
    "max_dyad_df = deepcopy(dyad_df)\n",
    "descriptive_columns =  list(descriptive_df_2.columns)\n",
    "descriptive_columns.remove('year')\n",
    "descriptive_columns.remove('c_code_a')\n",
    "descriptive_columns.remove('c_code_b')\n",
    "aggregations = {}\n",
    "for column in descriptive_columns:\n",
    "    max_dyad_df.rename({column: column + '_z'}, axis=1, inplace=True)\n",
    "    aggregations[column + '_z'] = 'max'\n",
    "max_dyad_df = deepcopy(max_dyad_df.groupby(['war_num', 'conflict_pair']).agg(aggregations).reset_index())\n",
    "\n",
    "first_year_dyad_df = deepcopy(dyad_df)\n",
    "first_year_dyad_df.sort_values(by='year', ascending=True, inplace=True)\n",
    "## keeping the values for only the first year of conflict within a given dyad\n",
    "## need to dedupe across conflict pair so a vs b are never repeated interchangably\n",
    "first_year_dyad_df.drop_duplicates(subset=['war_num', 'conflict_pair'], keep='first', inplace=True)\n",
    "first_year_dyad_df.rename({'year': 'first_year'}, axis=1, inplace=True)\n",
    "\n",
    "last_year_dyad_df = deepcopy(dyad_df)\n",
    "last_year_dyad_df.sort_values(by='year', ascending=True, inplace=True)\n",
    "## keeping the values for only the last year of conflict within a given dyad\n",
    "## need to dedupe across conflict pair so a vs b are never repeated interchangably\n",
    "last_year_dyad_df.drop_duplicates(subset=['war_num', 'conflict_pair'], keep='last', inplace=True)\n",
    "last_year_dyad_df.rename({'year': 'last_year'}, axis=1, inplace=True)\n",
    "\n",
    "## combining first and last year dyads into one dataframe\n",
    "dyad_df = deepcopy(pd.merge(first_year_dyad_df, last_year_dyad_df, how='left', on=['conflict_pair', 'war_num']))\n",
    "## combining the maximum df into the final version of the dataframe\n",
    "dyad_df = deepcopy(pd.merge(dyad_df, max_dyad_df, how='left', on=['conflict_pair', 'war_num']).reset_index(drop=True))\n",
    "## changing column names and then dropping duplicates\n",
    "## adding them into the join woudl fail (since not all have c_codes)\n",
    "for column in dyad_df.columns:\n",
    "    if column[-4:]=='_a_x' or column[-4:]=='_b_x':\n",
    "        dyad_df.rename({column: column[:-2]}, axis=1, inplace=True)\n",
    "    elif column[-4:]=='_a_y' or column[-4:]=='_b_y':\n",
    "        dyad_df.drop([column], axis=1, inplace=True)"
   ]
  },
  {
   "cell_type": "code",
   "execution_count": 9,
   "metadata": {},
   "outputs": [
    {
     "name": "stdout",
     "output_type": "stream",
     "text": [
      "Counting Total Dyadic War Combinations (Overall) by Descriptive Field\n",
      "\n",
      " Overall         inter_governmental_organizations  394\n",
      " Overall                          trade_relations  337\n",
      " Overall                                    mtops  249\n",
      " Overall                               contiguity  201\n",
      " Overall                      diplomatic_exchange  130\n",
      " Overall                     elective_legislature   99\n",
      " Overall                 multi_party_state_exists   92\n",
      " Overall                                     atop   90\n",
      " Overall           defense_cooperation_agreements   67\n",
      " Overall                                 alliance   65\n",
      " Overall                       territory_exchange   62\n",
      " Overall                            dictatorships   61\n",
      " Overall                      colonial_contiguity   52\n",
      " Overall                      non_elected_leaders   38\n",
      " Overall            multi_party_legislature_legal   30\n",
      " Overall                         same_leader_type   28\n",
      " Overall                         military_leaders   20\n",
      " Overall            no_partisan_legislature_legal   17\n",
      " Overall                        indirect_election   15\n",
      " Overall              no_non_regime_parties_exist   15\n",
      " Overall                       democratic_regimes    9\n",
      " Overall                           no_legislature    9\n",
      " Overall                          direct_election    8\n",
      " Overall  no_non_regime_legislature_parties_legal    8\n",
      " Overall                         one_party_exists    7\n",
      " Overall                      all_parties_illegal    5\n",
      " Overall                        communist_leaders    4\n",
      " Overall                single_party_state_exists    4\n",
      " Overall                 non_elective_legislature    3\n",
      " Overall                         no_parties_exist    2\n"
     ]
    }
   ],
   "source": [
    "print('Counting Total Dyadic War Combinations (Overall) by Descriptive Field\\n')\n",
    "max_dyad_columns = list(max_dyad_df.drop(['war_num',\n",
    "                                          'conflict_pair'], axis=1).columns)\n",
    "the_networks_of_war_python_functions.print_new_fields(dyad_df, None, max_dyad_columns)\n",
    "\n",
    "# print('Counting Total Dyadic War Combinations by Descriptive Field\\n')\n",
    "# descriptive_dyad_columns = list(dyad_df.drop(['war_num',\n",
    "#                                               'c_code_a',\n",
    "#                                               'c_code_b',\n",
    "#                                               'participant_a',\n",
    "#                                               'participant_b',\n",
    "#                                               'first_year',\n",
    "#                                               'last_year'], axis=1).columns)\n",
    "# the_networks_of_war_python_functions.print_new_fields(dyad_df, None, descriptive_dyad_columns)"
   ]
  },
  {
   "cell_type": "markdown",
   "metadata": {},
   "source": [
    "### Addressing in null values, missing data, and conversions for dyads and participants"
   ]
  },
  {
   "cell_type": "code",
   "execution_count": 10,
   "metadata": {},
   "outputs": [
    {
     "name": "stdout",
     "output_type": "stream",
     "text": [
      "\n",
      "Addressng null values, missing data, and conversions for part_df.\n",
      "\n",
      "Total Columns Adjusted: 49\n",
      "Total Columns Adjusted for Conversion: 22\n",
      "Total Null Values Notated: 48,899\n",
      "Total Unknown Values Notated: 0\n",
      "\n",
      "Addressng null values, missing data, and conversions for dyad_df.\n",
      "\n",
      "Total Columns Adjusted: 90\n",
      "Total Columns Adjusted for Conversion: 0\n",
      "Total Null Values Notated: 94,481\n",
      "Total Unknown Values Notated: 0\n"
     ]
    }
   ],
   "source": [
    "## the following participant columns need _z labels to be categorized as overall metrics\n",
    "add_z_list = ['peak_forces_available',\n",
    "              'peak_battle_forces',\n",
    "              'days_at_war',\n",
    "              'battle_deaths',\n",
    "              'total_deaths_both_sides']\n",
    "for column in add_z_list:\n",
    "    part_df.rename({column: column + '_z'}, axis=1, inplace=True)\n",
    "\n",
    "conversion_dic = {'money_flow_in': 1000000,\n",
    "                  'money_flow_out': 1000000,\n",
    "                  'military_expenditure': 1000,\n",
    "                  'military_personnel': 1000,\n",
    "                  'population': 1000,\n",
    "                  'urban_population': 1000,\n",
    "                  'refugees_originated': 1000,\n",
    "                  'internally_displaced_persons': 1000,\n",
    "                  'refugees_hosted': 1000,\n",
    "#                   'land_mass_exchange_gain': 'unsure',\n",
    "#                   'land_mass_exchange_loss': 'unsure',\n",
    "#                   'population_exchange_gain': 'unsure',\n",
    "#                   'population_exchange_loss': 'unsure',\n",
    "                  ## these are thousands of tons\n",
    "                  'iron_steel_production': 2000000,\n",
    "                  'energy_consumption': 2000000\n",
    "                 }\n",
    "print('\\nAddressng null values, missing data, and conversions for part_df.')\n",
    "part_df = deepcopy(the_networks_of_war_python_functions.column_fills_and_converions(part_df, 'participant', conversion_dic))\n",
    "\n",
    "print('\\nAddressng null values, missing data, and conversions for dyad_df.')\n",
    "dyad_df = deepcopy(the_networks_of_war_python_functions.column_fills_and_converions(dyad_df, 'dyad', None))"
   ]
  },
  {
   "cell_type": "markdown",
   "metadata": {},
   "source": [
    "### Saving the data"
   ]
  },
  {
   "cell_type": "code",
   "execution_count": 11,
   "metadata": {},
   "outputs": [
    {
     "name": "stdout",
     "output_type": "stream",
     "text": [
      "Total Participants: 1,713\n",
      "Total Dyadic Combinations: 1,117\n",
      "Total Wars: 678\n"
     ]
    }
   ],
   "source": [
    "print('Total Participants: {}'.format(format(len(part_df), ',d')))\n",
    "print('Total Dyadic Combinations: {}'.format(format(len(dyad_df), ',d')))\n",
    "print('Total Wars: {}'.format(format(len(war_df), ',d')))\n",
    "\n",
    "part_df.to_pickle(pickle_directory + 'part_df.pkl')\n",
    "dyad_df.to_pickle(pickle_directory + 'dyad_df.pkl')\n",
    "war_df.to_pickle(pickle_directory + 'war_df.pkl')"
   ]
  },
  {
   "cell_type": "code",
   "execution_count": 12,
   "metadata": {},
   "outputs": [],
   "source": [
    "part_df = pd.read_pickle(pickle_directory + 'part_df.pkl')\n",
    "dyad_df = pd.read_pickle(pickle_directory + 'dyad_df.pkl')\n",
    "war_df = pd.read_pickle(pickle_directory + 'war_df.pkl')"
   ]
  },
  {
   "cell_type": "markdown",
   "metadata": {},
   "source": [
    "## JSON Export for D3.js Processing"
   ]
  },
  {
   "cell_type": "code",
   "execution_count": 13,
   "metadata": {
    "code_folding": [],
    "scrolled": true
   },
   "outputs": [
    {
     "name": "stdout",
     "output_type": "stream",
     "text": [
      "\n",
      "Updating/recreating one JSON file per war_num.\n",
      "JSON Files to be Rewritten: 678\n",
      "\n",
      "Floating Node in Africa's World War: Rwanda\n",
      "Floating Node in Africa's World War: Burundi\n",
      "Floating Node in Africa's World War: Uganda\n",
      "Floating Node in Fourth Lebanese War: Iran\n",
      "Floating Node in Fourth Lebanese War: Syria\n",
      "Floating Node in Chad - FAN War: France\n",
      "Floating Node in Chad - FAN War: Democratic Republic of the Congo\n",
      "Floating Node in Spanish Civil War: Portugal\n",
      "Floating Node in Spanish Civil War: Germany\n",
      "Floating Node in Spanish Civil War: Italy\n",
      "Floating Node in World War I: Japan\n",
      "\n",
      "Completed JSON File Updates.\n",
      "\n",
      "Updating war_file_list.csv\n",
      "\n",
      "Completed war_file_list update.\n"
     ]
    }
   ],
   "source": [
    "war_column_list = deepcopy(list(war_df.columns))\n",
    "## dropping fields that won't be needed in the participant section of the json file\n",
    "## values may also differ between those in part_df and war_df.\n",
    "## those in war_df have undergone additional preprocessing.\n",
    "part_column_list = deepcopy(list(part_df.drop(['war_num',\n",
    "                                               'war_name',\n",
    "                                               'war_type',\n",
    "                                               'war_sub_type',\n",
    "                                               'total_deaths_both_sides_z'], axis=1).columns))\n",
    "## dropping fields that won't be needed in the dyad section of the json file\n",
    "dyad_column_list = deepcopy(list(dyad_df.drop(['war_num',\n",
    "                                               'c_code_a',\n",
    "                                               'c_code_b',\n",
    "                                               'conflict_pair',\n",
    "                                               'side_a',\n",
    "                                               'side_b',\n",
    "                                               'participant_a',\n",
    "                                               'participant_b'], axis=1).columns))\n",
    "\n",
    "print('\\nUpdating/recreating one JSON file per war_num.')\n",
    "print('JSON Files to be Rewritten: {}\\n'.format(format(len(war_df), ',d')))\n",
    "\n",
    "for i, war in enumerate(war_df['war_num']):\n",
    "    \n",
    "    file_name = deepcopy('war_num_' + str(war).replace('.', '_') + '.json')\n",
    "    ## need to filter by war here because i does not follow the sorting of the dataframe\n",
    "    war_df.loc[war_df['war_num']==war, 'file_name'] = file_name\n",
    "    ## rewriting all of the files each time\n",
    "    graph_file = open(csv_output_directory + 'json_files_by_war/' + file_name, 'w').close()\n",
    "    graph_file = open(csv_output_directory + 'json_files_by_war/' + file_name, 'w')\n",
    "    \n",
    "    part_df_copy = deepcopy(part_df[part_df['war_num']==war].reset_index(drop=True))\n",
    "    dyad_df_copy = deepcopy(dyad_df[dyad_df['war_num']==war].reset_index(drop=True))\n",
    "    war_df_copy = deepcopy(war_df[war_df['war_num']==war].reset_index(drop=True))\n",
    "    \n",
    "    if len(part_df_copy)==0:\n",
    "        print('No participants for war_num {} ({}), {} dyads'.format(war, war_df_copy.loc[0, 'war_name'], len(part_df_copy)))\n",
    "    if len(dyad_df_copy)==0:\n",
    "        print('No dyads for war_num {} ({}), {} participants'.format(war, war_df_copy.loc[0, 'war_name'], len(part_df_copy)))\n",
    "        \n",
    "    war_line = ''\n",
    "    for i, column in enumerate(war_column_list):\n",
    "        if i==0:\n",
    "            war_line = deepcopy(war_line + '\"' + column + '\": \"' + str(war_df_copy.loc[0, column]))\n",
    "        else:\n",
    "            war_line = deepcopy(war_line + '\", \"' + column + '\": \"' + str(war_df_copy.loc[0, column]))\n",
    "\n",
    "    graph_file.write('{\\n  \"war\": [\\n    {' + war_line + '\"}\\n')\n",
    "\n",
    "    node_names = []\n",
    "    sides = []\n",
    "    for i, participant in enumerate(part_df_copy['participant']):\n",
    "        ## assigning the input based on whether a c_code is available\n",
    "        ## this will be used to link part_df_copy to the dyad_df_copy\n",
    "        ## (since c_code is not always availablen and participant names are not standardized)\n",
    "        c_code_input = part_df_copy.loc[i, 'c_code']\n",
    "        if str(c_code_input)[0] in str(np.arange(0, 10)):\n",
    "            node_names.append(part_df_copy.loc[i, 'c_code'])\n",
    "        else:\n",
    "            node_names.append(participant)\n",
    "        sides.append(part_df_copy.loc[i, 'side'])\n",
    "        \n",
    "    participant_line = ''\n",
    "    for i, participant in enumerate(part_df_copy['participant']):\n",
    "        ## this process begins the writing of the file and is completely separate from the one above\n",
    "        participant_line = deepcopy(participant_line + '    {\"id\": \"' + str(i))\n",
    "        for column in part_column_list:\n",
    "            participant_line = deepcopy(participant_line + '\", \"' + column + '\": \"' + str(part_df_copy.loc[i, column]))\n",
    "        participant_line = deepcopy(participant_line + '\"},\\n')\n",
    "\n",
    "    graph_file.write('  ],\\n  \"nodes\": [\\n' + participant_line[:-2] + '\\n')\n",
    "\n",
    "    link_line = ''\n",
    "    dyad_inputs = []\n",
    "    for i, node_1 in enumerate(dyad_df_copy['c_code_a']):\n",
    "        ## assigning the input based on whether a c_code is available\n",
    "        if str(node_1)[0] in str(np.arange(0, 10)):\n",
    "            node_1_input = node_1\n",
    "            dyad_inputs.append(node_1)\n",
    "        else:\n",
    "            node_1_input = dyad_df_copy.loc[i, 'participant_a']\n",
    "            dyad_inputs.append(node_1_input)\n",
    "        ## assigning the input based on whether a c_code is available\n",
    "        if str(dyad_df_copy.loc[i, 'c_code_b'])[0] in str(np.arange(0, 10)):\n",
    "            node_2_input = dyad_df_copy.loc[i, 'c_code_b']\n",
    "            dyad_inputs.append(node_2_input)\n",
    "        else:\n",
    "            node_2_input = dyad_df_copy.loc[i, 'participant_b']\n",
    "            dyad_inputs.append(node_2_input)\n",
    "        ## sometimes a country could be in the dyad and not in the participant df_copy.\n",
    "        ## this is rare but has happened (see Spain in WWII)\n",
    "        ## should be taken care of in processes above, so checking below to see if that process failed\n",
    "        if node_1_input not in node_names:\n",
    "            print(\"Participant Missing in Dyadic Data: {} ({}) for {}.\".format(dyad_df_copy.loc[i, 'participant_a'], int(dyad_df_copy.loc[i, 'c_code_a']), war_df_copy.loc[0, 'war_name']))   \n",
    "        elif node_2_input not in node_names:\n",
    "            print(\"Participant Missing in Dyadic Data: {} {} for {}.\".format(dyad_df_copy.loc[i, 'participant_b'], int(dyad_df_copy.loc[i, 'c_code_b']), war_df_copy.loc[0, 'war_name']))   \n",
    "        else:\n",
    "            link_line = deepcopy(link_line\n",
    "                + '    {\"source\": \"' + str(node_names.index(node_1_input))\n",
    "                + '\", \"target\": \"' + str(node_names.index(node_2_input)))\n",
    "            for column in dyad_column_list:\n",
    "                link_line = deepcopy(link_line + '\", \"' + column + '\": \"' + str(dyad_df_copy.loc[i, column]))\n",
    "            link_line = deepcopy(link_line + '\"},\\n')\n",
    "            ## checking for any dyads that are paired with participants on the same side as them\n",
    "            ## this would most likely suggest a mistake in pre-processing\n",
    "            ## does not apply to side 3 (switched sides)\n",
    "            if sides[node_names.index(node_1_input)]==sides[node_names.index(node_2_input)] and sides[node_names.index(node_1_input)]!=3:\n",
    "                print('Dyads on the Same Side: {} {} and {} {} for {}.'.format(dyad_df_copy.loc[i, 'participant_a'], int(dyad_df_copy.loc[i, 'c_code_a']), dyad_df_copy.loc[i, 'participant_b'], int(dyad_df_copy.loc[i, 'c_code_b']), war_df_copy.loc[0, 'war_name']))   \n",
    "                         \n",
    "    graph_file.write('  ],\\n  \"links\": [\\n' + link_line[:-2] + '\\n\\n  ]\\n}')\n",
    "\n",
    "    for node in node_names:\n",
    "        if node not in dyad_inputs:\n",
    "            if int(str(node)[0]) in np.arange(0, 10):\n",
    "                print('Floating Node in {}: {}'.format(war_df_copy.loc[0, 'war_name'],\n",
    "                                                       c_code_dic[node]))\n",
    "            else:\n",
    "                print('Floating Node in {}: {}'.format(war_df_copy.loc[0, 'war_name'],\n",
    "                                                       node))\n",
    "                \n",
    "print('\\nCompleted JSON File Updates.')\n",
    "\n",
    "print('\\nUpdating war_file_list.csv')\n",
    "war_df.to_csv(csv_output_directory + 'war_file_list.csv', index=None)\n",
    "print('\\nCompleted war_file_list update.')"
   ]
  },
  {
   "cell_type": "code",
   "execution_count": null,
   "metadata": {},
   "outputs": [],
   "source": []
  },
  {
   "cell_type": "code",
   "execution_count": null,
   "metadata": {},
   "outputs": [],
   "source": []
  },
  {
   "cell_type": "code",
   "execution_count": null,
   "metadata": {},
   "outputs": [],
   "source": []
  }
 ],
 "metadata": {
  "kernelspec": {
   "display_name": "Python 3",
   "language": "python",
   "name": "python3"
  },
  "language_info": {
   "codemirror_mode": {
    "name": "ipython",
    "version": 3
   },
   "file_extension": ".py",
   "mimetype": "text/x-python",
   "name": "python",
   "nbconvert_exporter": "python",
   "pygments_lexer": "ipython3",
   "version": "3.9.2"
  }
 },
 "nbformat": 4,
 "nbformat_minor": 2
}
