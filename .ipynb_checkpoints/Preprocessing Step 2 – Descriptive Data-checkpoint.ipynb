{
 "cells": [
  {
   "cell_type": "code",
   "execution_count": 1,
   "metadata": {},
   "outputs": [],
   "source": [
    "import pandas as pd\n",
    "import numpy as np\n",
    "from pandasql import sqldf\n",
    "pysqldf = lambda q: sqldf(q, globals())\n",
    "from copy import deepcopy\n",
    "from traceback import format_exc\n",
    "# from pprint import pprint\n",
    "import the_networks_of_war_python_functions"
   ]
  },
  {
   "cell_type": "code",
   "execution_count": 2,
   "metadata": {},
   "outputs": [],
   "source": [
    "pd.set_option('display.max_columns', None)\n",
    "pd.set_option('display.float_format', lambda x: '%.5f' % x)"
   ]
  },
  {
   "cell_type": "code",
   "execution_count": 3,
   "metadata": {},
   "outputs": [],
   "source": [
    "csv_directory = '/Users/charlieyaris/Personal/data_sources/the_networks_of_war/csvs/'\n",
    "pickle_directory = '/Users/charlieyaris/Personal/data_sources/the_networks_of_war/pickles/'"
   ]
  },
  {
   "cell_type": "code",
   "execution_count": 4,
   "metadata": {},
   "outputs": [],
   "source": [
    "c_code_df = pd.read_csv(csv_directory + 'COW country codes.csv', encoding='latin-1')\n",
    "\n",
    "query_text = \"\"\"\n",
    "\n",
    "select\n",
    "    ccode as c_code,\n",
    "    statenme as state_name,\n",
    "    stateabb as state_name_abbreviation\n",
    "from c_code_df\n",
    "group by 1, 2, 3\n",
    "\n",
    "\"\"\"\n",
    "\n",
    "c_code_df = deepcopy(pysqldf(query_text))"
   ]
  },
  {
   "cell_type": "markdown",
   "metadata": {},
   "source": [
    "# Descriptive Statistics for Each Country by Year\n",
    "### Note: Applies to states/countries only.\n",
    "### This will be joined to the participants of each war"
   ]
  },
  {
   "cell_type": "markdown",
   "metadata": {},
   "source": [
    "### First, defining the participants by year to exclude any countries/years that will not be needed later on."
   ]
  },
  {
   "cell_type": "code",
   "execution_count": 5,
   "metadata": {},
   "outputs": [],
   "source": [
    "## adjusting dyadic alliance data to become one country by year\n",
    "alliance_df = pd.read_csv(csv_directory + 'alliance_v4.1_by_dyad_yearly.csv')\n",
    "\n",
    "query_text = \"\"\"\n",
    "\n",
    "with\n",
    "\n",
    "alliance_union_table as (\n",
    "\n",
    "    select\n",
    "        year,\n",
    "        ccode1 as c_code_a,\n",
    "        ccode2 as c_code_b\n",
    "    from alliance_df\n",
    "    group by 1, 2, 3\n",
    "    union\n",
    "    select\n",
    "        year,\n",
    "        ccode2 as c_code_a,\n",
    "        ccode1 as c_code_b\n",
    "    from alliance_df\n",
    "    group by 1, 2, 3)\n",
    "\n",
    "select\n",
    "    year,\n",
    "    c_code_a as c_code,\n",
    "    count(distinct c_code_b) as allied_countries\n",
    "from alliance_union_table\n",
    "group by 1, 2\n",
    "\n",
    "\"\"\"\n",
    "\n",
    "alliance_grouped_df = deepcopy(pysqldf(query_text))"
   ]
  },
  {
   "cell_type": "code",
   "execution_count": 6,
   "metadata": {
    "scrolled": false
   },
   "outputs": [],
   "source": [
    "## adjusting dyadic trade data to become one country by year\n",
    "trade_df1 = pd.read_csv(csv_directory + 'Dyadic_COW_4.0.csv')\n",
    "\n",
    "query_text = \"\"\"\n",
    "\n",
    "with\n",
    "    \n",
    "trade_union_table as (\n",
    "\n",
    "    select\n",
    "        year,\n",
    "        ccode1 as c_code_a,\n",
    "        ccode2 as c_code_b,\n",
    "        max(coalesce(flow1, 0), 0) as money_flow_in,\n",
    "        max(coalesce(flow2, 0), 0) as money_flow_out\n",
    "    from trade_df1\n",
    "    where\n",
    "        flow1 > 0\n",
    "        or flow2 > 0\n",
    "    group by 1, 2, 3, 4, 5\n",
    "    union\n",
    "    select\n",
    "        year,\n",
    "        ccode2 as c_code_a,\n",
    "        ccode1 as c_code_b,\n",
    "        max(coalesce(flow2, 0), 0) as money_flow_in,\n",
    "        max(coalesce(flow1, 0), 0) as money_flow_out\n",
    "    from trade_df1\n",
    "    where\n",
    "        flow1 > 0\n",
    "        or flow2 > 0\n",
    "    group by 1, 2, 3, 4, 5),\n",
    "    \n",
    "c_code_count_table as (\n",
    "\n",
    "    select\n",
    "        year,\n",
    "        count(distinct c_code_a) as c_codes_in_year\n",
    "    from trade_union_table\n",
    "    group by 1)\n",
    "\n",
    "select\n",
    "    a.year,\n",
    "    a.c_code_a as c_code,\n",
    "    sum(a.money_flow_in) as money_flow_in,\n",
    "    sum(a.money_flow_out) as money_flow_out,\n",
    "    count(distinct a.c_code_b) as trade_countries\n",
    "from trade_union_table a\n",
    "left join c_code_count_table b on a.year = b.year\n",
    "group by 1, 2, b.c_codes_in_year\n",
    "\n",
    "\"\"\"\n",
    "\n",
    "#     b.c_codes_in_year,\n",
    "#     rank() over(partition by a.year order by sum(a.money_flow_in) desc) as rank_money_flow_in,\n",
    "#     rank() over(partition by a.year order by sum(a.money_flow_out) desc) as rank_money_flow_out,\n",
    "#     rank() over(partition by a.year order by count(distinct a.c_code_b) desc) as rank_trade_countries\n",
    "\n",
    "trade_grouped_df1 = deepcopy(pysqldf(query_text))"
   ]
  },
  {
   "cell_type": "code",
   "execution_count": 7,
   "metadata": {},
   "outputs": [],
   "source": [
    "# trade_grouped_df1[trade_grouped_df1['year']==2014]"
   ]
  },
  {
   "cell_type": "code",
   "execution_count": 8,
   "metadata": {},
   "outputs": [],
   "source": [
    "## adjusting dyadic trade data to become one country by year\n",
    "trade_df2 = pd.read_csv(csv_directory + 'National_COW_4.0.csv', encoding='latin-1')\n",
    "\n",
    "query_text = \"\"\"\n",
    "\n",
    "select\n",
    "    year,\n",
    "    ccode as c_code,\n",
    "    sum(max(coalesce(imports, 0), 0)) as imports,\n",
    "    sum(max(coalesce(exports, 0), 0)) as exports\n",
    "from trade_df2\n",
    "where\n",
    "    imports > 0\n",
    "    or exports > 0\n",
    "group by 1, 2\n",
    "\n",
    "\"\"\"\n",
    "\n",
    "trade_grouped_df2 = deepcopy(pysqldf(query_text))"
   ]
  },
  {
   "cell_type": "code",
   "execution_count": 9,
   "metadata": {},
   "outputs": [],
   "source": [
    "nmc_df = pd.read_csv(csv_directory + 'NMC_5_0-wsupplementary.csv', encoding='latin-1')\n",
    "\n",
    "query_text = \"\"\"\n",
    "\n",
    "select\n",
    "    year,\n",
    "    ccode as c_code,\n",
    "    milex as military_expenditure,\n",
    "    milper as military_personnel,\n",
    "    irst as iron_steel_production,\n",
    "    pec as energy_consumption,\n",
    "    tpop as population,\n",
    "    upop as urban_population,\n",
    "    upopgrowth as urban_population_growth_rate,\n",
    "    cinc as cinc_score\n",
    "from nmc_df\n",
    "group by 1, 2, 3, 4, 5, 6, 7, 8, 9, 10\n",
    "\n",
    "\"\"\"\n",
    "\n",
    "nmc_df = deepcopy(pysqldf(query_text))"
   ]
  },
  {
   "cell_type": "code",
   "execution_count": 10,
   "metadata": {},
   "outputs": [],
   "source": [
    "tc_df = pd.read_csv(csv_directory + 'tc2018.csv', encoding='latin-1')\n",
    "\n",
    "query_text = \"\"\"\n",
    "\n",
    "select\n",
    "    year,\n",
    "    gainer as c_code,\n",
    "    sum(max(area, 0)) as land_mass_exchange_gain,\n",
    "    sum(max(pop, 0)) as population_exchange_gain,\n",
    "    0 as land_mass_exchange_loss,\n",
    "    0 as population_exchange_loss\n",
    "from tc_df\n",
    "group by 1, 2, 5, 6\n",
    "union\n",
    "select\n",
    "    year,\n",
    "    loser as c_code,\n",
    "    0 as land_mass_exchange_gain,\n",
    "    0 as population_exchange_gain,\n",
    "    sum(max(area, 0)) as land_mass_exchange_loss,\n",
    "    sum(max(pop, 0)) as population_exchange_loss\n",
    "from tc_df\n",
    "group by 1, 2, 3, 4\n",
    "\n",
    "\"\"\"\n",
    "\n",
    "tc_df = deepcopy(pysqldf(query_text))"
   ]
  },
  {
   "cell_type": "code",
   "execution_count": 11,
   "metadata": {},
   "outputs": [],
   "source": [
    "# https://www.systemicpeace.org/inscrdata.html\n",
    "# Forcibly Displaced Populations, 1946-2018\n",
    "dp_df = pd.read_csv(csv_directory + 'FDP2008a.csv', encoding='latin-1')\n",
    "\n",
    "query_text = \"\"\"\n",
    "    \n",
    "    select\n",
    "        year,\n",
    "        ccode as c_code,\n",
    "        source as refugees_originated,\n",
    "        host as refugees_hosted,\n",
    "        idp as internally_displaced_persons\n",
    "    from dp_df\n",
    "    group by 1, 2, 3, 4, 5\n",
    "\n",
    "\"\"\"\n",
    "\n",
    "dp_df = deepcopy(pysqldf(query_text))"
   ]
  },
  {
   "cell_type": "code",
   "execution_count": 12,
   "metadata": {},
   "outputs": [],
   "source": [
    "# # https://www.systemicpeace.org/inscrdata.html\n",
    "# # High Casualty Terrorist Bombings (HCTB), March 11, 1998 - March 10, 2020\n",
    "hctb_df = pd.read_csv(csv_directory + 'HCTBMar2020list.csv', encoding='latin-1')\n",
    "\n",
    "query_text = \"\"\"\n",
    "\n",
    "    select\n",
    "        a.year,\n",
    "        c.c_code,\n",
    "        sum(a.death) as terrorist_bombing_deaths\n",
    "    from hctb_df a\n",
    "    left join c_code_df c on case when a.loc = 'USR' then 'RUS' else replace(a.loc, ' ', '') end = c.state_name_abbreviation\n",
    "    group by 1, 2\n",
    "\n",
    "\"\"\"\n",
    "\n",
    "hctb_df = deepcopy(pysqldf(query_text))"
   ]
  },
  {
   "cell_type": "code",
   "execution_count": 13,
   "metadata": {},
   "outputs": [],
   "source": [
    "# ## not sure that this one is worth the trouble because ccodes are not included\n",
    "# part_df_4 = pd.read_csv(csv_directory + 'co-emissions-per-capita.csv', encoding='latin-1')"
   ]
  },
  {
   "cell_type": "code",
   "execution_count": 14,
   "metadata": {},
   "outputs": [],
   "source": [
    "years_df = pd.DataFrame(np.arange(1500, 2100), columns=['year'])\n",
    "## including start and end years since that's how participant data will be joined in step 3\n",
    "## getting a dataframe for all years between two participant's start and end years.\n",
    "part_df = pd.read_pickle(pickle_directory + 'initial_part_df.pkl')\n",
    "part_df['c_code'] = part_df['c_code'].astype(int)\n",
    "part_df.rename({'battle_deaths': 'battle_deaths_z',\n",
    "#                 'deaths_both_sides': 'deaths_both_sides_z',\n",
    "                'peak_battle_forces': 'peak_battle_forces_z',\n",
    "                'peak_forces_available': 'peak_forces_available_z'}, axis=1, inplace=True)\n",
    "\n",
    "query_text = \"\"\"\n",
    "\n",
    "select\n",
    "    a.*,\n",
    "    y.year\n",
    "from part_df a\n",
    "inner join years_df y on y.year between a.start_year and a.end_year\n",
    "\n",
    "\"\"\"\n",
    "\n",
    "part_df = deepcopy(pysqldf(query_text))"
   ]
  },
  {
   "cell_type": "code",
   "execution_count": 15,
   "metadata": {},
   "outputs": [],
   "source": [
    "part_desc_df = pd.DataFrame()\n",
    "\n",
    "for i, iteration in enumerate(list(np.arange(1, 4))):\n",
    "    if i==0:\n",
    "        part_desc_join_df = part_df[part_df['start_year']==part_df['year']].reset_index(drop=True)\n",
    "    elif i==1:\n",
    "        part_desc_join_df = part_df[part_df['end_year']==part_df['year']].reset_index(drop=True)\n",
    "    else:\n",
    "        part_desc_join_df = part_df\n",
    "\n",
    "    query_text = \"\"\"\n",
    "\n",
    "    select\n",
    "        a.war_num,\n",
    "        a.war_name,\n",
    "        a.c_code,\n",
    "        round(avg(al.allied_countries), 2) as allied_countries,\n",
    "        round(avg(t1.trade_countries), 2) as trade_countries,\n",
    "        round(avg(t1.money_flow_in), 2) as money_flow_in,\n",
    "        round(avg(t1.money_flow_out), 2) as money_flow_out,\n",
    "        round(avg(t2.imports), 2) as imports,\n",
    "        round(avg(t2.exports), 2) as exports,\n",
    "        round(avg(nm.military_expenditure), 2) as military_expenditure,\n",
    "        round(avg(nm.military_personnel), 2) as military_personnel,\n",
    "        round(avg(nm.iron_steel_production), 2) as iron_steel_production,\n",
    "        round(avg(nm.energy_consumption), 2) as energy_consumption,\n",
    "        round(avg(nm.population), 2) as population,\n",
    "        round(avg(nm.urban_population), 2) as urban_population,\n",
    "        avg(nm.urban_population_growth_rate) as urban_population_growth_rate,\n",
    "        avg(nm.cinc_score) as cinc_score,\n",
    "        round(avg(tc.land_mass_exchange_gain), 2) as land_mass_exchange_gain,\n",
    "        round(avg(tc.population_exchange_gain), 2) as population_exchange_gain,\n",
    "        round(avg(tc.land_mass_exchange_loss), 2) as land_mass_exchange_loss,\n",
    "        round(avg(tc.population_exchange_loss), 2) as population_exchange_loss,\n",
    "        round(avg(dp.refugees_originated), 2) as refugees_originated,\n",
    "        round(avg(dp.refugees_hosted), 2) as refugees_hosted, \n",
    "        round(avg(dp.internally_displaced_persons), 2) as internally_displaced_persons,\n",
    "        round(avg(hc.terrorist_bombing_deaths), 2) as terrorist_bombing_deaths\n",
    "    from part_desc_join_df a\n",
    "    left join alliance_grouped_df al on a.c_code = al.c_code and a.year = al.year\n",
    "    left join trade_grouped_df1 t1 on a.c_code = t1.c_code and a.year = t1.year\n",
    "    left join trade_grouped_df2 t2 on a.c_code = t2.c_code and a.year = t2.year\n",
    "    left join nmc_df nm on a.c_code = nm.c_code and a.year = nm.year\n",
    "    left join tc_df tc on a.c_code = tc.c_code and a.year = tc.year\n",
    "    left join dp_df dp on a.c_code = dp.c_code and a.year = dp.year\n",
    "    left join hctb_df hc on a.c_code = hc.c_code and a.year = hc.year\n",
    "    where\n",
    "        a.c_code > 0\n",
    "    group by 1, 2, 3\n",
    "\n",
    "    \"\"\"\n",
    "\n",
    "    part_desc_temp_df = deepcopy(pysqldf(query_text))\n",
    "    \n",
    "    for column in list(part_desc_temp_df.columns):\n",
    "        if column not in list(part_df.columns):\n",
    "            if i==0:\n",
    "                part_desc_temp_df.rename({column: column + '_x'}, axis = 1, inplace = True)\n",
    "            elif i==1:\n",
    "                part_desc_temp_df.rename({column: column + '_y'}, axis = 1, inplace = True)\n",
    "            else:\n",
    "                part_desc_temp_df.rename({column: column + '_z'}, axis = 1, inplace = True)\n",
    "        \n",
    "    if i==0:\n",
    "        part_desc_df = part_desc_temp_df\n",
    "    else:\n",
    "        part_desc_df = deepcopy(pd.merge(part_desc_df, part_desc_temp_df, how='outer', on=['war_num',\n",
    "                                                                                           'war_name',\n",
    "                                                                                           'c_code']))"
   ]
  },
  {
   "cell_type": "code",
   "execution_count": 16,
   "metadata": {},
   "outputs": [
    {
     "name": "stdout",
     "output_type": "stream",
     "text": [
      "Total Rows of Descriptive/Yearly Participant Data: 1,715\n"
     ]
    }
   ],
   "source": [
    "part_df.drop('year', axis = 1, inplace = True)\n",
    "part_df.drop_duplicates(subset=list(part_df.columns), keep='first', inplace=True)\n",
    "part_desc_df = deepcopy(pd.merge(part_df, part_desc_df, how='outer', on=['war_num', 'war_name', 'c_code']))\n",
    "\n",
    "print('Total Rows of Descriptive/Yearly Participant Data: {}'.format(format(len(part_desc_df), ',d')))\n",
    "part_desc_df.to_pickle(pickle_directory + 'participant_descriptive_df.pkl')"
   ]
  },
  {
   "cell_type": "markdown",
   "metadata": {},
   "source": [
    "# Descriptive Statistics for Each Dyad by Year\n",
    "### Note: Applies to states/countries only.\n",
    "### This will be joined to the dyadic pairs for each war"
   ]
  },
  {
   "cell_type": "markdown",
   "metadata": {},
   "source": [
    "### First, defining the dyads by year to exclude any countries/years that will not be needed later on."
   ]
  },
  {
   "cell_type": "code",
   "execution_count": 17,
   "metadata": {},
   "outputs": [
    {
     "name": "stdout",
     "output_type": "stream",
     "text": [
      "Total Unique Dyadic Years in Initial Data: 5,576\n"
     ]
    }
   ],
   "source": [
    "dyad_df = pd.read_pickle(pickle_directory + 'initial_dyad_df.pkl')\n",
    "initial_dyad_columns = deepcopy(list(dyad_df.columns))\n",
    "\n",
    "print('Total Unique Dyadic Years in Initial Data: {}'.format(format(int(len(dyad_df)/2), ',d')))"
   ]
  },
  {
   "cell_type": "markdown",
   "metadata": {},
   "source": [
    "### Correlates of War Descriptive Data"
   ]
  },
  {
   "cell_type": "code",
   "execution_count": 18,
   "metadata": {},
   "outputs": [
    {
     "name": "stdout",
     "output_type": "stream",
     "text": [
      "Counting Total Dyadic Year Combinations by Descriptive Field\n",
      "\n",
      "inter_governmental_organizations 1378\n",
      "                      contiguity  654\n",
      "                 trade_relations  554\n",
      "  defense_cooperation_agreements  244\n",
      "             diplomatic_exchange  236\n",
      "             colonial_contiguity  171\n",
      "                        alliance  129\n",
      "              territory_exchange  112\n"
     ]
    }
   ],
   "source": [
    "print('Counting Total Dyadic Year Combinations by Descriptive Field\\n')\n",
    "descriptive_columns = deepcopy(set(list(dyad_df.columns)))\n",
    "\n",
    "## lot's to use in this dataset so I'll start with the basics\n",
    "data_source = csv_directory + 'tc2018.csv'\n",
    "descriptive_df_2 = deepcopy(the_networks_of_war_python_functions.descriptive_dyad_from_source(dyad_df, data_source, None, None, 'gainer', 'loser', 'year', 'territory_exchange'))\n",
    "\n",
    "## contiguity dataframe for states of colonial dependencies\n",
    "data_source = csv_directory + 'contcold.csv'\n",
    "descriptive_df_2 = deepcopy(the_networks_of_war_python_functions.descriptive_dyad_from_source(descriptive_df_2, data_source, None, None, 'statelno', 'statehno', 'year', 'colonial_contiguity'))\n",
    "\n",
    "data_source = csv_directory + 'contdird.csv'\n",
    "descriptive_df_2 = deepcopy(the_networks_of_war_python_functions.descriptive_dyad_from_source(descriptive_df_2, data_source, None, None, 'state1no', 'state2no', 'year', 'contiguity'))\n",
    "\n",
    "data_source = csv_directory + 'alliance_v4.1_by_dyad_yearly.csv'\n",
    "descriptive_df_2 = deepcopy(the_networks_of_war_python_functions.descriptive_dyad_from_source(descriptive_df_2, data_source, None, None, 'ccode1', 'ccode2', 'year', 'alliance'))\n",
    "\n",
    "data_source = csv_directory + 'DCAD-v1.0-dyadic.csv'\n",
    "descriptive_df_2 = deepcopy(the_networks_of_war_python_functions.descriptive_dyad_from_source(descriptive_df_2, data_source, None, None, 'ccode1', 'ccode2', 'year', 'defense_cooperation_agreements'))\n",
    "\n",
    "## must have at least one joined by both states in order to be included\n",
    "data_source = csv_directory + 'dyadic_formatv3.csv'\n",
    "descriptive_df_2 = deepcopy(the_networks_of_war_python_functions.descriptive_dyad_from_source(descriptive_df_2, data_source, None, None, 'ccode1', 'ccode2', 'year', 'inter_governmental_organizations'))\n",
    "\n",
    "## this one needs to be filled since its only 5 years\n",
    "data_source = csv_directory + 'Diplomatic_Exchange_2006v1.csv'\n",
    "descriptive_df_2 = deepcopy(the_networks_of_war_python_functions.descriptive_dyad_from_source(descriptive_df_2, data_source, None, None, 'ccode1', 'ccode2', 'year', 'diplomatic_exchange'))\n",
    "\n",
    "## only including countries with trade data present.\n",
    "trade_df = pd.read_csv(csv_directory + 'Dyadic_COW_4.0.csv')\n",
    "trade_df = deepcopy(trade_df[(trade_df['flow1']>0) | (trade_df['flow2']>0)].reset_index(drop=True))\n",
    "descriptive_df_2 = deepcopy(the_networks_of_war_python_functions.descriptive_dyad_from_source(descriptive_df_2, None, trade_df, None, 'ccode1', 'ccode2', 'year', 'trade_relations'))\n",
    "\n",
    "the_networks_of_war_python_functions.print_new_fields(descriptive_df_2, descriptive_columns, None)"
   ]
  },
  {
   "cell_type": "markdown",
   "metadata": {},
   "source": [
    "### Non-Correlates of War Descriptive Data"
   ]
  },
  {
   "cell_type": "markdown",
   "metadata": {},
   "source": [
    "### Setting up processing of 'ddrevisited_data_v1'"
   ]
  },
  {
   "cell_type": "code",
   "execution_count": 31,
   "metadata": {},
   "outputs": [],
   "source": [
    "dd_df1 = pd.read_csv(csv_directory + 'ddrevisited_data_v1.csv', encoding='latin-1')\n",
    "dd_df2 = deepcopy(dd_df1)\n",
    "## including columns that need to be included later on (that don't need name changes)\n",
    "dd_df_renaming = {'cowcode': 'c_code',\n",
    "                  'emil': 'military_leader',\n",
    "                  'royal': 'royal_leader',\n",
    "                  'comm': 'communist_leader',\n",
    "                  'democracy': 'democratic_regime',\n",
    "                  'collect': 'collective_leadership',\n",
    "                  'regime': 'regime_type',\n",
    "                  'incumb': 'incumbent_type',\n",
    "                  'exselec': 'election_type',\n",
    "                  'legselec': 'legislature_type_1',\n",
    "                  'closed': 'legislature_type_2',\n",
    "                  'lparty': 'legislature_party_status',\n",
    "                  'dejure': 'party_legal_status',\n",
    "                  'defacto': 'party_existance_1',\n",
    "                  'defacto2': 'party_existance_2',\n",
    "                  'year': 'year'}\n",
    "dd_df1.rename(dd_df_renaming, axis=1, inplace=True)\n",
    "dd_df1 = deepcopy(dd_df1[list(dd_df_renaming.values())])\n",
    "dd_df1 = deepcopy(dd_df1[dd_df1['c_code'].isnull()==False].reset_index(drop=True))\n",
    "\n",
    "del dd_df_renaming['cowcode']\n",
    "dd_df_renaming['cowcode2'] = 'c_code'\n",
    "dd_df2.rename(dd_df_renaming, axis=1, inplace=True)\n",
    "dd_df2 = deepcopy(dd_df2[list(dd_df_renaming.values())])\n",
    "dd_df2 = deepcopy(dd_df2[dd_df2['c_code'].isnull()==False].reset_index(drop=True))\n",
    "\n",
    "dd_df = deepcopy(pd.concat([dd_df1, dd_df2], sort=True, ignore_index=True))\n",
    "\n",
    "dd_df1 = deepcopy(dd_df)\n",
    "dd_df2 = deepcopy(dd_df)\n",
    "\n",
    "for column in dd_df.columns:\n",
    "    if column!='year':\n",
    "        dd_df1.rename({column: column + '_a'}, axis=1, inplace=True)\n",
    "        dd_df2.rename({column: column + '_b'}, axis=1, inplace=True)\n",
    "\n",
    "dd_df = deepcopy(pd.merge(dd_df1, dd_df2, how='outer', on=['year']))\n",
    "## ensuring that c_code_a and c_code_b do not match, and cowcode and cowcode2 (overlapping states) are not joined to each other.\n",
    "dd_df = deepcopy(dd_df[(dd_df['c_code_a'].isnull()==False) & (dd_df['c_code_b'].isnull()==False) & (dd_df['c_code_a']!=dd_df['c_code_b'])].reset_index(drop=True))\n",
    "dd_df = deepcopy(pd.merge(dd_df, dyad_df, how='inner', on=['year', 'c_code_a', 'c_code_b']))\n",
    "dd_df.drop_duplicates(subset=list(dd_df.columns), keep='first', inplace=True)"
   ]
  },
  {
   "cell_type": "code",
   "execution_count": 20,
   "metadata": {},
   "outputs": [
    {
     "name": "stdout",
     "output_type": "stream",
     "text": [
      "Counting Total Dyadic Year Combinations by Descriptive Field\n",
      "\n",
      "                   elective_legislature 430\n",
      "               multi_party_state_exists 294\n",
      "                          dictatorships 264\n",
      "                       same_leader_type 129\n",
      "                    non_elected_leaders 125\n",
      "          multi_party_legislature_legal  81\n",
      "                      indirect_election  74\n",
      "            no_non_regime_parties_exist  65\n",
      "                       military_leaders  53\n",
      "          no_partisan_legislature_legal  40\n",
      "                        direct_election  28\n",
      "                     democratic_regimes  27\n",
      "no_non_regime_legislature_parties_legal  26\n",
      "                       one_party_exists  22\n",
      "                         no_legislature  17\n",
      "                      communist_leaders  15\n",
      "               non_elective_legislature  12\n",
      "              single_party_state_exists   8\n",
      "                    all_parties_illegal   7\n",
      "                       no_parties_exist   2\n",
      "                 collective_leaderships   0\n",
      "                   democratic_incumbent   0\n",
      "                          royal_leaders   0\n",
      "             unconstitutional_incumbent   0\n"
     ]
    }
   ],
   "source": [
    "print('Counting Total Dyadic Year Combinations by Descriptive Field\\n')\n",
    "descriptive_columns = deepcopy(set(list(descriptive_df_2.columns)))\n",
    "\n",
    "conditional_statement = (dd_df['military_leader_a']==dd_df['military_leader_b']) & (dd_df['communist_leader_a']==dd_df['communist_leader_b']) & (dd_df['royal_leader_a']==dd_df['royal_leader_b']) & (dd_df['democratic_regime_a']==dd_df['democratic_regime_b'])\n",
    "descriptive_df_2 = deepcopy(the_networks_of_war_python_functions.descriptive_dyad_from_source(descriptive_df_2, 'conditional', dd_df, conditional_statement, 'c_code_a', 'c_code_b', 'year', 'same_leader_type'))\n",
    "\n",
    "conditional_statement = (dd_df['military_leader_a']==1) & (dd_df['military_leader_b']==1)\n",
    "descriptive_df_2 = deepcopy(the_networks_of_war_python_functions.descriptive_dyad_from_source(descriptive_df_2, 'conditional', dd_df, conditional_statement, 'c_code_a', 'c_code_b', 'year', 'military_leaders'))\n",
    "\n",
    "conditional_statement = (dd_df['communist_leader_a']==1) & (dd_df['communist_leader_b']==1)\n",
    "descriptive_df_2 = deepcopy(the_networks_of_war_python_functions.descriptive_dyad_from_source(descriptive_df_2, 'conditional', dd_df, conditional_statement, 'c_code_a', 'c_code_b', 'year', 'communist_leaders'))\n",
    "\n",
    "conditional_statement = (dd_df['royal_leader_a']==1) & (dd_df['royal_leader_b']==1)\n",
    "descriptive_df_2 = deepcopy(the_networks_of_war_python_functions.descriptive_dyad_from_source(descriptive_df_2, 'conditional', dd_df, conditional_statement, 'c_code_a', 'c_code_b', 'year', 'royal_leaders'))\n",
    "\n",
    "conditional_statement = (dd_df['incumbent_type_a']==1) & (dd_df['incumbent_type_b']==1)\n",
    "descriptive_df_2 = deepcopy(the_networks_of_war_python_functions.descriptive_dyad_from_source(descriptive_df_2, 'conditional', dd_df, conditional_statement, 'c_code_a', 'c_code_b', 'year', 'democratic_incumbent'))\n",
    "\n",
    "conditional_statement = (dd_df['incumbent_type_a']==2) & (dd_df['incumbent_type_b']==2)\n",
    "descriptive_df_2 = deepcopy(the_networks_of_war_python_functions.descriptive_dyad_from_source(descriptive_df_2, 'conditional', dd_df, conditional_statement, 'c_code_a', 'c_code_b', 'year', 'unconstitutional_incumbent'))\n",
    "\n",
    "conditional_statement = ((dd_df['incumbent_type_a']==1) | (dd_df['democratic_regime_a']==1) | (dd_df['regime_type_a']==0) | (dd_df['regime_type_a']==1) | (dd_df['regime_type_a']==2)) & ((dd_df['incumbent_type_b']==1) |(dd_df['democratic_regime_b']==1) | (dd_df['regime_type_b']==0) | (dd_df['regime_type_b']==1) | (dd_df['regime_type_b']==2))\n",
    "descriptive_df_2 = deepcopy(the_networks_of_war_python_functions.descriptive_dyad_from_source(descriptive_df_2, 'conditional', dd_df, conditional_statement, 'c_code_a', 'c_code_b', 'year', 'democratic_regimes'))\n",
    "\n",
    "conditional_statement = ((dd_df['regime_type_a']==3) | (dd_df['regime_type_a']==4) | (dd_df['regime_type_a']==5)) & ((dd_df['regime_type_b']==3) | (dd_df['regime_type_b']==4) | (dd_df['regime_type_b']==5))\n",
    "descriptive_df_2 = deepcopy(the_networks_of_war_python_functions.descriptive_dyad_from_source(descriptive_df_2, 'conditional', dd_df, conditional_statement, 'c_code_a', 'c_code_b', 'year', 'dictatorships'))\n",
    "\n",
    "conditional_statement = (dd_df['collective_leadership_a']==1) & (dd_df['collective_leadership_b']==1)\n",
    "descriptive_df_2 = deepcopy(the_networks_of_war_python_functions.descriptive_dyad_from_source(descriptive_df_2, 'conditional', dd_df, conditional_statement, 'c_code_a', 'c_code_b', 'year', 'collective_leaderships'))\n",
    "\n",
    "conditional_statement = (dd_df['election_type_a']==1) & (dd_df['election_type_b']==1)\n",
    "descriptive_df_2 = deepcopy(the_networks_of_war_python_functions.descriptive_dyad_from_source(descriptive_df_2, 'conditional', dd_df, conditional_statement, 'c_code_a', 'c_code_b', 'year', 'direct_election'))\n",
    "\n",
    "conditional_statement = (dd_df['election_type_a']==2) & (dd_df['election_type_b']==2)\n",
    "descriptive_df_2 = deepcopy(the_networks_of_war_python_functions.descriptive_dyad_from_source(descriptive_df_2, 'conditional', dd_df, conditional_statement, 'c_code_a', 'c_code_b', 'year', 'indirect_election'))\n",
    "\n",
    "conditional_statement = (dd_df['election_type_a']==3) & (dd_df['election_type_b']==3)\n",
    "descriptive_df_2 = deepcopy(the_networks_of_war_python_functions.descriptive_dyad_from_source(descriptive_df_2, 'conditional', dd_df, conditional_statement, 'c_code_a', 'c_code_b', 'year', 'non_elected_leaders'))\n",
    "\n",
    "conditional_statement = (dd_df['legislature_type_1_a']==0) & (dd_df['legislature_type_1_b']==0)\n",
    "descriptive_df_2 = deepcopy(the_networks_of_war_python_functions.descriptive_dyad_from_source(descriptive_df_2, 'conditional', dd_df, conditional_statement, 'c_code_a', 'c_code_b', 'year', 'no_legislature'))\n",
    "\n",
    "conditional_statement = (dd_df['legislature_type_1_a']==1) & (dd_df['legislature_type_1_b']==1)\n",
    "descriptive_df_2 = deepcopy(the_networks_of_war_python_functions.descriptive_dyad_from_source(descriptive_df_2, 'conditional', dd_df, conditional_statement, 'c_code_a', 'c_code_b', 'year', 'non_elective_legislature'))\n",
    "\n",
    "conditional_statement = (dd_df['legislature_type_1_a']==2) & (dd_df['legislature_type_1_b']==2)\n",
    "descriptive_df_2 = deepcopy(the_networks_of_war_python_functions.descriptive_dyad_from_source(descriptive_df_2, 'conditional', dd_df, conditional_statement, 'c_code_a', 'c_code_b', 'year', 'elective_legislature'))\n",
    "\n",
    "conditional_statement = (dd_df['legislature_party_status_a']==0) & (dd_df['legislature_party_status_b']==0)\n",
    "descriptive_df_2 = deepcopy(the_networks_of_war_python_functions.descriptive_dyad_from_source(descriptive_df_2, 'conditional', dd_df, conditional_statement, 'c_code_a', 'c_code_b', 'year', 'no_partisan_legislature_legal'))\n",
    "\n",
    "conditional_statement = (dd_df['legislature_party_status_a']==1) & (dd_df['legislature_party_status_b']==1)\n",
    "descriptive_df_2 = deepcopy(the_networks_of_war_python_functions.descriptive_dyad_from_source(descriptive_df_2, 'conditional', dd_df, conditional_statement, 'c_code_a', 'c_code_b', 'year', 'no_non_regime_legislature_parties_legal'))\n",
    "\n",
    "conditional_statement = (dd_df['legislature_party_status_a']==2) & (dd_df['legislature_party_status_b']==2)\n",
    "descriptive_df_2 = deepcopy(the_networks_of_war_python_functions.descriptive_dyad_from_source(descriptive_df_2, 'conditional', dd_df, conditional_statement, 'c_code_a', 'c_code_b', 'year', 'multi_party_legislature_legal'))\n",
    "\n",
    "conditional_statement = (dd_df['party_legal_status_a']==0) & (dd_df['party_legal_status_b']==0)\n",
    "descriptive_df_2 = deepcopy(the_networks_of_war_python_functions.descriptive_dyad_from_source(descriptive_df_2, 'conditional', dd_df, conditional_statement, 'c_code_a', 'c_code_b', 'year', 'all_parties_illegal'))\n",
    "\n",
    "conditional_statement = (dd_df['party_legal_status_a']==1) & (dd_df['party_legal_status_b']==1)\n",
    "descriptive_df_2 = deepcopy(the_networks_of_war_python_functions.descriptive_dyad_from_source(descriptive_df_2, 'conditional', dd_df, conditional_statement, 'c_code_a', 'c_code_b', 'year', 'single_party_state_exists'))\n",
    "\n",
    "conditional_statement = (dd_df['party_legal_status_a']==2) & (dd_df['party_legal_status_b']==2)\n",
    "descriptive_df_2 = deepcopy(the_networks_of_war_python_functions.descriptive_dyad_from_source(descriptive_df_2, 'conditional', dd_df, conditional_statement, 'c_code_a', 'c_code_b', 'year', 'multi_party_state_exists'))\n",
    "\n",
    "conditional_statement = ((dd_df['party_existance_1_a']==0) & (dd_df['party_existance_1_b']==0)) & ((dd_df['party_existance_2_a']==0) & (dd_df['party_existance_2_b']==0))\n",
    "descriptive_df_2 = deepcopy(the_networks_of_war_python_functions.descriptive_dyad_from_source(descriptive_df_2, 'conditional', dd_df, conditional_statement, 'c_code_a', 'c_code_b', 'year', 'no_parties_exist'))\n",
    "\n",
    "conditional_statement = (dd_df['party_existance_1_a']==1) & (dd_df['party_existance_1_b']==1)\n",
    "descriptive_df_2 = deepcopy(the_networks_of_war_python_functions.descriptive_dyad_from_source(descriptive_df_2, 'conditional', dd_df, conditional_statement, 'c_code_a', 'c_code_b', 'year', 'one_party_exists'))\n",
    "\n",
    "conditional_statement = (dd_df['party_existance_2_a']==1) & (dd_df['party_existance_2_b']==1)\n",
    "descriptive_df_2 = deepcopy(the_networks_of_war_python_functions.descriptive_dyad_from_source(descriptive_df_2, 'conditional', dd_df, conditional_statement, 'c_code_a', 'c_code_b', 'year', 'no_non_regime_parties_exist'))\n",
    "\n",
    "the_networks_of_war_python_functions.print_new_fields(descriptive_df_2, descriptive_columns, None)"
   ]
  },
  {
   "cell_type": "markdown",
   "metadata": {},
   "source": [
    "### Other Non-COW Data Sources"
   ]
  },
  {
   "cell_type": "code",
   "execution_count": 21,
   "metadata": {},
   "outputs": [
    {
     "name": "stdout",
     "output_type": "stream",
     "text": [
      "Counting Total Dyadic Year Combinations by Descriptive Field\n",
      "\n",
      "mtops 784\n",
      " atop 159\n"
     ]
    }
   ],
   "source": [
    "print('Counting Total Dyadic Year Combinations by Descriptive Field\\n')\n",
    "descriptive_columns = deepcopy(set(list(descriptive_df_2.columns)))\n",
    "\n",
    "# Alliance Treaty Obligations and Provisions (ATOP)\n",
    "data_source = csv_directory + 'atop4_01ddyr.csv'\n",
    "descriptive_df_2 = deepcopy(the_networks_of_war_python_functions.descriptive_dyad_from_source(descriptive_df_2, data_source, None, None, 'stateA', 'stateB', 'year', 'atop'))\n",
    "\n",
    "# The ICOW multilateral treaties of pacific settlement (MTOPS)\n",
    "data_source = csv_directory + 'mtopsd150.csv'\n",
    "mtops_dy_df = pd.read_csv(data_source, encoding='utf8')\n",
    "mtops_dy_df['total'] = mtops_dy_df['pacsettg'] + mtops_dy_df['pacsettr'] + mtops_dy_df['pacsett'] + mtops_dy_df['tergen'] + mtops_dy_df['terviol'] + mtops_dy_df['tertot']\n",
    "conditional_statement = (mtops_dy_df['total']>0)\n",
    "descriptive_df_2 = deepcopy(the_networks_of_war_python_functions.descriptive_dyad_from_source(descriptive_df_2, 'conditional', mtops_dy_df, conditional_statement, 'state1', 'state2', 'year', 'mtops'))\n",
    "\n",
    "the_networks_of_war_python_functions.print_new_fields(descriptive_df_2, descriptive_columns, None)"
   ]
  },
  {
   "cell_type": "code",
   "execution_count": 22,
   "metadata": {},
   "outputs": [],
   "source": [
    "start_dy_df = descriptive_df_2[descriptive_df_2['start_year']==descriptive_df_2['year']].reset_index(drop=True)\n",
    "end_dy_df = descriptive_df_2[descriptive_df_2['end_year']==descriptive_df_2['year']].reset_index(drop=True)\n",
    "\n",
    "descriptive_df_2.drop('year', axis=1, inplace=True)\n",
    "initial_dyad_columns.remove('year')\n",
    "\n",
    "aggregations = {}\n",
    "\n",
    "for column in descriptive_df_2.columns:\n",
    "    if column not in initial_dyad_columns:\n",
    "        start_dy_df.rename({column: column + '_x'}, axis=1, inplace=True)\n",
    "        end_dy_df.rename({column: column + '_y'}, axis=1, inplace=True)\n",
    "        descriptive_df_2.rename({column: column + '_z'}, axis=1, inplace=True)\n",
    "        aggregations[column + '_z'] = 'max'\n",
    "\n",
    "descriptive_df_2 = deepcopy(descriptive_df_2.groupby(initial_dyad_columns).agg(aggregations).reset_index())\n",
    "start_dy_df.drop(['year'], axis=1, inplace=True)\n",
    "end_dy_df.drop('year', axis=1, inplace=True)\n",
    "\n",
    "start_end_df = deepcopy(pd.merge(start_dy_df, end_dy_df, how='outer', on=initial_dyad_columns))\n",
    "descriptive_df_2 = deepcopy(pd.merge(start_end_df, descriptive_df_2, how='outer', on=initial_dyad_columns))"
   ]
  },
  {
   "cell_type": "markdown",
   "metadata": {},
   "source": [
    "### Removing any descriptive dyadic field with 0 records returned."
   ]
  },
  {
   "cell_type": "code",
   "execution_count": 23,
   "metadata": {},
   "outputs": [
    {
     "name": "stdout",
     "output_type": "stream",
     "text": [
      "Fields Removed: royal_leaders_x\n",
      "Fields Removed: democratic_incumbent_x\n",
      "Fields Removed: unconstitutional_incumbent_x\n",
      "Fields Removed: collective_leaderships_x\n",
      "Fields Removed: royal_leaders_y\n",
      "Fields Removed: democratic_incumbent_y\n",
      "Fields Removed: unconstitutional_incumbent_y\n",
      "Fields Removed: collective_leaderships_y\n",
      "Fields Removed: royal_leaders_z\n",
      "Fields Removed: democratic_incumbent_z\n",
      "Fields Removed: unconstitutional_incumbent_z\n",
      "Fields Removed: collective_leaderships_z\n",
      "Fields Removed: no_parties_exist_z\n"
     ]
    }
   ],
   "source": [
    "descriptive_columns = list(descriptive_df_2.drop(initial_dyad_columns, axis=1).columns)\n",
    "\n",
    "for column in descriptive_columns:\n",
    "    if len(descriptive_df_2[descriptive_df_2[column]>0])==0:\n",
    "        print('Fields Removed: {}'.format(column))\n",
    "        descriptive_df_2.drop(column, axis=1, inplace=True)"
   ]
  },
  {
   "cell_type": "code",
   "execution_count": 24,
   "metadata": {},
   "outputs": [
    {
     "name": "stdout",
     "output_type": "stream",
     "text": [
      "Total Dyadic Combinations of Descriptive Data: 1,848\n"
     ]
    }
   ],
   "source": [
    "print('Total Dyadic Combinations of Descriptive Data: {}'.format(format(int(len(descriptive_df_2)/2), ',d')))\n",
    "descriptive_df_2.to_pickle(pickle_directory + 'dyadic_descriptive_df.pkl')"
   ]
  },
  {
   "cell_type": "code",
   "execution_count": null,
   "metadata": {},
   "outputs": [],
   "source": []
  },
  {
   "cell_type": "code",
   "execution_count": null,
   "metadata": {},
   "outputs": [],
   "source": []
  },
  {
   "cell_type": "code",
   "execution_count": null,
   "metadata": {},
   "outputs": [],
   "source": []
  },
  {
   "cell_type": "code",
   "execution_count": null,
   "metadata": {},
   "outputs": [],
   "source": []
  },
  {
   "cell_type": "code",
   "execution_count": null,
   "metadata": {},
   "outputs": [],
   "source": []
  },
  {
   "cell_type": "code",
   "execution_count": null,
   "metadata": {},
   "outputs": [],
   "source": []
  },
  {
   "cell_type": "code",
   "execution_count": null,
   "metadata": {},
   "outputs": [],
   "source": []
  },
  {
   "cell_type": "code",
   "execution_count": null,
   "metadata": {},
   "outputs": [],
   "source": []
  },
  {
   "cell_type": "code",
   "execution_count": null,
   "metadata": {},
   "outputs": [],
   "source": []
  },
  {
   "cell_type": "code",
   "execution_count": null,
   "metadata": {},
   "outputs": [],
   "source": []
  },
  {
   "cell_type": "code",
   "execution_count": 25,
   "metadata": {},
   "outputs": [],
   "source": [
    "# pd.read_csv(csv_directory + 'tc2018.csv', encoding='utf8')\n",
    "\n",
    "\n",
    "# Process of Territorial Change: The process of territorial change includes six possible procedures:\n",
    "# 1. Conquest\n",
    "# 2. Annexation\n",
    "# 3. Cession\n",
    "# 4. Secession\n",
    "# 5. Unification\n",
    "# 6. Mandated territory\n",
    "\n",
    "# Portion of the Territory Exchanged: \"Portion of unit exchanged\" indicates whether part or all of\n",
    "# the unit being transferred was involved in the exchange. A \"0\" means that part of the unit was\n",
    "# transferred, a \"1\" indicates that the entire unit was involved in the exchange, and a “-9” means\n",
    "# that this could not be determined."
   ]
  },
  {
   "cell_type": "code",
   "execution_count": 26,
   "metadata": {},
   "outputs": [],
   "source": [
    "# data_source = csv_directory + 'ucdp-peace-agreements-191.csv'\n",
    "# dy_df_19 = pd.read_csv(data_source, encoding='utf8')\n",
    "\n",
    "# # UCDP Conflict Termination Dataset version 2-2015\n",
    "# data_source = csv_directory + 'ucdp-term-dyadic-2015.csv'\n",
    "# dy_df_20 = pd.read_csv(data_source, encoding='utf8')\n",
    "\n",
    "# # UCDP Battle-Related Deaths Dataset version 20.1\n",
    "# data_source = csv_directory + 'UCDP Battle-Related Deaths Dataset version 20.1'\n",
    "# dy_df_21 = pd.read_csv(data_source, encoding='utf8')\n",
    "\n",
    "# # UCDP Actor Dataset version 20.1\n",
    "# data_source = csv_directory + 'ucdp-actor-201.csv'\n",
    "# dy_df_22 = pd.read_csv(data_source, encoding='utf8')\n",
    "\n",
    "# # UCDP Non-state Conflict Issues and Actors Dataset\n",
    "# data_source = csv_directory + 'UCDP_NS_IAD.csv'\n",
    "# dy_df_23 = pd.read_csv(data_source, encoding='utf8')\n",
    "\n",
    "# # UCDP External Support in Non-state Conflict Dataset\n",
    "# data_source = csv_directory + 'UCDP External Support in Non-state Conflict Dataset v.1.0.csv'\n",
    "# dy_df_24 = pd.read_csv(data_source, encoding='utf8')\n",
    "\n",
    "# # UCDP Managing Intrastate Low-intensity Conflict (MILC) dataset\n",
    "# data_source = csv_directory + 'milc-10.csv'\n",
    "# dy_df_25 = pd.read_csv(data_source, encoding='utf8')\n",
    "\n",
    "# # UCDP Managing Intrastate Conflict (MIC) dataset\n",
    "# ## more than 2 ids per conflict\n",
    "# data_source = csv_directory + 'micFINAL.csv'\n",
    "# dy_df_26 = deepcopy(the_networks_of_war_python_functions.descriptive_dyad_from_source(initial_dyad_df, data_source, None, 'contry_id', 'thirdid1', 'year', 'atop'))\n",
    "\n",
    "# # 'gwno'\n",
    "# # 'dyad_id'\n",
    "# ## only including failed peace agreements\n",
    "# dy_df_19 = deepcopy(dy_df_19[dy_df_19['ended']==True])[['gwno', 'dyad_id', 'dyad_name', 'actor_id', 'actor_name', 'year', 'duration', 'c_duration']]\n"
   ]
  },
  {
   "cell_type": "code",
   "execution_count": 27,
   "metadata": {},
   "outputs": [],
   "source": [
    "# for year in np.arange(1800, 2020):\n",
    "#     for row in dy_df_7['year']:\n",
    "#         if len(dy_df_7[dy_df_7['year']==year])== 0:\n",
    "#             temp_dyad_df = deepcopy(dy_df_7[dy_df_7['year']==year].reset_index())\n",
    "#             for i, dyad in enumerate(temp_dyad_df['year']):\n",
    "#                 dyad_df_length = deepcopy(len(dy_df_7))\n",
    "#                 dy_df_7.loc[dyad_df_length, 'year'] = year\n",
    "#                 dy_df_7.loc[dyad_df_length, 'c_code_a'] = temp_dyad_df.loc[i, 'c_code_a']\n",
    "#                 dy_df_7.loc[dyad_df_length, 'c_code_b'] = temp_dyad_df.loc[i, 'c_code_b']\n",
    "#         else:\n",
    "#             current_year = year\n",
    "            \n",
    "# dy_df_7['diplomatic_exchange'] = 1\n",
    "# print(len(dy_df_7))"
   ]
  },
  {
   "cell_type": "code",
   "execution_count": null,
   "metadata": {},
   "outputs": [],
   "source": []
  },
  {
   "cell_type": "code",
   "execution_count": null,
   "metadata": {},
   "outputs": [],
   "source": []
  }
 ],
 "metadata": {
  "kernelspec": {
   "display_name": "Python 3",
   "language": "python",
   "name": "python3"
  },
  "language_info": {
   "codemirror_mode": {
    "name": "ipython",
    "version": 3
   },
   "file_extension": ".py",
   "mimetype": "text/x-python",
   "name": "python",
   "nbconvert_exporter": "python",
   "pygments_lexer": "ipython3",
   "version": "3.9.2"
  }
 },
 "nbformat": 4,
 "nbformat_minor": 2
}
