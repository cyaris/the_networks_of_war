{
 "cells": [
  {
   "cell_type": "code",
   "execution_count": 1,
   "metadata": {},
   "outputs": [],
   "source": [
    "import pandas as pd\n",
    "import numpy as np\n",
    "from pandasql import sqldf\n",
    "pysqldf = lambda q: sqldf(q, globals())\n",
    "from copy import deepcopy\n",
    "from traceback import format_exc\n",
    "# from pprint import pprint\n",
    "import the_networks_of_war_python_functions"
   ]
  },
  {
   "cell_type": "code",
   "execution_count": 2,
   "metadata": {},
   "outputs": [],
   "source": [
    "pd.set_option('display.max_columns', None)\n",
    "pd.set_option('display.float_format', lambda x: '%.5f' % x)"
   ]
  },
  {
   "cell_type": "code",
   "execution_count": 3,
   "metadata": {},
   "outputs": [
    {
     "data": {
      "text/plain": [
       "'/Users/charlieyaris/Personal/github_repositories/the_networks_of_war'"
      ]
     },
     "execution_count": 3,
     "metadata": {},
     "output_type": "execute_result"
    }
   ],
   "source": [
    "pwd"
   ]
  },
  {
   "cell_type": "code",
   "execution_count": 4,
   "metadata": {},
   "outputs": [],
   "source": [
    "csv_output_directory = '../cyaris.github.io/assets/csv/the_networks_of_war/'\n",
    "json_output_directory = '../cyaris.github.io/assets/json/the_networks_of_war/'\n",
    "csv_directory = '/Users/charlieyaris/Personal/data_sources/the_networks_of_war/csvs/'\n",
    "pickle_directory = '/Users/charlieyaris/Personal/data_sources/the_networks_of_war/pickles/'"
   ]
  },
  {
   "cell_type": "markdown",
   "metadata": {},
   "source": [
    "## Setup for Identifying Countries by Code\n",
    "### Note: This is helpful for when different names are used for the same country."
   ]
  },
  {
   "cell_type": "code",
   "execution_count": 5,
   "metadata": {},
   "outputs": [],
   "source": [
    "c_code_df = pd.read_csv(csv_directory + 'COW country codes.csv', encoding='latin-1')\n",
    "\n",
    "query_text = \"\"\"\n",
    "\n",
    "select\n",
    "    ccode as c_code,\n",
    "    statenme as state_name,\n",
    "    stateabb as state_name_abbreviation\n",
    "from c_code_df\n",
    "group by 1, 2, 3\n",
    "\n",
    "\"\"\"\n",
    "\n",
    "c_code_df = deepcopy(pysqldf(query_text))"
   ]
  },
  {
   "cell_type": "code",
   "execution_count": 6,
   "metadata": {},
   "outputs": [],
   "source": [
    "def get_c_code_or_part_name(c_code_input, participant_input):\n",
    "    \n",
    "    if c_code_input > 0:\n",
    "        return str(int(c_code_input))\n",
    "    else:\n",
    "        return participant_input"
   ]
  },
  {
   "cell_type": "markdown",
   "metadata": {},
   "source": [
    "## Integrating Descriptive Data (Defined in Outside Notebook)"
   ]
  },
  {
   "cell_type": "markdown",
   "metadata": {},
   "source": [
    "### Merging Participant Data with Participant-Level Descriptive Data"
   ]
  },
  {
   "cell_type": "code",
   "execution_count": 7,
   "metadata": {},
   "outputs": [],
   "source": [
    "part_df = pd.read_pickle(pickle_directory + 'participant_descriptive_df.pkl')\n",
    "dyad_df = pd.read_pickle(pickle_directory + 'dyadic_descriptive_df.pkl')\n",
    "war_df = pd.read_pickle(pickle_directory + 'initial_war_df.pkl')"
   ]
  },
  {
   "cell_type": "markdown",
   "metadata": {},
   "source": [
    "### Merging Dyadic Data with Dyadic-Level Descriptive Data"
   ]
  },
  {
   "cell_type": "code",
   "execution_count": 8,
   "metadata": {},
   "outputs": [
    {
     "data": {
      "text/plain": [
       "['war_num',\n",
       " 'c_code_a',\n",
       " 'c_code_b',\n",
       " 'participant_a',\n",
       " 'participant_b',\n",
       " 'start_date',\n",
       " 'start_year',\n",
       " 'end_date',\n",
       " 'end_year',\n",
       " 'territory_exchange_x',\n",
       " 'colonial_contiguity_x',\n",
       " 'contiguity_x',\n",
       " 'alliance_x',\n",
       " 'defense_cooperation_agreements_x',\n",
       " 'inter_governmental_organizations_x',\n",
       " 'diplomatic_exchange_x',\n",
       " 'trade_relations_x',\n",
       " 'same_leader_type_x',\n",
       " 'military_leaders_x',\n",
       " 'communist_leaders_x',\n",
       " 'democratic_regimes_x',\n",
       " 'dictatorships_x',\n",
       " 'direct_election_x',\n",
       " 'indirect_election_x',\n",
       " 'non_elected_leaders_x',\n",
       " 'no_legislature_x',\n",
       " 'non_elective_legislature_x',\n",
       " 'elective_legislature_x',\n",
       " 'no_partisan_legislature_legal_x',\n",
       " 'no_non_regime_legislature_parties_legal_x',\n",
       " 'multi_party_legislature_legal_x',\n",
       " 'all_parties_illegal_x',\n",
       " 'single_party_state_exists_x',\n",
       " 'multi_party_state_exists_x',\n",
       " 'no_parties_exist_x',\n",
       " 'one_party_exists_x',\n",
       " 'no_non_regime_parties_exist_x',\n",
       " 'new_leader_x',\n",
       " 'atop_x',\n",
       " 'mtops_x',\n",
       " 'battle_deaths_a',\n",
       " 'battle_deaths_b',\n",
       " 'battle_deaths_est_a',\n",
       " 'battle_deaths_est_b',\n",
       " 'territory_exchange_y',\n",
       " 'colonial_contiguity_y',\n",
       " 'contiguity_y',\n",
       " 'alliance_y',\n",
       " 'defense_cooperation_agreements_y',\n",
       " 'inter_governmental_organizations_y',\n",
       " 'diplomatic_exchange_y',\n",
       " 'trade_relations_y',\n",
       " 'same_leader_type_y',\n",
       " 'military_leaders_y',\n",
       " 'communist_leaders_y',\n",
       " 'democratic_regimes_y',\n",
       " 'dictatorships_y',\n",
       " 'direct_election_y',\n",
       " 'indirect_election_y',\n",
       " 'non_elected_leaders_y',\n",
       " 'no_legislature_y',\n",
       " 'non_elective_legislature_y',\n",
       " 'elective_legislature_y',\n",
       " 'no_partisan_legislature_legal_y',\n",
       " 'no_non_regime_legislature_parties_legal_y',\n",
       " 'multi_party_legislature_legal_y',\n",
       " 'all_parties_illegal_y',\n",
       " 'single_party_state_exists_y',\n",
       " 'multi_party_state_exists_y',\n",
       " 'no_parties_exist_y',\n",
       " 'one_party_exists_y',\n",
       " 'no_non_regime_parties_exist_y',\n",
       " 'new_leader_y',\n",
       " 'atop_y',\n",
       " 'mtops_y',\n",
       " 'territory_exchange_z',\n",
       " 'colonial_contiguity_z',\n",
       " 'contiguity_z',\n",
       " 'alliance_z',\n",
       " 'defense_cooperation_agreements_z',\n",
       " 'inter_governmental_organizations_z',\n",
       " 'diplomatic_exchange_z',\n",
       " 'trade_relations_z',\n",
       " 'same_leader_type_z',\n",
       " 'military_leaders_z',\n",
       " 'communist_leaders_z',\n",
       " 'democratic_regimes_z',\n",
       " 'dictatorships_z',\n",
       " 'direct_election_z',\n",
       " 'indirect_election_z',\n",
       " 'non_elected_leaders_z',\n",
       " 'no_legislature_z',\n",
       " 'non_elective_legislature_z',\n",
       " 'elective_legislature_z',\n",
       " 'no_partisan_legislature_legal_z',\n",
       " 'no_non_regime_legislature_parties_legal_z',\n",
       " 'multi_party_legislature_legal_z',\n",
       " 'all_parties_illegal_z',\n",
       " 'single_party_state_exists_z',\n",
       " 'multi_party_state_exists_z',\n",
       " 'no_parties_exist_z',\n",
       " 'one_party_exists_z',\n",
       " 'no_non_regime_parties_exist_z',\n",
       " 'new_leader_z',\n",
       " 'atop_z',\n",
       " 'mtops_z']"
      ]
     },
     "execution_count": 8,
     "metadata": {},
     "output_type": "execute_result"
    }
   ],
   "source": [
    "list(dyad_df.columns)"
   ]
  },
  {
   "cell_type": "code",
   "execution_count": 9,
   "metadata": {},
   "outputs": [
    {
     "name": "stdout",
     "output_type": "stream",
     "text": [
      "Counting Total Dyadic War and Year Combinations by Descriptive Field\n",
      "\n",
      "       inter_governmental_organizations_x 578\n",
      "       inter_governmental_organizations_z 578\n",
      "       inter_governmental_organizations_y 577\n",
      "                                  mtops_z 339\n",
      "                                  mtops_y 333\n",
      "                                  mtops_x 332\n",
      "                             contiguity_z 313\n",
      "                             contiguity_x 310\n",
      "                             contiguity_y 310\n",
      "                        trade_relations_z 251\n",
      "                        trade_relations_y 236\n",
      "                    diplomatic_exchange_z 234\n",
      "                        trade_relations_x 223\n",
      "                   elective_legislature_z 148\n",
      "               multi_party_state_exists_z 135\n",
      "                   elective_legislature_x 134\n",
      "                   elective_legislature_y 134\n",
      "               multi_party_state_exists_x 134\n",
      "                                   atop_z 132\n",
      "               multi_party_state_exists_y 130\n",
      "                    diplomatic_exchange_x 122\n",
      "                     territory_exchange_z 118\n",
      "                                   atop_x 111\n",
      "                                   atop_y 111\n",
      "         defense_cooperation_agreements_z 102\n",
      "                               alliance_z  99\n",
      "                     territory_exchange_y  98\n",
      "         defense_cooperation_agreements_x  97\n",
      "         defense_cooperation_agreements_y  97\n",
      "                               alliance_x  91\n",
      "                          dictatorships_z  89\n",
      "                    diplomatic_exchange_y  89\n",
      "                          dictatorships_x  87\n",
      "                          dictatorships_y  87\n",
      "                               alliance_y  79\n",
      "                    colonial_contiguity_z  78\n",
      "                    colonial_contiguity_x  69\n",
      "                    colonial_contiguity_y  66\n",
      "                     territory_exchange_x  60\n",
      "                    non_elected_leaders_z  49\n",
      "          multi_party_legislature_legal_z  47\n",
      "          multi_party_legislature_legal_y  45\n",
      "          multi_party_legislature_legal_x  44\n",
      "                    non_elected_leaders_y  43\n",
      "                       same_leader_type_z  41\n",
      "                    non_elected_leaders_x  39\n",
      "                       same_leader_type_x  38\n",
      "                       same_leader_type_y  35\n",
      "                       military_leaders_z  30\n",
      "                       military_leaders_x  27\n",
      "                       military_leaders_y  27\n",
      "                      indirect_election_z  23\n",
      "            no_non_regime_parties_exist_z  23\n",
      "                      indirect_election_x  22\n",
      "                      indirect_election_y  20\n",
      "            no_non_regime_parties_exist_x  20\n",
      "            no_non_regime_parties_exist_y  19\n",
      "          no_partisan_legislature_legal_z  19\n",
      "          no_partisan_legislature_legal_y  16\n",
      "          no_partisan_legislature_legal_x  15\n",
      "                     democratic_regimes_z  14\n",
      "                     democratic_regimes_x  13\n",
      "                     democratic_regimes_y  13\n",
      "                        direct_election_y  13\n",
      "                        direct_election_z  13\n",
      "                             new_leader_z  12\n",
      "                        direct_election_x  11\n",
      "                             new_leader_x  10\n",
      "no_non_regime_legislature_parties_legal_z  10\n",
      "                       one_party_exists_y  10\n",
      "                       one_party_exists_z  10\n",
      "                         no_legislature_z   9\n",
      "                       one_party_exists_x   9\n",
      "                      communist_leaders_y   8\n",
      "                      communist_leaders_z   8\n",
      "                      communist_leaders_x   7\n",
      "                         no_legislature_x   7\n",
      "                         no_legislature_y   6\n",
      "no_non_regime_legislature_parties_legal_x   6\n",
      "no_non_regime_legislature_parties_legal_y   6\n",
      "              single_party_state_exists_x   6\n",
      "              single_party_state_exists_y   6\n",
      "              single_party_state_exists_z   6\n",
      "                    all_parties_illegal_z   5\n",
      "               non_elective_legislature_z   5\n",
      "                    all_parties_illegal_y   4\n",
      "               non_elective_legislature_x   4\n",
      "                    all_parties_illegal_x   3\n",
      "                             new_leader_y   3\n",
      "               non_elective_legislature_y   3\n",
      "                       no_parties_exist_y   2\n",
      "                       no_parties_exist_z   2\n",
      "                       no_parties_exist_x   1\n"
     ]
    }
   ],
   "source": [
    "print('Counting Total Dyadic War and Year Combinations by Descriptive Field\\n')\n",
    "initial_dyad_columns = ['start_date', 'start_year', 'end_date', 'end_year', 'war_num', 'c_code_a', 'c_code_b', 'participant_a', 'participant_b', 'battle_deaths_a', 'battle_deaths_b', 'battle_deaths_est_a', 'battle_deaths_est_b']\n",
    "the_networks_of_war_python_functions.print_new_fields(dyad_df, initial_dyad_columns, list(dyad_df.drop(initial_dyad_columns, axis=1).columns))"
   ]
  },
  {
   "cell_type": "markdown",
   "metadata": {},
   "source": [
    "## Finalizing Participant and Dyadic Dataframes"
   ]
  },
  {
   "cell_type": "markdown",
   "metadata": {},
   "source": [
    "### Keeping values for first and last year of each dyad\n",
    "### Combining these into one row per dyad"
   ]
  },
  {
   "cell_type": "code",
   "execution_count": 10,
   "metadata": {
    "code_folding": [
     8
    ]
   },
   "outputs": [],
   "source": [
    "## creating unique identifier \"conflict_pair\" for each dyad\n",
    "## based on name\n",
    "for i, participant_a in enumerate(dyad_df['participant_a']):\n",
    "    ## standardizing participant names with ccode when available\n",
    "    dyad_list = []\n",
    "    \n",
    "    dyad_list.append(get_c_code_or_part_name(dyad_df.loc[i, 'c_code_a'], participant_a))\n",
    "    dyad_list.append(get_c_code_or_part_name(dyad_df.loc[i, 'c_code_b'], dyad_df.loc[i, 'participant_b']))\n",
    "\n",
    "    dyad_list = str(sorted(dyad_list))\n",
    "    dyad_df.loc[i, 'conflict_pair'] = dyad_list\n",
    "\n",
    "## keeping the values for once for each a/b dyad combination.\n",
    "## need to dedupe across conflict pair so a vs b are never repeated interchangably.\n",
    "dyad_df.drop_duplicates(subset=['war_num', 'conflict_pair'], keep='first', inplace=True)\n",
    "dyad_df.drop('conflict_pair', axis=1, inplace=True)"
   ]
  },
  {
   "cell_type": "markdown",
   "metadata": {},
   "source": [
    "### Addressing in null values, missing data, and conversions for dyads and participants"
   ]
  },
  {
   "cell_type": "code",
   "execution_count": 11,
   "metadata": {},
   "outputs": [
    {
     "name": "stdout",
     "output_type": "stream",
     "text": [
      "\n",
      "Addressng null values, missing data, and conversions for part_df.\n",
      "\n",
      "Total Columns Adjusted: 85\n",
      "Total Columns Adjusted for Conversion: 22\n",
      "Total Null Values Notated: 85,710\n",
      "Total Unknown Values Notated: 683\n",
      "\n",
      "Addressng null values, missing data, and conversions for dyad_df.\n",
      "\n",
      "Total Columns Adjusted: 93\n",
      "Total Columns Adjusted for Conversion: 0\n",
      "Total Null Values Notated: 0\n",
      "Total Unknown Values Notated: 0\n"
     ]
    }
   ],
   "source": [
    "conversion_dic = {'money_flow_in': 1000000,\n",
    "                  'money_flow_out': 1000000,\n",
    "                  'military_expenditure': 1000,\n",
    "                  'military_personnel': 1000,\n",
    "                  'population': 1000,\n",
    "                  'urban_population': 1000,\n",
    "                  'refugees_hosted': 1000,\n",
    "                  'refugees_originated': 1000,\n",
    "                  'internally_displaced_persons': 1000,\n",
    "#                   'land_mass_exchange_gain': 'unsure',\n",
    "#                   'land_mass_exchange_loss': 'unsure',\n",
    "#                   'population_exchange_gain': 'unsure',\n",
    "#                   'population_exchange_loss': 'unsure',\n",
    "                  ## these are thousands of tons\n",
    "                  'iron_steel_production': 2000000,\n",
    "                  'energy_consumption': 2000000\n",
    "                 }\n",
    "print('\\nAddressng null values, missing data, and conversions for part_df.')\n",
    "part_df = deepcopy(the_networks_of_war_python_functions.column_fills_and_converions(part_df, 'participant', conversion_dic))\n",
    "\n",
    "print('\\nAddressng null values, missing data, and conversions for dyad_df.')\n",
    "dyad_df = deepcopy(the_networks_of_war_python_functions.column_fills_and_converions(dyad_df, 'dyad', None))"
   ]
  },
  {
   "cell_type": "markdown",
   "metadata": {},
   "source": [
    "### Saving the data"
   ]
  },
  {
   "cell_type": "code",
   "execution_count": 12,
   "metadata": {},
   "outputs": [
    {
     "name": "stdout",
     "output_type": "stream",
     "text": [
      "Total Participants: 1,715\n",
      "Total Dyadic Combinations: 1,130\n",
      "Total Wars: 678\n"
     ]
    }
   ],
   "source": [
    "print('Total Participants: {}'.format(format(len(part_df), ',d')))\n",
    "print('Total Dyadic Combinations: {}'.format(format(len(dyad_df), ',d')))\n",
    "print('Total Wars: {}'.format(format(len(war_df), ',d')))\n",
    "\n",
    "part_df.to_pickle(pickle_directory + 'part_df.pkl')\n",
    "dyad_df.to_pickle(pickle_directory + 'dyad_df.pkl')\n",
    "war_df.to_pickle(pickle_directory + 'war_df.pkl')"
   ]
  },
  {
   "cell_type": "code",
   "execution_count": 13,
   "metadata": {},
   "outputs": [],
   "source": [
    "part_df = pd.read_pickle(pickle_directory + 'part_df.pkl')\n",
    "dyad_df = pd.read_pickle(pickle_directory + 'dyad_df.pkl')\n",
    "war_df = pd.read_pickle(pickle_directory + 'war_df.pkl')"
   ]
  },
  {
   "cell_type": "code",
   "execution_count": 14,
   "metadata": {},
   "outputs": [],
   "source": [
    "part_df.loc[part_df['ongoing_conflict']==1, 'end_date'] = None\n",
    "part_df.loc[part_df['ongoing_conflict']==1, 'end_year'] = None"
   ]
  },
  {
   "cell_type": "markdown",
   "metadata": {},
   "source": [
    "## JSON Export for D3.js Processing"
   ]
  },
  {
   "cell_type": "code",
   "execution_count": 15,
   "metadata": {
    "code_folding": [],
    "scrolled": true
   },
   "outputs": [
    {
     "name": "stdout",
     "output_type": "stream",
     "text": [
      "\n",
      "Updating/recreating one JSON file per war_num.\n",
      "JSON Files to be Rewritten: 678\n",
      "\n",
      "Floating Node in 905.0 (Africa's World War): 516 (Burundi)\n",
      "Floating Node in 877.0 (Bosnian-Serb Rebellion): 344 (Croatia)\n",
      "Floating Node in 833.0 (Fourth Lebanese War): 630 (Iran)\n",
      "Floating Node in 833.0 (Fourth Lebanese War): 652 (Syria)\n",
      "Floating Node in 718.0 (Spanish Civil War): 235 (Portugal)\n",
      "Floating Node in 718.0 (Spanish Civil War): 255 (Germany)\n",
      "Floating Node in 718.0 (Spanish Civil War): 325 (Italy)\n",
      "Floating Node in 106.0 (World War I): 740 (Japan)\n",
      "\n",
      "Completed JSON File Updates.\n",
      "\n",
      "Updating war_file_list.csv\n",
      "\bCompleted war_file_list update.\n"
     ]
    }
   ],
   "source": [
    "war_column_list = deepcopy(list(war_df.columns))\n",
    "## dropping fields that won't be needed in the participant section of the json file\n",
    "## values may also differ between those in part_df and war_df.\n",
    "## those in war_df have undergone additional preprocessing.\n",
    "part_column_list = deepcopy(list(part_df.drop(['war_num',\n",
    "                                               'war_name',\n",
    "                                               'war_type',\n",
    "                                               'war_subtype'\n",
    "#                                                'deaths_both_sides_z'\n",
    "                                              ], axis=1).columns))\n",
    "## dropping fields that won't be needed in the dyad section of the json file\n",
    "dyad_column_list = deepcopy(list(dyad_df.drop(initial_dyad_columns, axis=1).columns))\n",
    "\n",
    "print('\\nUpdating/recreating one JSON file per war_num.')\n",
    "print('JSON Files to be Rewritten: {}\\n'.format(format(len(war_df), ',d')))\n",
    "\n",
    "for i, war_num in enumerate(war_df['war_num']):\n",
    "    \n",
    "    file_name = deepcopy('war_num_' + str(war_num).replace('.', '_') + '.json')\n",
    "    ## need to filter by war here because i does not follow the sorting of the dataframe\n",
    "    war_df.loc[war_df['war_num']==war_num, 'file_name'] = file_name\n",
    "     \n",
    "    part_df_copy = deepcopy(part_df[part_df['war_num']==war_num].reset_index(drop=True))\n",
    "    dyad_df_copy = deepcopy(dyad_df[dyad_df['war_num']==war_num].reset_index(drop=True))\n",
    "    war_df_copy = deepcopy(war_df[war_df['war_num']==war_num].reset_index(drop=True))\n",
    "    \n",
    "    ## rewriting all of the files each time\n",
    "    graph_file = open(json_output_directory + file_name, 'w').close()\n",
    "    graph_file = open(json_output_directory + file_name, 'w')\n",
    "    \n",
    "    if len(part_df_copy)==0:\n",
    "        print('No participants for war_num {} ({}), {} dyads'.format(war_num, war_df_copy.loc[0, 'war_name'], len(part_df_copy)))\n",
    "    if len(dyad_df_copy)==0:\n",
    "        print('No dyads for war_num {} ({}), {} participants'.format(war_num, war_df_copy.loc[0, 'war_name'], len(part_df_copy)))\n",
    "        \n",
    "    war_line = ''\n",
    "    for i, column in enumerate(war_column_list):\n",
    "        if i > 0:\n",
    "            war_line = deepcopy(war_line + ', ')\n",
    "        war_line = deepcopy(war_line + '\"' + column + '\": \"' + str(war_df_copy.loc[0, column]) + '\"')\n",
    "\n",
    "    graph_file.write('{\\n  \"war\": [\\n    {' + war_line + '}\\n')\n",
    "\n",
    "    node_names = []\n",
    "    sides = []\n",
    "    participant_line = ''\n",
    "    for i, participant in enumerate(part_df_copy['participant']):\n",
    "        \n",
    "        ## assigning the input based on whether a c_code is available\n",
    "        ## this will be used to link part_df_copy to the dyad_df_copy\n",
    "        ## (since c_code is not always availablen and participant names are not standardized)\n",
    "        node_names.append(get_c_code_or_part_name(part_df_copy.loc[i, 'c_code'], participant))\n",
    "        sides.append(part_df_copy.loc[i, 'side'])\n",
    "        \n",
    "        ## this process begins the writing of the file and is completely separate from the one above\n",
    "        participant_line = deepcopy(participant_line + '    {\"id\": \"' + str(i))\n",
    "        for column in part_column_list:\n",
    "            participant_line = deepcopy(participant_line + '\", \"' + column + '\": \"' + str(part_df_copy.loc[i, column]))\n",
    "        participant_line = deepcopy(participant_line + '\"},\\n')\n",
    "\n",
    "    graph_file.write('  ],\\n  \"nodes\": [\\n' + participant_line[:-2] + '\\n')\n",
    "\n",
    "    link_line = ''\n",
    "    dyad_inputs = []\n",
    "    for i, c_code_a in enumerate(dyad_df_copy['c_code_a']):\n",
    "        ## assigning the input based on whether a c_code is available\n",
    "        node_1 = get_c_code_or_part_name(dyad_df_copy.loc[i, 'c_code_a'], dyad_df_copy.loc[i, 'participant_a'])\n",
    "        dyad_inputs.append(node_1)\n",
    "        node_2 = get_c_code_or_part_name(dyad_df_copy.loc[i, 'c_code_b'], dyad_df_copy.loc[i, 'participant_b'])\n",
    "        dyad_inputs.append(node_2)\n",
    "        ## sometimes a country could be in the dyad and not in the participant df_copy.\n",
    "        ## this is rare but has happened (see Spain in WWII)\n",
    "        ## should be taken care of in processes above, so checking below to see if that process failed\n",
    "        if node_1 not in node_names and node_2 not in node_names:\n",
    "            print(\"Participant Missing in Dyadic Data: {} ({}) for {}.\".format(int(dyad_df_copy.loc[i, 'c_code_a']), dyad_df_copy.loc[i, 'participant_a'], war_df_copy.loc[0, 'war_name']))\n",
    "            print(\"Participant Missing in Dyadic Data: {} ({}) for {}.\".format(int(dyad_df_copy.loc[i, 'c_code_b']), dyad_df_copy.loc[i, 'participant_b'], war_df_copy.loc[0, 'war_name']))\n",
    "        elif node_1 not in node_names:\n",
    "            print(\"Participant Missing in Dyadic Data: {} ({}) for {}.\".format(int(dyad_df_copy.loc[i, 'c_code_a']), dyad_df_copy.loc[i, 'participant_a'], war_df_copy.loc[0, 'war_name']))\n",
    "        elif node_2 not in node_names:\n",
    "            print(\"Participant Missing in Dyadic Data: {} ({}) for {}.\".format(int(dyad_df_copy.loc[i, 'c_code_b']), dyad_df_copy.loc[i, 'participant_b'], war_df_copy.loc[0, 'war_name']))   \n",
    "        else:\n",
    "            link_line = deepcopy(link_line\n",
    "                + '    {\"source\": \"' + str(node_names.index(node_1))\n",
    "                + '\", \"target\": \"' + str(node_names.index(node_2)))\n",
    "            for column in dyad_column_list:\n",
    "                link_line = deepcopy(link_line + '\", \"' + column + '\": \"' + str(dyad_df_copy.loc[i, column]))\n",
    "            link_line = deepcopy(link_line + '\"},\\n')\n",
    "            ## checking for any dyads that are paired with participants on the same side as them\n",
    "            ## this would most likely suggest a mistake in pre-processing\n",
    "            ## does not apply to side 3 (switched sides)\n",
    "            if sides[node_names.index(node_1)]==sides[node_names.index(node_2)] and sides[node_names.index(node_1)]!=3:\n",
    "                print('Dyads on the Same Side: {} ({}) and {} ({}) for {}.'.format(int(dyad_df_copy.loc[i, 'c_code_a']), dyad_df_copy.loc[i, 'participant_a'], int(dyad_df_copy.loc[i, 'c_code_b']), dyad_df_copy.loc[i, 'participant_b'], war_df_copy.loc[0, 'war_name']))   \n",
    "                         \n",
    "    graph_file.write('  ],\\n  \"links\": [\\n' + link_line[:-2] + '\\n\\n  ]\\n\\n}')\n",
    "\n",
    "    for node in node_names:\n",
    "        if node not in dyad_inputs:\n",
    "            try:\n",
    "                print('Floating Node in {} ({}): {} ({})'.format(war_num, war_df_copy.loc[0, 'war_name'], node, c_code_df[c_code_df['c_code']==int(node)]['state_name'].values[0]))\n",
    "            except:\n",
    "                print('Floating Node in {} ({}): {}'.format(war_num, war_df_copy.loc[0, 'war_name'], node))\n",
    "                \n",
    "print('\\nCompleted JSON File Updates.')\n",
    "\n",
    "print('\\nUpdating war_file_list.csv')\n",
    "war_df.to_csv(csv_output_directory + 'war_file_list.csv', index=None)\n",
    "print('\\bCompleted war_file_list update.')"
   ]
  },
  {
   "cell_type": "code",
   "execution_count": null,
   "metadata": {},
   "outputs": [],
   "source": []
  }
 ],
 "metadata": {
  "kernelspec": {
   "display_name": "Python 3",
   "language": "python",
   "name": "python3"
  },
  "language_info": {
   "codemirror_mode": {
    "name": "ipython",
    "version": 3
   },
   "file_extension": ".py",
   "mimetype": "text/x-python",
   "name": "python",
   "nbconvert_exporter": "python",
   "pygments_lexer": "ipython3",
   "version": "3.9.2"
  }
 },
 "nbformat": 4,
 "nbformat_minor": 2
}
