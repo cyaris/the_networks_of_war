{
 "cells": [
  {
   "cell_type": "code",
   "execution_count": 129,
   "metadata": {},
   "outputs": [],
   "source": [
    "import pandas as pd\n",
    "import numpy as np\n",
    "from pandasql import sqldf\n",
    "pysqldf = lambda q: sqldf(q, globals())\n",
    "from copy import deepcopy\n",
    "from traceback import format_exc\n",
    "# from pprint import pprint\n",
    "import the_networks_of_war_python_functions"
   ]
  },
  {
   "cell_type": "code",
   "execution_count": 130,
   "metadata": {},
   "outputs": [],
   "source": [
    "pd.set_option('display.max_columns', None)\n",
    "pd.set_option('display.float_format', lambda x: '%.5f' % x)"
   ]
  },
  {
   "cell_type": "code",
   "execution_count": 131,
   "metadata": {},
   "outputs": [
    {
     "data": {
      "text/plain": [
       "'/Users/charlieyaris/Personal/github_repositories/the_networks_of_war'"
      ]
     },
     "execution_count": 131,
     "metadata": {},
     "output_type": "execute_result"
    }
   ],
   "source": [
    "pwd"
   ]
  },
  {
   "cell_type": "code",
   "execution_count": 132,
   "metadata": {},
   "outputs": [],
   "source": [
    "csv_output_directory = '../cyaris.github.io/assets/csv/the_networks_of_war/'\n",
    "json_output_directory = '../cyaris.github.io/assets/json/the_networks_of_war/'\n",
    "csv_directory = '/Users/charlieyaris/Personal/data_sources/the_networks_of_war/csvs/'\n",
    "pickle_directory = '/Users/charlieyaris/Personal/data_sources/the_networks_of_war/pickles/'"
   ]
  },
  {
   "cell_type": "markdown",
   "metadata": {},
   "source": [
    "## Setup for Identifying Countries by Code\n",
    "### Note: This is helpful for when different names are used for the same country."
   ]
  },
  {
   "cell_type": "code",
   "execution_count": 133,
   "metadata": {},
   "outputs": [
    {
     "data": {
      "text/plain": [
       "'/Users/charlieyaris/Personal/github_repositories/the_networks_of_war'"
      ]
     },
     "execution_count": 133,
     "metadata": {},
     "output_type": "execute_result"
    }
   ],
   "source": [
    "pwd"
   ]
  },
  {
   "cell_type": "code",
   "execution_count": 134,
   "metadata": {},
   "outputs": [
    {
     "name": "stdout",
     "output_type": "stream",
     "text": [
      "Total Country Codes: 217\n"
     ]
    }
   ],
   "source": [
    "c_code_dic = the_networks_of_war_python_functions.define_c_code_dic()"
   ]
  },
  {
   "cell_type": "markdown",
   "metadata": {},
   "source": [
    "## Integrating Descriptive Data (Defined in Outside Notebook)"
   ]
  },
  {
   "cell_type": "markdown",
   "metadata": {},
   "source": [
    "### Merging Participant Data with Participant-Level Descriptive Data"
   ]
  },
  {
   "cell_type": "code",
   "execution_count": 135,
   "metadata": {},
   "outputs": [],
   "source": [
    "part_df = pd.read_pickle(pickle_directory + 'initial_part_df.pkl')\n",
    "dyad_df = pd.read_pickle(pickle_directory + 'initial_dyad_df.pkl')\n",
    "war_df = pd.read_pickle(pickle_directory + 'initial_war_df.pkl')"
   ]
  },
  {
   "cell_type": "code",
   "execution_count": 136,
   "metadata": {},
   "outputs": [],
   "source": [
    "descriptive_df_1 = pd.read_pickle(pickle_directory + 'participant_descriptive_df.pkl')\n",
    "\n",
    "query_text = \"\"\"\n",
    "\n",
    "select\n",
    "      a.war_num,\n",
    "      a.war_name,\n",
    "      a.war_type_code,\n",
    "      a.war_type,\n",
    "      a.war_subtype,\n",
    "      a.c_code,\n",
    "      a.participant,\n",
    "      a.side,\n",
    "      a.start_date,\n",
    "      a.start_year,\n",
    "      a.end_date,\n",
    "      a.end_year,\n",
    "      a.ongoing_participation,\n",
    "      x.allied_countries as allied_countries_x,\n",
    "      x.trade_countries as trade_countries_x,\n",
    "      x.money_flow_in as money_flow_in_x,\n",
    "      x.money_flow_out as money_flow_out_x,\n",
    "      x.imports as imports_x,\n",
    "      x.exports as exports_x,\n",
    "      x.military_expenditure as military_expenditure_x,\n",
    "      x.military_personnel as military_personnel_x,\n",
    "      x.iron_steel_production as iron_steel_production_x,\n",
    "      x.energy_consumption as energy_consumption_x,\n",
    "      x.population as population_x,\n",
    "      x.urban_population as urban_population_x,\n",
    "      x.urban_population_growth_rate as urban_population_growth_rate_x,\n",
    "      x.cinc_score as cinc_score_x,\n",
    "      x.land_mass_exchange_gain as land_mass_exchange_gain_x,\n",
    "      x.population_exchange_gain as population_exchange_gain_x,\n",
    "      x.land_mass_exchange_loss as land_mass_exchange_loss_x,\n",
    "      x.population_exchange_loss as population_exchange_loss_x,\n",
    "      x.refugees_originated as refugees_originated_x,\n",
    "      x.internally_displaced_persons as internally_displaced_persons_x,\n",
    "      x.refugees_hosted as refugees_hosted_x,\n",
    "      x.terrorist_bombing_deaths as terrorist_bombing_deaths_x,\n",
    "      y.allied_countries as allied_countries_y,\n",
    "      y.trade_countries as trade_countries_y,\n",
    "      y.money_flow_in as money_flow_in_y,\n",
    "      y.money_flow_out as money_flow_out_y,\n",
    "      y.imports as imports_y,\n",
    "      y.exports as exports_y,\n",
    "      y.military_expenditure as military_expenditure_y,\n",
    "      y.military_personnel as military_personnel_y,\n",
    "      y.iron_steel_production as iron_steel_production_y,\n",
    "      y.energy_consumption as energy_consumption_y,\n",
    "      y.population as population_y,\n",
    "      y.urban_population as urban_population_y,\n",
    "      y.urban_population_growth_rate as urban_population_growth_rate_y,\n",
    "      y.cinc_score as cinc_score_y,\n",
    "      y.land_mass_exchange_gain as land_mass_exchange_gain_y,\n",
    "      y.population_exchange_gain as population_exchange_gain_y,\n",
    "      y.land_mass_exchange_loss as land_mass_exchange_loss_y,\n",
    "      y.population_exchange_loss as population_exchange_loss_y,\n",
    "      y.refugees_originated as refugees_originated_y,\n",
    "      y.internally_displaced_persons as internally_displaced_persons_y,\n",
    "      y.refugees_hosted as refugees_hosted_y,\n",
    "      y.terrorist_bombing_deaths as terrorist_bombing_deaths_y,\n",
    "      a.battle_deaths as battle_deaths_z,\n",
    "      a.deaths_both_sides as deaths_both_sides_z,\n",
    "      a.peak_forces_available as peak_forces_available_z,\n",
    "      a.peak_battle_forces as peak_battle_forces_z,\n",
    "      avg(case when a.c_code >= 0 then coalesce(z.allied_countries, 0) else z.allied_countries end) as allied_countries_z,\n",
    "      avg(case when a.c_code >= 0 then coalesce(z.trade_countries, 0) else z.trade_countries end) as trade_countries_z,\n",
    "      avg(case when a.c_code >= 0 then coalesce(z.money_flow_in, 0) else z.money_flow_in end) as money_flow_in_z,\n",
    "      avg(case when a.c_code >= 0 then coalesce(z.money_flow_out, 0) else z.money_flow_out end) as money_flow_out_z,\n",
    "      avg(case when a.c_code >= 0 then coalesce(z.imports, 0) else z.imports end) as imports_z,\n",
    "      avg(case when a.c_code >= 0 then coalesce(z.exports, 0) else z.exports end) as exports_z,\n",
    "      avg(case when a.c_code >= 0 then coalesce(z.military_expenditure, 0) else z.military_expenditure end) as military_expenditure_z,\n",
    "      avg(case when a.c_code >= 0 then coalesce(z.military_personnel, 0) else z.military_personnel end) as military_personnel_z,\n",
    "      avg(case when a.c_code >= 0 then coalesce(z.iron_steel_production, 0) else z.iron_steel_production end) as iron_steel_production_z,\n",
    "      avg(case when a.c_code >= 0 then coalesce(z.energy_consumption, 0) else z.energy_consumption end) as energy_consumption_z,\n",
    "      avg(case when a.c_code >= 0 then coalesce(z.population, 0) else z.population end) as population,\n",
    "      avg(case when a.c_code >= 0 then coalesce(z.urban_population, 0) else z.urban_population end) as urban_population,\n",
    "      avg(case when a.c_code >= 0 then coalesce(z.urban_population_growth_rate, 0) else z.urban_population_growth_rate end) as urban_population_growth_rate_z,\n",
    "      avg(case when a.c_code >= 0 then coalesce(z.cinc_score, 0) else z.cinc_score end) as cinc_score_z,\n",
    "      avg(case when a.c_code >= 0 then coalesce(z.land_mass_exchange_gain, 0) else z.land_mass_exchange_gain end) as land_mass_exchange_gain_z,\n",
    "      avg(case when a.c_code >= 0 then coalesce(z.population_exchange_gain, 0) else z.population_exchange_gain end) as population_exchange_gain_z,\n",
    "      avg(case when a.c_code >= 0 then coalesce(z.land_mass_exchange_loss, 0) else z.land_mass_exchange_loss end) as land_mass_exchange_loss_z,\n",
    "      avg(case when a.c_code >= 0 then coalesce(z.population_exchange_loss, 0) else z.population_exchange_loss end) as population_exchange_loss_z,\n",
    "      avg(case when a.c_code >= 0 then coalesce(z.refugees_originated, 0) else z.refugees_originated end) as refugees_originated_z,\n",
    "      avg(case when a.c_code >= 0 then coalesce(z.internally_displaced_persons, 0) else z.internally_displaced_persons end) as internally_displaced_persons_z,\n",
    "      avg(case when a.c_code >= 0 then coalesce(z.refugees_hosted, 0) else z.refugees_hosted end) as refugees_hosted_z,\n",
    "      avg(case when a.c_code >= 0 then coalesce(z.terrorist_bombing_deaths, 0) else z.terrorist_bombing_deaths end) as terrorist_bombing_deaths_z\n",
    "from part_df a\n",
    "left join descriptive_df_1 x on a.c_code = x.c_code and a.start_year = x.year\n",
    "left join descriptive_df_1 y on a.c_code = y.c_code and a.end_year = y.year\n",
    "left join descriptive_df_1 z on a.c_code = z.c_code and z.year between a.start_year and a.end_year\n",
    "group by 1, 2, 3, 4, 5, 6, 7, 8, 9, 10, 11, 12, 13, 14, 15, 16, 17, 18, 19, 20, 21, 22, 23, 24, 25, 26, 27, 28, 29, 30, 31, 32, 33, 34, 35, 36, 37, 38, 39, 40, 41, 42, 43, 44, 45, 46, 47, 48, 49, 50, 51, 52, 53, 54, 55, 56, 57, 58, 59, 60, 61\n",
    "\n",
    "\"\"\"\n",
    "part_df = deepcopy(pysqldf(query_text))"
   ]
  },
  {
   "cell_type": "code",
   "execution_count": 137,
   "metadata": {},
   "outputs": [
    {
     "data": {
      "text/plain": [
       "Index(['war_num', 'war_name', 'war_type_code', 'war_type', 'war_subtype',\n",
       "       'c_code', 'participant', 'side', 'start_date', 'start_year', 'end_date',\n",
       "       'end_year', 'ongoing_participation', 'allied_countries_x',\n",
       "       'trade_countries_x', 'money_flow_in_x', 'money_flow_out_x', 'imports_x',\n",
       "       'exports_x', 'military_expenditure_x', 'military_personnel_x',\n",
       "       'iron_steel_production_x', 'energy_consumption_x', 'population_x',\n",
       "       'urban_population_x', 'urban_population_growth_rate_x', 'cinc_score_x',\n",
       "       'land_mass_exchange_gain_x', 'population_exchange_gain_x',\n",
       "       'land_mass_exchange_loss_x', 'population_exchange_loss_x',\n",
       "       'refugees_originated_x', 'internally_displaced_persons_x',\n",
       "       'refugees_hosted_x', 'terrorist_bombing_deaths_x', 'allied_countries_y',\n",
       "       'trade_countries_y', 'money_flow_in_y', 'money_flow_out_y', 'imports_y',\n",
       "       'exports_y', 'military_expenditure_y', 'military_personnel_y',\n",
       "       'iron_steel_production_y', 'energy_consumption_y', 'population_y',\n",
       "       'urban_population_y', 'urban_population_growth_rate_y', 'cinc_score_y',\n",
       "       'land_mass_exchange_gain_y', 'population_exchange_gain_y',\n",
       "       'land_mass_exchange_loss_y', 'population_exchange_loss_y',\n",
       "       'refugees_originated_y', 'internally_displaced_persons_y',\n",
       "       'refugees_hosted_y', 'terrorist_bombing_deaths_y', 'battle_deaths_z',\n",
       "       'deaths_both_sides_z', 'peak_forces_available_z',\n",
       "       'peak_battle_forces_z', 'allied_countries_z', 'trade_countries_z',\n",
       "       'money_flow_in_z', 'money_flow_out_z', 'imports_z', 'exports_z',\n",
       "       'military_expenditure_z', 'military_personnel_z',\n",
       "       'iron_steel_production_z', 'energy_consumption_z', 'population',\n",
       "       'urban_population', 'urban_population_growth_rate_z', 'cinc_score_z',\n",
       "       'land_mass_exchange_gain_z', 'population_exchange_gain_z',\n",
       "       'land_mass_exchange_loss_z', 'population_exchange_loss_z',\n",
       "       'refugees_originated_z', 'internally_displaced_persons_z',\n",
       "       'refugees_hosted_z', 'terrorist_bombing_deaths_z'],\n",
       "      dtype='object')"
      ]
     },
     "execution_count": 137,
     "metadata": {},
     "output_type": "execute_result"
    }
   ],
   "source": [
    "part_df.columns"
   ]
  },
  {
   "cell_type": "markdown",
   "metadata": {},
   "source": [
    "### Merging Dyadic Data with Dyadic-Level Descriptive Data"
   ]
  },
  {
   "cell_type": "code",
   "execution_count": 138,
   "metadata": {},
   "outputs": [
    {
     "data": {
      "text/plain": [
       "Index(['war_num', 'c_code_a', 'c_code_b', 'participant_a', 'participant_b',\n",
       "       'battle_deaths_a', 'battle_deaths_b', 'battle_deaths_est_a',\n",
       "       'battle_deaths_est_b', 'start_date', 'start_year', 'end_date',\n",
       "       'end_year', 'year'],\n",
       "      dtype='object')"
      ]
     },
     "execution_count": 138,
     "metadata": {},
     "output_type": "execute_result"
    }
   ],
   "source": [
    "dyad_df.columns"
   ]
  },
  {
   "cell_type": "code",
   "execution_count": 139,
   "metadata": {},
   "outputs": [
    {
     "data": {
      "text/plain": [
       "Index(['start_year', 'c_code_a', 'c_code_b', 'territory_exchange',\n",
       "       'colonial_contiguity', 'contiguity', 'alliance',\n",
       "       'defense_cooperation_agreements', 'inter_governmental_organizations',\n",
       "       'diplomatic_exchange', 'trade_relations', 'same_leader_type',\n",
       "       'military_leaders', 'communist_leaders', 'democratic_regimes',\n",
       "       'dictatorships', 'direct_election', 'indirect_election',\n",
       "       'non_elected_leaders', 'no_legislature', 'non_elective_legislature',\n",
       "       'elective_legislature', 'no_partisan_legislature_legal',\n",
       "       'no_non_regime_legislature_parties_legal',\n",
       "       'multi_party_legislature_legal', 'all_parties_illegal',\n",
       "       'single_party_state_exists', 'multi_party_state_exists',\n",
       "       'no_parties_exist', 'one_party_exists', 'no_non_regime_parties_exist',\n",
       "       'atop', 'mtops'],\n",
       "      dtype='object')"
      ]
     },
     "execution_count": 139,
     "metadata": {},
     "output_type": "execute_result"
    }
   ],
   "source": [
    "descriptive_df_2.columns"
   ]
  },
  {
   "cell_type": "code",
   "execution_count": 140,
   "metadata": {},
   "outputs": [],
   "source": [
    "from importlib import reload"
   ]
  },
  {
   "cell_type": "code",
   "execution_count": 141,
   "metadata": {},
   "outputs": [
    {
     "data": {
      "text/plain": [
       "<module 'the_networks_of_war_python_functions' from '/Users/charlieyaris/Personal/github_repositories/the_networks_of_war/the_networks_of_war_python_functions.py'>"
      ]
     },
     "execution_count": 141,
     "metadata": {},
     "output_type": "execute_result"
    }
   ],
   "source": [
    "reload(the_networks_of_war_python_functions)"
   ]
  },
  {
   "cell_type": "code",
   "execution_count": 142,
   "metadata": {},
   "outputs": [
    {
     "data": {
      "text/plain": [
       "Index(['war_num', 'c_code_a', 'c_code_b', 'participant_a', 'participant_b',\n",
       "       'battle_deaths_a', 'battle_deaths_b', 'battle_deaths_est_a',\n",
       "       'battle_deaths_est_b', 'start_date', 'start_year', 'end_date',\n",
       "       'end_year', 'year'],\n",
       "      dtype='object')"
      ]
     },
     "execution_count": 142,
     "metadata": {},
     "output_type": "execute_result"
    }
   ],
   "source": [
    "dyad_df.columns"
   ]
  },
  {
   "cell_type": "code",
   "execution_count": 144,
   "metadata": {},
   "outputs": [
    {
     "name": "stdout",
     "output_type": "stream",
     "text": [
      "Counting Total Dyadic War and Year Combinations by Descriptive Field\n",
      "\n",
      "       inter_governmental_organizations 1075\n",
      "                                  mtops  688\n",
      "                             contiguity  484\n",
      "                        trade_relations  429\n",
      "                   elective_legislature  321\n",
      "               multi_party_state_exists  246\n",
      "                          dictatorships  233\n",
      "         defense_cooperation_agreements  227\n",
      "                                   atop  195\n",
      "                     territory_exchange  134\n",
      "                    colonial_contiguity  117\n",
      "                    non_elected_leaders  113\n",
      "                    diplomatic_exchange  110\n",
      "                               alliance   96\n",
      "                       same_leader_type   94\n",
      "          multi_party_legislature_legal   62\n",
      "                      indirect_election   60\n",
      "                       military_leaders   53\n",
      "            no_non_regime_parties_exist   42\n",
      "          no_partisan_legislature_legal   35\n",
      "                        direct_election   27\n",
      "                       one_party_exists   18\n",
      "                     democratic_regimes   16\n",
      "               non_elective_legislature   13\n",
      "no_non_regime_legislature_parties_legal   11\n",
      "                      communist_leaders   10\n",
      "                         no_legislature   10\n",
      "                    all_parties_illegal    8\n",
      "              single_party_state_exists    5\n",
      "                       no_parties_exist    3\n"
     ]
    }
   ],
   "source": [
    "descriptive_columns = deepcopy(set(list(dyad_df.columns)))\n",
    "\n",
    "descriptive_df_2 = pd.read_pickle(pickle_directory + 'dyadic_descriptive_df.pkl')\n",
    "\n",
    "dyad_df = deepcopy(pd.merge(dyad_df, descriptive_df_2, how='left', on=['c_code_a', 'c_code_b', 'year']))\n",
    "\n",
    "descriptive_df_2.rename({'year': 'start_year'}, axis=1, inplace=True)\n",
    "dyad_df = deepcopy(pd.merge(dyad_df, descriptive_df_2, how='left', on=['c_code_a', 'c_code_b', 'start_year']))\n",
    "\n",
    "descriptive_df_2.rename({'start_year': 'end_year'}, axis=1, inplace=True)\n",
    "dyad_df = deepcopy(pd.merge(dyad_df, descriptive_df_2, how='left', on=['c_code_a', 'c_code_b', 'end_year']))\n",
    "\n",
    "print('Counting Total Dyadic War and Year Combinations by Descriptive Field\\n')\n",
    "the_networks_of_war_python_functions.print_new_fields(dyad_df, initial_descriptive_columns, None)"
   ]
  },
  {
   "cell_type": "markdown",
   "metadata": {},
   "source": [
    "## Finalizing Participant and Dyadic Dataframes"
   ]
  },
  {
   "cell_type": "markdown",
   "metadata": {},
   "source": [
    "### Keeping values for first and last year of each dyad\n",
    "### Combining these into one row per dyad"
   ]
  },
  {
   "cell_type": "code",
   "execution_count": 150,
   "metadata": {
    "code_folding": [
     8
    ]
   },
   "outputs": [
    {
     "ename": "ValueError",
     "evalue": "list.remove(x): x not in list",
     "output_type": "error",
     "traceback": [
      "\u001b[0;31m---------------------------------------------------------------------------\u001b[0m",
      "\u001b[0;31mValueError\u001b[0m                                Traceback (most recent call last)",
      "\u001b[0;32m<ipython-input-150-ed215329b4e6>\u001b[0m in \u001b[0;36m<module>\u001b[0;34m\u001b[0m\n\u001b[1;32m     33\u001b[0m \u001b[0mdescriptive_columns\u001b[0m \u001b[0;34m=\u001b[0m \u001b[0mlist\u001b[0m\u001b[0;34m(\u001b[0m\u001b[0mdescriptive_df_2\u001b[0m\u001b[0;34m.\u001b[0m\u001b[0mcolumns\u001b[0m\u001b[0;34m)\u001b[0m\u001b[0;34m\u001b[0m\u001b[0;34m\u001b[0m\u001b[0m\n\u001b[1;32m     34\u001b[0m \u001b[0;32mif\u001b[0m \u001b[0mcolumn\u001b[0m \u001b[0;32min\u001b[0m \u001b[0mdescriptive_df_2\u001b[0m\u001b[0;34m.\u001b[0m\u001b[0mcolumns\u001b[0m\u001b[0;34m:\u001b[0m\u001b[0;34m\u001b[0m\u001b[0;34m\u001b[0m\u001b[0m\n\u001b[0;32m---> 35\u001b[0;31m     \u001b[0mdescriptive_columns\u001b[0m\u001b[0;34m.\u001b[0m\u001b[0mremove\u001b[0m\u001b[0;34m(\u001b[0m\u001b[0;34m'year'\u001b[0m\u001b[0;34m)\u001b[0m\u001b[0;34m\u001b[0m\u001b[0;34m\u001b[0m\u001b[0m\n\u001b[0m\u001b[1;32m     36\u001b[0m \u001b[0mdescriptive_columns\u001b[0m\u001b[0;34m.\u001b[0m\u001b[0mremove\u001b[0m\u001b[0;34m(\u001b[0m\u001b[0;34m'c_code_a'\u001b[0m\u001b[0;34m)\u001b[0m\u001b[0;34m\u001b[0m\u001b[0;34m\u001b[0m\u001b[0m\n\u001b[1;32m     37\u001b[0m \u001b[0mdescriptive_columns\u001b[0m\u001b[0;34m.\u001b[0m\u001b[0mremove\u001b[0m\u001b[0;34m(\u001b[0m\u001b[0;34m'c_code_b'\u001b[0m\u001b[0;34m)\u001b[0m\u001b[0;34m\u001b[0m\u001b[0;34m\u001b[0m\u001b[0m\n",
      "\u001b[0;31mValueError\u001b[0m: list.remove(x): x not in list"
     ]
    }
   ],
   "source": [
    "dyad_df['year'] = dyad_df['year'].astype(float)\n",
    "\n",
    "## creating unique identifier \"conflict_pair\" for each dyad\n",
    "## based on name\n",
    "for i, participant_a in enumerate(dyad_df['participant_a']):\n",
    "    ## standardizing participant names with ccode when available\n",
    "    dyad_list = []\n",
    "    if dyad_df.loc[i, 'c_code_a'] in c_code_dic.keys():\n",
    "        dyad_list.append(str(dyad_df.loc[i, 'c_code_a']))\n",
    "    else:\n",
    "        dyad_list.append(participant_a)\n",
    "    if dyad_df.loc[i, 'c_code_b'] in c_code_dic.keys():\n",
    "        dyad_list.append(str(dyad_df.loc[i, 'c_code_b']))\n",
    "    else:\n",
    "        dyad_list.append(dyad_df.loc[i, 'participant_b'])\n",
    "    dyad_list = str(sorted(dyad_list))\n",
    "    dyad_df.loc[i, 'conflict_pair'] = dyad_list\n",
    "\n",
    "dyad_df_columns = ['war_num',\n",
    "                   'year',\n",
    "                   'participant_a',\n",
    "                   'participant_b',\n",
    "                   'conflict_pair']\n",
    "\n",
    "for column in list(descriptive_df_2.columns):\n",
    "    if column not in descriptive_df_2.columns:\n",
    "        dyad_df_columns.append(column)\n",
    "## not including any row without any participants\n",
    "dyad_df = deepcopy(dyad_df[(dyad_df['participant_a'].isnull()==False) & (dyad_df['participant_b'].isnull()==False)])\n",
    "\n",
    "## creating new dyad_df to get the max of each field during all the years of the dyad\n",
    "max_dyad_df = deepcopy(dyad_df)\n",
    "descriptive_columns = list(descriptive_df_2.columns)\n",
    "if column in descriptive_df_2.columns:\n",
    "    descriptive_columns.remove('year')\n",
    "descriptive_columns.remove('c_code_a')\n",
    "descriptive_columns.remove('c_code_b')\n",
    "aggregations = {}\n",
    "for column in descriptive_columns:\n",
    "    max_dyad_df.rename({column: column + '_z'}, axis=1, inplace=True)\n",
    "    aggregations[column + '_z'] = 'max'\n",
    "max_dyad_df = deepcopy(max_dyad_df.groupby(['war_num', 'conflict_pair']).agg(aggregations).reset_index())\n",
    "\n",
    "first_year_dyad_df = deepcopy(dyad_df)\n",
    "first_year_dyad_df.sort_values(by='year', ascending=True, inplace=True)\n",
    "## keeping the values for only the first year of conflict within a given dyad\n",
    "## need to dedupe across conflict pair so a vs b are never repeated interchangably\n",
    "first_year_dyad_df.drop_duplicates(subset=['war_num', 'conflict_pair'], keep='first', inplace=True)\n",
    "first_year_dyad_df.rename({'year': 'first_year'}, axis=1, inplace=True)\n",
    "\n",
    "last_year_dyad_df = deepcopy(dyad_df)\n",
    "last_year_dyad_df.sort_values(by='year', ascending=True, inplace=True)\n",
    "## keeping the values for only the last year of conflict within a given dyad\n",
    "## need to dedupe across conflict pair so a vs b are never repeated interchangably\n",
    "last_year_dyad_df.drop_duplicates(subset=['war_num', 'conflict_pair'], keep='last', inplace=True)\n",
    "last_year_dyad_df.rename({'year': 'last_year'}, axis=1, inplace=True)\n",
    "\n",
    "## combining first and last year dyads into one dataframe\n",
    "dyad_df = deepcopy(pd.merge(first_year_dyad_df, last_year_dyad_df, how='left', on=['conflict_pair', 'war_num']))\n",
    "## combining the maximum df into the final version of the dataframe\n",
    "dyad_df = deepcopy(pd.merge(dyad_df, max_dyad_df, how='left', on=['conflict_pair', 'war_num']).reset_index(drop=True))\n",
    "## changing column names and then dropping duplicates\n",
    "## adding them into the join woudl fail (since not all have c_codes)\n",
    "for column in dyad_df.columns:\n",
    "    if column[-4:]=='_a_x' or column[-4:]=='_b_x':\n",
    "        dyad_df.rename({column: column[:-2]}, axis=1, inplace=True)\n",
    "    elif column[-4:]=='_a_y' or column[-4:]=='_b_y':\n",
    "        dyad_df.drop([column], axis=1, inplace=True)"
   ]
  },
  {
   "cell_type": "code",
   "execution_count": null,
   "metadata": {},
   "outputs": [],
   "source": [
    "print('Counting Total Dyadic War Combinations (Overall) by Descriptive Field\\n')\n",
    "max_dyad_columns = list(max_dyad_df.drop(['war_num',\n",
    "                                          'conflict_pair'], axis=1).columns)\n",
    "the_networks_of_war_python_functions.print_new_fields(dyad_df, None, max_dyad_columns)\n",
    "\n",
    "print('Counting Total Dyadic War Combinations by Descriptive Field\\n')\n",
    "descriptive_dyad_columns = list(dyad_df.drop(['war_num',\n",
    "                                              'c_code_a',\n",
    "                                              'c_code_b',\n",
    "                                              'participant_a',\n",
    "                                              'participant_b',\n",
    "                                              'first_year',\n",
    "                                              'last_year'], axis=1).columns)\n",
    "the_networks_of_war_python_functions.print_new_fields(dyad_df, None, descriptive_dyad_columns)"
   ]
  },
  {
   "cell_type": "markdown",
   "metadata": {},
   "source": [
    "### Addressing in null values, missing data, and conversions for dyads and participants"
   ]
  },
  {
   "cell_type": "code",
   "execution_count": null,
   "metadata": {},
   "outputs": [],
   "source": [
    "conversion_dic = {'money_flow_in': 1000000,\n",
    "                  'money_flow_out': 1000000,\n",
    "                  'military_expenditure': 1000,\n",
    "                  'military_personnel': 1000,\n",
    "                  'population': 1000,\n",
    "                  'urban_population': 1000,\n",
    "                  'refugees_originated': 1000,\n",
    "                  'internally_displaced_persons': 1000,\n",
    "                  'refugees_hosted': 1000,\n",
    "#                   'land_mass_exchange_gain': 'unsure',\n",
    "#                   'land_mass_exchange_loss': 'unsure',\n",
    "#                   'population_exchange_gain': 'unsure',\n",
    "#                   'population_exchange_loss': 'unsure',\n",
    "                  ## these are thousands of tons\n",
    "                  'iron_steel_production': 2000000,\n",
    "                  'energy_consumption': 2000000\n",
    "                 }\n",
    "print('\\nAddressng null values, missing data, and conversions for part_df.')\n",
    "part_df = deepcopy(the_networks_of_war_python_functions.column_fills_and_converions(part_df, 'participant', conversion_dic))\n",
    "\n",
    "print('\\nAddressng null values, missing data, and conversions for dyad_df.')\n",
    "dyad_df = deepcopy(the_networks_of_war_python_functions.column_fills_and_converions(dyad_df, 'dyad', None))"
   ]
  },
  {
   "cell_type": "markdown",
   "metadata": {},
   "source": [
    "### Saving the data"
   ]
  },
  {
   "cell_type": "code",
   "execution_count": null,
   "metadata": {},
   "outputs": [],
   "source": [
    "print('Total Participants: {}'.format(format(len(part_df), ',d')))\n",
    "print('Total Dyadic Combinations: {}'.format(format(len(dyad_df), ',d')))\n",
    "print('Total Wars: {}'.format(format(len(war_df), ',d')))\n",
    "\n",
    "part_df.to_pickle(pickle_directory + 'part_df.pkl')\n",
    "dyad_df.to_pickle(pickle_directory + 'dyad_df.pkl')\n",
    "war_df.to_pickle(pickle_directory + 'war_df.pkl')"
   ]
  },
  {
   "cell_type": "code",
   "execution_count": null,
   "metadata": {},
   "outputs": [],
   "source": [
    "part_df = pd.read_pickle(pickle_directory + 'part_df.pkl')\n",
    "dyad_df = pd.read_pickle(pickle_directory + 'dyad_df.pkl')\n",
    "war_df = pd.read_pickle(pickle_directory + 'war_df.pkl')"
   ]
  },
  {
   "cell_type": "markdown",
   "metadata": {},
   "source": [
    "## JSON Export for D3.js Processing"
   ]
  },
  {
   "cell_type": "code",
   "execution_count": 151,
   "metadata": {
    "code_folding": [],
    "scrolled": true
   },
   "outputs": [
    {
     "name": "stdout",
     "output_type": "stream",
     "text": [
      "\n",
      "Updating/recreating one JSON file per war_num.\n",
      "JSON Files to be Rewritten: 678\n",
      "\n",
      "Floating Node in Third Somalia War: Uganda\n",
      "Floating Node in Third Somalia War: Kenya\n",
      "Floating Node in Third Somalia War: Burundi\n",
      "Floating Node in First Waziristan War: United States of America\n",
      "Floating Node in Cote d'Ivoire Military War: France\n",
      "Floating Node in Africa's World War: Burundi\n",
      "Floating Node in Second Sierra Leone War: United Kingdom\n",
      "Floating Node in Bosnian-Serb Rebellion: United States of America\n",
      "Floating Node in Bosnian-Serb Rebellion: Croatia\n",
      "Floating Node in Fourth Lebanese War: Iran\n",
      "Floating Node in Fourth Lebanese War: Syria\n",
      "Floating Node in Chad - FAN War: France\n",
      "Floating Node in Chad - FAN War: Democratic Republic of the Congo\n",
      "Floating Node in Second Lebanese War: Syria\n",
      "Floating Node in First Laotian War: United States of America\n",
      "Floating Node in Spanish Civil War: Portugal\n",
      "Floating Node in Spanish Civil War: Germany\n",
      "Floating Node in Spanish Civil War: Italy\n",
      "Floating Node in Xinjiang Revolt: Russia\n",
      "Floating Node in World War I: Japan\n",
      "Floating Node in Third Mexican War: United States of America\n",
      "\n",
      "Completed JSON File Updates.\n",
      "\n",
      "Updating war_file_list.csv\n",
      "\n",
      "Completed war_file_list update.\n"
     ]
    }
   ],
   "source": [
    "war_column_list = deepcopy(list(war_df.columns))\n",
    "## dropping fields that won't be needed in the participant section of the json file\n",
    "## values may also differ between those in part_df and war_df.\n",
    "## those in war_df have undergone additional preprocessing.\n",
    "part_column_list = deepcopy(list(part_df.drop(['war_num',\n",
    "                                               'war_name',\n",
    "                                               'war_type',\n",
    "                                               'war_subtype',\n",
    "                                               'deaths_both_sides_z'], axis=1).columns))\n",
    "## dropping fields that won't be needed in the dyad section of the json file\n",
    "dyad_column_list = deepcopy(list(dyad_df.drop(['war_num',\n",
    "                                               'c_code_a',\n",
    "                                               'c_code_b',\n",
    "                                               'conflict_pair',\n",
    "                                               'participant_a',\n",
    "                                               'participant_b'], axis=1).columns))\n",
    "\n",
    "print('\\nUpdating/recreating one JSON file per war_num.')\n",
    "print('JSON Files to be Rewritten: {}\\n'.format(format(len(war_df), ',d')))\n",
    "\n",
    "for i, war in enumerate(war_df['war_num']):\n",
    "    \n",
    "    file_name = deepcopy('war_num_' + str(war).replace('.', '_') + '.json')\n",
    "    ## need to filter by war here because i does not follow the sorting of the dataframe\n",
    "    war_df.loc[war_df['war_num']==war, 'file_name'] = file_name\n",
    "    ## rewriting all of the files each time\n",
    "    graph_file = open(json_output_directory + file_name, 'w').close()\n",
    "    graph_file = open(json_output_directory + file_name, 'w')\n",
    "    \n",
    "    part_df_copy = deepcopy(part_df[part_df['war_num']==war].reset_index(drop=True))\n",
    "    dyad_df_copy = deepcopy(dyad_df[dyad_df['war_num']==war].reset_index(drop=True))\n",
    "    war_df_copy = deepcopy(war_df[war_df['war_num']==war].reset_index(drop=True))\n",
    "    \n",
    "    if len(part_df_copy)==0:\n",
    "        print('No participants for war_num {} ({}), {} dyads'.format(war, war_df_copy.loc[0, 'war_name'], len(part_df_copy)))\n",
    "    if len(dyad_df_copy)==0:\n",
    "        print('No dyads for war_num {} ({}), {} participants'.format(war, war_df_copy.loc[0, 'war_name'], len(part_df_copy)))\n",
    "        \n",
    "    war_line = ''\n",
    "    for i, column in enumerate(war_column_list):\n",
    "        if i==0:\n",
    "            war_line = deepcopy(war_line + '\"' + column + '\": \"' + str(war_df_copy.loc[0, column]))\n",
    "        else:\n",
    "            war_line = deepcopy(war_line + '\", \"' + column + '\": \"' + str(war_df_copy.loc[0, column]))\n",
    "\n",
    "    graph_file.write('{\\n  \"war\": [\\n    {' + war_line + '\"}\\n')\n",
    "\n",
    "    node_names = []\n",
    "    sides = []\n",
    "    for i, participant in enumerate(part_df_copy['participant']):\n",
    "        ## assigning the input based on whether a c_code is available\n",
    "        ## this will be used to link part_df_copy to the dyad_df_copy\n",
    "        ## (since c_code is not always availablen and participant names are not standardized)\n",
    "        c_code_input = part_df_copy.loc[i, 'c_code']\n",
    "        if str(c_code_input)[0] in str(np.arange(0, 10)):\n",
    "            node_names.append(part_df_copy.loc[i, 'c_code'])\n",
    "        else:\n",
    "            node_names.append(participant)\n",
    "        sides.append(part_df_copy.loc[i, 'side'])\n",
    "        \n",
    "    participant_line = ''\n",
    "    for i, participant in enumerate(part_df_copy['participant']):\n",
    "        ## this process begins the writing of the file and is completely separate from the one above\n",
    "        participant_line = deepcopy(participant_line + '    {\"id\": \"' + str(i))\n",
    "        for column in part_column_list:\n",
    "            participant_line = deepcopy(participant_line + '\", \"' + column + '\": \"' + str(part_df_copy.loc[i, column]))\n",
    "        participant_line = deepcopy(participant_line + '\"},\\n')\n",
    "\n",
    "    graph_file.write('  ],\\n  \"nodes\": [\\n' + participant_line[:-2] + '\\n')\n",
    "\n",
    "    link_line = ''\n",
    "    dyad_inputs = []\n",
    "    for i, node_1 in enumerate(dyad_df_copy['c_code_a']):\n",
    "        ## assigning the input based on whether a c_code is available\n",
    "        if str(node_1)[0] in str(np.arange(0, 10)):\n",
    "            node_1_input = node_1\n",
    "            dyad_inputs.append(node_1)\n",
    "        else:\n",
    "            node_1_input = dyad_df_copy.loc[i, 'participant_a']\n",
    "            dyad_inputs.append(node_1_input)\n",
    "        ## assigning the input based on whether a c_code is available\n",
    "        if str(dyad_df_copy.loc[i, 'c_code_b'])[0] in str(np.arange(0, 10)):\n",
    "            node_2_input = dyad_df_copy.loc[i, 'c_code_b']\n",
    "            dyad_inputs.append(node_2_input)\n",
    "        else:\n",
    "            node_2_input = dyad_df_copy.loc[i, 'participant_b']\n",
    "            dyad_inputs.append(node_2_input)\n",
    "        ## sometimes a country could be in the dyad and not in the participant df_copy.\n",
    "        ## this is rare but has happened (see Spain in WWII)\n",
    "        ## should be taken care of in processes above, so checking below to see if that process failed\n",
    "        if node_1_input not in node_names:\n",
    "            print(\"Participant Missing in Dyadic Data: {} ({}) for {}.\".format(dyad_df_copy.loc[i, 'participant_a'], int(dyad_df_copy.loc[i, 'c_code_a']), war_df_copy.loc[0, 'war_name']))   \n",
    "        elif node_2_input not in node_names:\n",
    "            print(\"Participant Missing in Dyadic Data: {} {} for {}.\".format(dyad_df_copy.loc[i, 'participant_b'], int(dyad_df_copy.loc[i, 'c_code_b']), war_df_copy.loc[0, 'war_name']))   \n",
    "        else:\n",
    "            link_line = deepcopy(link_line\n",
    "                + '    {\"source\": \"' + str(node_names.index(node_1_input))\n",
    "                + '\", \"target\": \"' + str(node_names.index(node_2_input)))\n",
    "            for column in dyad_column_list:\n",
    "                link_line = deepcopy(link_line + '\", \"' + column + '\": \"' + str(dyad_df_copy.loc[i, column]))\n",
    "            link_line = deepcopy(link_line + '\"},\\n')\n",
    "            ## checking for any dyads that are paired with participants on the same side as them\n",
    "            ## this would most likely suggest a mistake in pre-processing\n",
    "            ## does not apply to side 3 (switched sides)\n",
    "            if sides[node_names.index(node_1_input)]==sides[node_names.index(node_2_input)] and sides[node_names.index(node_1_input)]!=3:\n",
    "                print('Dyads on the Same Side: {} {} and {} {} for {}.'.format(dyad_df_copy.loc[i, 'participant_a'], int(dyad_df_copy.loc[i, 'c_code_a']), dyad_df_copy.loc[i, 'participant_b'], int(dyad_df_copy.loc[i, 'c_code_b']), war_df_copy.loc[0, 'war_name']))   \n",
    "                         \n",
    "    graph_file.write('  ],\\n  \"links\": [\\n' + link_line[:-2] + '\\n\\n  ]\\n}')\n",
    "\n",
    "    for node in node_names:\n",
    "        if node not in dyad_inputs:\n",
    "            if int(str(node)[0]) in np.arange(0, 10):\n",
    "                print('Floating Node in {}: {}'.format(war_df_copy.loc[0, 'war_name'],\n",
    "                                                       c_code_dic[node]))\n",
    "            else:\n",
    "                print('Floating Node in {}: {}'.format(war_df_copy.loc[0, 'war_name'],\n",
    "                                                       node))\n",
    "                \n",
    "print('\\nCompleted JSON File Updates.')\n",
    "\n",
    "print('\\nUpdating war_file_list.csv')\n",
    "war_df.to_csv(csv_output_directory + 'war_file_list.csv', index=None)\n",
    "print('\\nCompleted war_file_list update.')"
   ]
  },
  {
   "cell_type": "code",
   "execution_count": null,
   "metadata": {},
   "outputs": [],
   "source": []
  },
  {
   "cell_type": "code",
   "execution_count": null,
   "metadata": {},
   "outputs": [],
   "source": []
  },
  {
   "cell_type": "code",
   "execution_count": null,
   "metadata": {},
   "outputs": [],
   "source": []
  },
  {
   "cell_type": "code",
   "execution_count": null,
   "metadata": {},
   "outputs": [],
   "source": []
  },
  {
   "cell_type": "code",
   "execution_count": null,
   "metadata": {},
   "outputs": [],
   "source": []
  }
 ],
 "metadata": {
  "kernelspec": {
   "display_name": "Python 3",
   "language": "python",
   "name": "python3"
  },
  "language_info": {
   "codemirror_mode": {
    "name": "ipython",
    "version": 3
   },
   "file_extension": ".py",
   "mimetype": "text/x-python",
   "name": "python",
   "nbconvert_exporter": "python",
   "pygments_lexer": "ipython3",
   "version": "3.9.2"
  }
 },
 "nbformat": 4,
 "nbformat_minor": 2
}
