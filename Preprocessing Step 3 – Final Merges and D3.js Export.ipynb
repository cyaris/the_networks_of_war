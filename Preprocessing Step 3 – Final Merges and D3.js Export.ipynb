{
 "cells": [
  {
   "cell_type": "code",
   "execution_count": 1,
   "metadata": {},
   "outputs": [],
   "source": [
    "import pandas as pd\n",
    "import numpy as np\n",
    "from pandasql import sqldf\n",
    "pysqldf = lambda q: sqldf(q, globals())\n",
    "from copy import deepcopy\n",
    "from traceback import format_exc\n",
    "# from pprint import pprint\n",
    "import the_networks_of_war_python_functions"
   ]
  },
  {
   "cell_type": "code",
   "execution_count": 2,
   "metadata": {},
   "outputs": [],
   "source": [
    "pd.set_option('display.max_columns', None)\n",
    "pd.set_option('display.float_format', lambda x: '%.5f' % x)"
   ]
  },
  {
   "cell_type": "code",
   "execution_count": 3,
   "metadata": {},
   "outputs": [
    {
     "data": {
      "text/plain": [
       "'/Users/charlieyaris/Personal/github_repositories/the_networks_of_war'"
      ]
     },
     "execution_count": 3,
     "metadata": {},
     "output_type": "execute_result"
    }
   ],
   "source": [
    "pwd"
   ]
  },
  {
   "cell_type": "code",
   "execution_count": 4,
   "metadata": {},
   "outputs": [],
   "source": [
    "csv_output_directory = '../cyaris.github.io/assets/csv/the_networks_of_war/'\n",
    "json_output_directory = '../cyaris.github.io/assets/json/the_networks_of_war/'\n",
    "csv_directory = '/Users/charlieyaris/Personal/data_sources/the_networks_of_war/csvs/'\n",
    "pickle_directory = '/Users/charlieyaris/Personal/data_sources/the_networks_of_war/pickles/'"
   ]
  },
  {
   "cell_type": "markdown",
   "metadata": {},
   "source": [
    "## Setup for Identifying Countries by Code\n",
    "### Note: This is helpful for when different names are used for the same country."
   ]
  },
  {
   "cell_type": "code",
   "execution_count": 5,
   "metadata": {},
   "outputs": [],
   "source": [
    "c_code_df = pd.read_csv(csv_directory + 'COW country codes.csv', encoding='latin-1')\n",
    "\n",
    "query_text = \"\"\"\n",
    "\n",
    "select\n",
    "    ccode as c_code,\n",
    "    statenme as state_name,\n",
    "    stateabb as state_name_abbreviation\n",
    "from c_code_df\n",
    "group by 1, 2, 3\n",
    "\n",
    "\"\"\"\n",
    "\n",
    "c_code_df = deepcopy(pysqldf(query_text))"
   ]
  },
  {
   "cell_type": "code",
   "execution_count": 6,
   "metadata": {},
   "outputs": [],
   "source": [
    "def get_c_code_or_part_name(c_code_input, participant_input):\n",
    "    \n",
    "    if c_code_input > 0:\n",
    "        return str(int(c_code_input))\n",
    "    else:\n",
    "        return participant_input"
   ]
  },
  {
   "cell_type": "markdown",
   "metadata": {},
   "source": [
    "## Integrating Descriptive Data (Defined in Outside Notebook)"
   ]
  },
  {
   "cell_type": "markdown",
   "metadata": {},
   "source": [
    "### Merging Participant Data with Participant-Level Descriptive Data"
   ]
  },
  {
   "cell_type": "code",
   "execution_count": 7,
   "metadata": {},
   "outputs": [],
   "source": [
    "part_df = pd.read_pickle(pickle_directory + 'participant_descriptive_df.pkl')\n",
    "dyad_df = pd.read_pickle(pickle_directory + 'dyadic_descriptive_df.pkl')\n",
    "war_df = pd.read_pickle(pickle_directory + 'initial_war_df.pkl')"
   ]
  },
  {
   "cell_type": "markdown",
   "metadata": {},
   "source": [
    "### Merging Dyadic Data with Dyadic-Level Descriptive Data"
   ]
  },
  {
   "cell_type": "code",
   "execution_count": 8,
   "metadata": {},
   "outputs": [
    {
     "name": "stdout",
     "output_type": "stream",
     "text": [
      "Counting Total Dyadic War and Year Combinations by Descriptive Field\n",
      "\n",
      "       inter_governmental_organizations_x 568\n",
      "       inter_governmental_organizations_z 568\n",
      "       inter_governmental_organizations_y 567\n",
      "                                  mtops_y 329\n",
      "                                  mtops_z 329\n",
      "                                  mtops_x 323\n",
      "                             contiguity_z 311\n",
      "                             contiguity_x 308\n",
      "                             contiguity_y 308\n",
      "                        trade_relations_z 244\n",
      "                        trade_relations_y 229\n",
      "                    diplomatic_exchange_z 225\n",
      "                        trade_relations_x 217\n",
      "                   elective_legislature_z 144\n",
      "               multi_party_state_exists_z 134\n",
      "               multi_party_state_exists_x 133\n",
      "                   elective_legislature_x 131\n",
      "                   elective_legislature_y 130\n",
      "               multi_party_state_exists_y 129\n",
      "                                   atop_z 127\n",
      "                    diplomatic_exchange_x 120\n",
      "                     territory_exchange_z 115\n",
      "                                   atop_y 108\n",
      "                                   atop_x 106\n",
      "                               alliance_z  97\n",
      "         defense_cooperation_agreements_y  96\n",
      "         defense_cooperation_agreements_z  96\n",
      "                     territory_exchange_y  95\n",
      "         defense_cooperation_agreements_x  91\n",
      "                               alliance_x  89\n",
      "                          dictatorships_y  87\n",
      "                          dictatorships_z  87\n",
      "                          dictatorships_x  85\n",
      "                    diplomatic_exchange_y  83\n",
      "                               alliance_y  79\n",
      "                    colonial_contiguity_z  77\n",
      "                    colonial_contiguity_x  68\n",
      "                    colonial_contiguity_y  65\n",
      "                     territory_exchange_x  60\n",
      "                    non_elected_leaders_z  49\n",
      "          multi_party_legislature_legal_z  46\n",
      "          multi_party_legislature_legal_y  44\n",
      "                    non_elected_leaders_y  44\n",
      "          multi_party_legislature_legal_x  43\n",
      "                       same_leader_type_z  40\n",
      "                    non_elected_leaders_x  39\n",
      "                       same_leader_type_x  37\n",
      "                       same_leader_type_y  36\n",
      "                       military_leaders_z  29\n",
      "                       military_leaders_x  26\n",
      "                       military_leaders_y  26\n",
      "                      indirect_election_z  23\n",
      "            no_non_regime_parties_exist_z  23\n",
      "                      indirect_election_x  22\n",
      "                      indirect_election_y  20\n",
      "            no_non_regime_parties_exist_x  20\n",
      "            no_non_regime_parties_exist_y  20\n",
      "          no_partisan_legislature_legal_z  19\n",
      "          no_partisan_legislature_legal_y  17\n",
      "          no_partisan_legislature_legal_x  15\n",
      "                     democratic_regimes_z  13\n",
      "                     democratic_regimes_x  12\n",
      "                     democratic_regimes_y  12\n",
      "                        direct_election_y  12\n",
      "                        direct_election_z  12\n",
      "                             new_leader_z  12\n",
      "                        direct_election_x  11\n",
      "                             new_leader_x  10\n",
      "no_non_regime_legislature_parties_legal_z  10\n",
      "                       one_party_exists_y  10\n",
      "                       one_party_exists_z  10\n",
      "                         no_legislature_z   9\n",
      "                       one_party_exists_x   9\n",
      "                      communist_leaders_y   8\n",
      "                      communist_leaders_z   8\n",
      "                      communist_leaders_x   7\n",
      "                         no_legislature_x   7\n",
      "                         no_legislature_y   6\n",
      "no_non_regime_legislature_parties_legal_x   6\n",
      "no_non_regime_legislature_parties_legal_y   6\n",
      "              single_party_state_exists_x   6\n",
      "              single_party_state_exists_y   6\n",
      "              single_party_state_exists_z   6\n",
      "                    all_parties_illegal_z   5\n",
      "               non_elective_legislature_z   5\n",
      "                    all_parties_illegal_y   4\n",
      "               non_elective_legislature_x   4\n",
      "               non_elective_legislature_y   4\n",
      "                    all_parties_illegal_x   3\n",
      "                             new_leader_y   3\n",
      "                       no_parties_exist_y   2\n",
      "                       no_parties_exist_z   2\n",
      "                       no_parties_exist_x   1\n"
     ]
    }
   ],
   "source": [
    "print('Counting Total Dyadic War and Year Combinations by Descriptive Field\\n')\n",
    "initial_dyad_columns = ['start_date', 'start_year', 'end_date', 'end_year', 'war_num', 'c_code_a', 'c_code_b', 'participant_a', 'participant_b', 'battle_deaths_a', 'battle_deaths_b', 'battle_deaths_est_a', 'battle_deaths_est_b']\n",
    "the_networks_of_war_python_functions.print_new_fields(dyad_df, initial_dyad_columns, list(dyad_df.drop(initial_dyad_columns, axis=1).columns))"
   ]
  },
  {
   "cell_type": "markdown",
   "metadata": {},
   "source": [
    "## Finalizing Participant and Dyadic Dataframes"
   ]
  },
  {
   "cell_type": "markdown",
   "metadata": {},
   "source": [
    "### Keeping values for first and last year of each dyad\n",
    "### Combining these into one row per dyad"
   ]
  },
  {
   "cell_type": "code",
   "execution_count": 9,
   "metadata": {
    "code_folding": [
     8
    ]
   },
   "outputs": [],
   "source": [
    "## creating unique identifier \"conflict_pair\" for each dyad\n",
    "## based on name\n",
    "for i, participant_a in enumerate(dyad_df['participant_a']):\n",
    "    ## standardizing participant names with ccode when available\n",
    "    dyad_list = []\n",
    "    \n",
    "    dyad_list.append(get_c_code_or_part_name(dyad_df.loc[i, 'c_code_a'], participant_a))\n",
    "    dyad_list.append(get_c_code_or_part_name(dyad_df.loc[i, 'c_code_b'], dyad_df.loc[i, 'participant_b']))\n",
    "\n",
    "    dyad_list = str(sorted(dyad_list))\n",
    "    dyad_df.loc[i, 'conflict_pair'] = dyad_list\n",
    "\n",
    "## keeping the values for once for each a/b dyad combination.\n",
    "## need to dedupe across conflict pair so a vs b are never repeated interchangably.\n",
    "dyad_df.drop_duplicates(subset=['war_num', 'conflict_pair'], keep='first', inplace=True)"
   ]
  },
  {
   "cell_type": "markdown",
   "metadata": {},
   "source": [
    "### Addressing in null values, missing data, and conversions for dyads and participants"
   ]
  },
  {
   "cell_type": "code",
   "execution_count": 10,
   "metadata": {},
   "outputs": [
    {
     "name": "stdout",
     "output_type": "stream",
     "text": [
      "\n",
      "Addressng null values, missing data, and conversions for part_df.\n",
      "\n",
      "Total Columns Adjusted: 84\n",
      "Total Columns Adjusted for Conversion: 22\n",
      "Total Null Values Notated: 86,206\n",
      "Total Unknown Values Notated: 671\n",
      "\n",
      "Addressng null values, missing data, and conversions for dyad_df.\n",
      "\n",
      "Total Columns Adjusted: 93\n",
      "Total Columns Adjusted for Conversion: 0\n",
      "Total Null Values Notated: 0\n",
      "Total Unknown Values Notated: 0\n"
     ]
    }
   ],
   "source": [
    "conversion_dic = {'money_flow_in': 1000000,\n",
    "                  'money_flow_out': 1000000,\n",
    "                  'military_expenditure': 1000,\n",
    "                  'military_personnel': 1000,\n",
    "                  'population': 1000,\n",
    "                  'urban_population': 1000,\n",
    "                  'refugees_hosted': 1000,\n",
    "                  'refugees_originated': 1000,\n",
    "                  'internally_displaced_persons': 1000,\n",
    "#                   'land_mass_exchange_gain': 'unsure',\n",
    "#                   'land_mass_exchange_loss': 'unsure',\n",
    "#                   'population_exchange_gain': 'unsure',\n",
    "#                   'population_exchange_loss': 'unsure',\n",
    "                  ## these are thousands of tons\n",
    "                  'iron_steel_production': 2000000,\n",
    "                  'energy_consumption': 2000000\n",
    "                 }\n",
    "print('\\nAddressng null values, missing data, and conversions for part_df.')\n",
    "part_df = deepcopy(the_networks_of_war_python_functions.column_fills_and_converions(part_df, 'participant', conversion_dic))\n",
    "\n",
    "print('\\nAddressng null values, missing data, and conversions for dyad_df.')\n",
    "dyad_df = deepcopy(the_networks_of_war_python_functions.column_fills_and_converions(dyad_df, 'dyad', None))"
   ]
  },
  {
   "cell_type": "markdown",
   "metadata": {},
   "source": [
    "### Saving the data"
   ]
  },
  {
   "cell_type": "code",
   "execution_count": 11,
   "metadata": {},
   "outputs": [
    {
     "name": "stdout",
     "output_type": "stream",
     "text": [
      "Total Participants: 1,715\n",
      "Total Dyadic Combinations: 1,112\n",
      "Total Wars: 678\n"
     ]
    }
   ],
   "source": [
    "print('Total Participants: {}'.format(format(len(part_df), ',d')))\n",
    "print('Total Dyadic Combinations: {}'.format(format(len(dyad_df), ',d')))\n",
    "print('Total Wars: {}'.format(format(len(war_df), ',d')))\n",
    "\n",
    "part_df.to_pickle(pickle_directory + 'part_df.pkl')\n",
    "dyad_df.to_pickle(pickle_directory + 'dyad_df.pkl')\n",
    "war_df.to_pickle(pickle_directory + 'war_df.pkl')"
   ]
  },
  {
   "cell_type": "code",
   "execution_count": 12,
   "metadata": {},
   "outputs": [],
   "source": [
    "part_df = pd.read_pickle(pickle_directory + 'part_df.pkl')\n",
    "dyad_df = pd.read_pickle(pickle_directory + 'dyad_df.pkl')\n",
    "war_df = pd.read_pickle(pickle_directory + 'war_df.pkl')"
   ]
  },
  {
   "cell_type": "code",
   "execution_count": 13,
   "metadata": {},
   "outputs": [],
   "source": [
    "part_df.loc[part_df['ongoing_participation']==1, 'end_date'] = None\n",
    "part_df.loc[part_df['ongoing_participation']==1, 'end_year'] = None"
   ]
  },
  {
   "cell_type": "markdown",
   "metadata": {},
   "source": [
    "## JSON Export for D3.js Processing"
   ]
  },
  {
   "cell_type": "code",
   "execution_count": 14,
   "metadata": {
    "code_folding": [],
    "scrolled": true
   },
   "outputs": [
    {
     "name": "stdout",
     "output_type": "stream",
     "text": [
      "\n",
      "Updating/recreating one JSON file per war_num.\n",
      "JSON Files to be Rewritten: 678\n",
      "\n",
      "Floating Node in Third Somalia War: 500 (Uganda)\n",
      "Floating Node in Third Somalia War: 501 (Kenya)\n",
      "Floating Node in Third Somalia War: 516 (Burundi)\n",
      "Floating Node in First Waziristan War: 2 (United States of America)\n",
      "Floating Node in Cote d'Ivoire Military War: 220 (France)\n",
      "Floating Node in Africa's World War: 516 (Burundi)\n",
      "Floating Node in Second Sierra Leone War: 200 (United Kingdom)\n",
      "Floating Node in Bosnian-Serb Rebellion: 2 (United States of America)\n",
      "Floating Node in Bosnian-Serb Rebellion: 344 (Croatia)\n",
      "Floating Node in Fourth Lebanese War: 630 (Iran)\n",
      "Floating Node in Fourth Lebanese War: 652 (Syria)\n",
      "Floating Node in Chad - FAN War: 490 (Democratic Republic of the Congo)\n",
      "Floating Node in Second Lebanese War: 652 (Syria)\n",
      "Floating Node in First Laotian War: 2 (United States of America)\n",
      "Floating Node in Spanish Civil War: 235 (Portugal)\n",
      "Floating Node in Spanish Civil War: 255 (Germany)\n",
      "Floating Node in Spanish Civil War: 325 (Italy)\n",
      "Floating Node in Xinjiang Revolt: 365 (Russia)\n",
      "Floating Node in World War I: 740 (Japan)\n",
      "Floating Node in Third Mexican War: 2 (United States of America)\n",
      "\n",
      "Completed JSON File Updates.\n",
      "\n",
      "Updating war_file_list.csv\n",
      "\bCompleted war_file_list update.\n"
     ]
    }
   ],
   "source": [
    "war_column_list = deepcopy(list(war_df.columns))\n",
    "## dropping fields that won't be needed in the participant section of the json file\n",
    "## values may also differ between those in part_df and war_df.\n",
    "## those in war_df have undergone additional preprocessing.\n",
    "part_column_list = deepcopy(list(part_df.drop(['war_num',\n",
    "                                               'war_name',\n",
    "                                               'war_type',\n",
    "                                               'war_subtype'\n",
    "#                                                'deaths_both_sides_z'\n",
    "                                              ], axis=1).columns))\n",
    "## dropping fields that won't be needed in the dyad section of the json file\n",
    "\n",
    "dyad_column_list = deepcopy(list(dyad_df.drop(initial_dyad_columns, axis=1).columns))\n",
    "\n",
    "print('\\nUpdating/recreating one JSON file per war_num.')\n",
    "print('JSON Files to be Rewritten: {}\\n'.format(format(len(war_df), ',d')))\n",
    "\n",
    "for i, war_num in enumerate(war_df['war_num']):\n",
    "    \n",
    "    file_name = deepcopy('war_num_' + str(war_num).replace('.', '_') + '.json')\n",
    "    ## need to filter by war here because i does not follow the sorting of the dataframe\n",
    "    war_df.loc[war_df['war_num']==war_num, 'file_name'] = file_name\n",
    "     \n",
    "    part_df_copy = deepcopy(part_df[part_df['war_num']==war_num].reset_index(drop=True))\n",
    "    dyad_df_copy = deepcopy(dyad_df[dyad_df['war_num']==war_num].reset_index(drop=True))\n",
    "    war_df_copy = deepcopy(war_df[war_df['war_num']==war_num].reset_index(drop=True))\n",
    "    \n",
    "    ## rewriting all of the files each time\n",
    "    graph_file = open(json_output_directory + file_name, 'w').close()\n",
    "    graph_file = open(json_output_directory + file_name, 'w')\n",
    "    \n",
    "    if len(part_df_copy)==0:\n",
    "        print('No participants for war_num {} ({}), {} dyads'.format(war_num, war_df_copy.loc[0, 'war_name'], len(part_df_copy)))\n",
    "    if len(dyad_df_copy)==0:\n",
    "        print('No dyads for war_num {} ({}), {} participants'.format(war_num, war_df_copy.loc[0, 'war_name'], len(part_df_copy)))\n",
    "        \n",
    "    war_line = ''\n",
    "    for i, column in enumerate(war_column_list):\n",
    "        if i > 0:\n",
    "            war_line = deepcopy(war_line + ', ')\n",
    "        war_line = deepcopy(war_line + '\"' + column + '\": \"' + str(war_df_copy.loc[0, column]) + '\"')\n",
    "\n",
    "    graph_file.write('{\\n  \"war\": [\\n    {' + war_line + '}\\n')\n",
    "\n",
    "    node_names = []\n",
    "    sides = []\n",
    "    participant_line = ''\n",
    "    for i, participant in enumerate(part_df_copy['participant']):\n",
    "        \n",
    "        ## assigning the input based on whether a c_code is available\n",
    "        ## this will be used to link part_df_copy to the dyad_df_copy\n",
    "        ## (since c_code is not always availablen and participant names are not standardized)\n",
    "        node_names.append(get_c_code_or_part_name(part_df_copy.loc[i, 'c_code'], participant))\n",
    "        sides.append(part_df_copy.loc[i, 'side'])\n",
    "        \n",
    "        ## this process begins the writing of the file and is completely separate from the one above\n",
    "        participant_line = deepcopy(participant_line + '    {\"id\": \"' + str(i))\n",
    "        for column in part_column_list:\n",
    "            participant_line = deepcopy(participant_line + '\", \"' + column + '\": \"' + str(part_df_copy.loc[i, column]))\n",
    "        participant_line = deepcopy(participant_line + '\"},\\n')\n",
    "\n",
    "    graph_file.write('  ],\\n  \"nodes\": [\\n' + participant_line[:-2] + '\\n')\n",
    "\n",
    "    link_line = ''\n",
    "    dyad_inputs = []\n",
    "    for i, c_code_a in enumerate(dyad_df_copy['c_code_a']):\n",
    "        ## assigning the input based on whether a c_code is available\n",
    "        node_1 = get_c_code_or_part_name(dyad_df_copy.loc[i, 'c_code_a'], dyad_df_copy.loc[i, 'participant_a'])\n",
    "        dyad_inputs.append(node_1)\n",
    "        node_2 = get_c_code_or_part_name(dyad_df_copy.loc[i, 'c_code_b'], dyad_df_copy.loc[i, 'participant_b'])\n",
    "        dyad_inputs.append(node_2)\n",
    "        ## sometimes a country could be in the dyad and not in the participant df_copy.\n",
    "        ## this is rare but has happened (see Spain in WWII)\n",
    "        ## should be taken care of in processes above, so checking below to see if that process failed\n",
    "        if node_1 not in node_names and node_2 not in node_names:\n",
    "            print(\"Participant Missing in Dyadic Data: {} ({}) for {}.\".format(int(dyad_df_copy.loc[i, 'c_code_a']), dyad_df_copy.loc[i, 'participant_a'], war_df_copy.loc[0, 'war_name']))\n",
    "            print(\"Participant Missing in Dyadic Data: {} ({}) for {}.\".format(int(dyad_df_copy.loc[i, 'c_code_b']), dyad_df_copy.loc[i, 'participant_b'], war_df_copy.loc[0, 'war_name']))\n",
    "        elif node_1 not in node_names:\n",
    "            print(\"Participant Missing in Dyadic Data: {} ({}) for {}.\".format(int(dyad_df_copy.loc[i, 'c_code_a']), dyad_df_copy.loc[i, 'participant_a'], war_df_copy.loc[0, 'war_name']))\n",
    "        elif node_2 not in node_names:\n",
    "            print(\"Participant Missing in Dyadic Data: {} ({}) for {}.\".format(int(dyad_df_copy.loc[i, 'c_code_b']), dyad_df_copy.loc[i, 'participant_b'], war_df_copy.loc[0, 'war_name']))   \n",
    "        else:\n",
    "            link_line = deepcopy(link_line\n",
    "                + '    {\"source\": \"' + str(node_names.index(node_1))\n",
    "                + '\", \"target\": \"' + str(node_names.index(node_2)))\n",
    "            for column in dyad_column_list:\n",
    "                link_line = deepcopy(link_line + '\", \"' + column + '\": \"' + str(dyad_df_copy.loc[i, column]))\n",
    "            link_line = deepcopy(link_line + '\"},\\n')\n",
    "            ## checking for any dyads that are paired with participants on the same side as them\n",
    "            ## this would most likely suggest a mistake in pre-processing\n",
    "            ## does not apply to side 3 (switched sides)\n",
    "            if sides[node_names.index(node_1)]==sides[node_names.index(node_2)] and sides[node_names.index(node_1)]!=3:\n",
    "                print('Dyads on the Same Side: {} ({}) and {} ({}) for {}.'.format(int(dyad_df_copy.loc[i, 'c_code_a']), dyad_df_copy.loc[i, 'participant_a'], int(dyad_df_copy.loc[i, 'c_code_b']), dyad_df_copy.loc[i, 'participant_b'], war_df_copy.loc[0, 'war_name']))   \n",
    "                         \n",
    "    graph_file.write('  ],\\n  \"links\": [\\n' + link_line[:-2] + '\\n\\n  ]\\n\\n}')\n",
    "\n",
    "    for node in node_names:\n",
    "        if node not in dyad_inputs:\n",
    "            try:\n",
    "                print('Floating Node in {}: {} ({})'.format(war_df_copy.loc[0, 'war_name'], node, c_code_df[c_code_df['c_code']==int(node)]['state_name'].values[0]))\n",
    "            except:\n",
    "                print('Floating Node in {}: {}'.format(war_df_copy.loc[0, 'war_name'], node))\n",
    "                \n",
    "print('\\nCompleted JSON File Updates.')\n",
    "\n",
    "print('\\nUpdating war_file_list.csv')\n",
    "war_df.to_csv(csv_output_directory + 'war_file_list.csv', index=None)\n",
    "print('\\bCompleted war_file_list update.')"
   ]
  },
  {
   "cell_type": "code",
   "execution_count": null,
   "metadata": {},
   "outputs": [],
   "source": []
  }
 ],
 "metadata": {
  "kernelspec": {
   "display_name": "Python 3",
   "language": "python",
   "name": "python3"
  },
  "language_info": {
   "codemirror_mode": {
    "name": "ipython",
    "version": 3
   },
   "file_extension": ".py",
   "mimetype": "text/x-python",
   "name": "python",
   "nbconvert_exporter": "python",
   "pygments_lexer": "ipython3",
   "version": "3.9.2"
  }
 },
 "nbformat": 4,
 "nbformat_minor": 2
}
