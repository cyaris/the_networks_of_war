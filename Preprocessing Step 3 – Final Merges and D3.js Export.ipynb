{
 "cells": [
  {
   "cell_type": "code",
   "execution_count": 1,
   "metadata": {},
   "outputs": [],
   "source": [
    "import pandas as pd\n",
    "import numpy as np\n",
    "from pandasql import sqldf\n",
    "pysqldf = lambda q: sqldf(q, globals())\n",
    "from copy import deepcopy\n",
    "from traceback import format_exc\n",
    "# from pprint import pprint\n",
    "import the_networks_of_war_python_functions"
   ]
  },
  {
   "cell_type": "code",
   "execution_count": 2,
   "metadata": {},
   "outputs": [],
   "source": [
    "pd.set_option('display.max_columns', None)\n",
    "pd.set_option('display.float_format', lambda x: '%.5f' % x)"
   ]
  },
  {
   "cell_type": "code",
   "execution_count": 3,
   "metadata": {},
   "outputs": [
    {
     "data": {
      "text/plain": [
       "'/Users/charlieyaris/Personal/github_repositories/the_networks_of_war'"
      ]
     },
     "execution_count": 3,
     "metadata": {},
     "output_type": "execute_result"
    }
   ],
   "source": [
    "pwd"
   ]
  },
  {
   "cell_type": "code",
   "execution_count": 4,
   "metadata": {},
   "outputs": [],
   "source": [
    "csv_output_directory = '../cyaris.github.io/assets/csv/the_networks_of_war/'\n",
    "json_output_directory = '../cyaris.github.io/assets/json/the_networks_of_war/'\n",
    "csv_directory = '/Users/charlieyaris/Personal/data_sources/the_networks_of_war/csvs/'\n",
    "pickle_directory = '/Users/charlieyaris/Personal/data_sources/the_networks_of_war/pickles/'"
   ]
  },
  {
   "cell_type": "markdown",
   "metadata": {},
   "source": [
    "## Setup for Identifying Countries by Code\n",
    "### Note: This is helpful for when different names are used for the same country."
   ]
  },
  {
   "cell_type": "code",
   "execution_count": 5,
   "metadata": {},
   "outputs": [
    {
     "data": {
      "text/plain": [
       "'/Users/charlieyaris/Personal/github_repositories/the_networks_of_war'"
      ]
     },
     "execution_count": 5,
     "metadata": {},
     "output_type": "execute_result"
    }
   ],
   "source": [
    "pwd"
   ]
  },
  {
   "cell_type": "code",
   "execution_count": 6,
   "metadata": {},
   "outputs": [],
   "source": [
    "c_code_df = pd.read_csv(csv_directory + 'COW country codes.csv', encoding='latin-1')\n",
    "\n",
    "query_text = \"\"\"\n",
    "\n",
    "select\n",
    "    ccode as c_code,\n",
    "    statenme as state_name,\n",
    "    stateabb as state_name_abbreviation\n",
    "from c_code_df\n",
    "group by 1, 2, 3\n",
    "\n",
    "\"\"\"\n",
    "\n",
    "c_code_df = deepcopy(pysqldf(query_text))"
   ]
  },
  {
   "cell_type": "markdown",
   "metadata": {},
   "source": [
    "## Integrating Descriptive Data (Defined in Outside Notebook)"
   ]
  },
  {
   "cell_type": "markdown",
   "metadata": {},
   "source": [
    "### Merging Participant Data with Participant-Level Descriptive Data"
   ]
  },
  {
   "cell_type": "code",
   "execution_count": 7,
   "metadata": {},
   "outputs": [],
   "source": [
    "part_df = pd.read_pickle(pickle_directory + 'participant_descriptive_df.pkl')\n",
    "dyad_df = pd.read_pickle(pickle_directory + 'dyadic_descriptive_df.pkl')\n",
    "war_df = pd.read_pickle(pickle_directory + 'initial_war_df.pkl')"
   ]
  },
  {
   "cell_type": "markdown",
   "metadata": {},
   "source": [
    "### Merging Dyadic Data with Dyadic-Level Descriptive Data"
   ]
  },
  {
   "cell_type": "code",
   "execution_count": 9,
   "metadata": {},
   "outputs": [
    {
     "name": "stdout",
     "output_type": "stream",
     "text": [
      "Counting Total Dyadic War and Year Combinations by Descriptive Field\n",
      "\n",
      "       inter_governmental_organizations_x 397\n",
      "       inter_governmental_organizations_z 397\n",
      "       inter_governmental_organizations_y 396\n",
      "                                  mtops_y 254\n",
      "                                  mtops_z 254\n",
      "                                  mtops_x 248\n",
      "                             contiguity_z 201\n",
      "                             contiguity_x 199\n",
      "                             contiguity_y 198\n",
      "                        trade_relations_z 167\n",
      "                    diplomatic_exchange_z 161\n",
      "                        trade_relations_y 155\n",
      "                        trade_relations_x 149\n",
      "                   elective_legislature_z 101\n",
      "                                   atop_z  97\n",
      "               multi_party_state_exists_z  97\n",
      "               multi_party_state_exists_x  96\n",
      "               multi_party_state_exists_y  93\n",
      "                   elective_legislature_y  92\n",
      "                    diplomatic_exchange_x  91\n",
      "                   elective_legislature_x  90\n",
      "                                   atop_y  83\n",
      "                                   atop_x  77\n",
      "         defense_cooperation_agreements_y  73\n",
      "         defense_cooperation_agreements_z  73\n",
      "                          dictatorships_y  70\n",
      "                          dictatorships_z  70\n",
      "                               alliance_z  68\n",
      "         defense_cooperation_agreements_x  68\n",
      "                          dictatorships_x  68\n",
      "                     territory_exchange_z  64\n",
      "                               alliance_x  61\n",
      "                               alliance_y  55\n",
      "                     territory_exchange_y  55\n",
      "                    colonial_contiguity_z  53\n",
      "                    colonial_contiguity_x  49\n",
      "                    diplomatic_exchange_y  46\n",
      "                    colonial_contiguity_y  42\n",
      "                    non_elected_leaders_z  38\n",
      "          multi_party_legislature_legal_z  34\n",
      "                    non_elected_leaders_y  33\n",
      "          multi_party_legislature_legal_y  32\n",
      "                    non_elected_leaders_x  32\n",
      "          multi_party_legislature_legal_x  31\n",
      "                       same_leader_type_z  31\n",
      "                     territory_exchange_x  30\n",
      "                       same_leader_type_x  29\n",
      "                       same_leader_type_y  27\n",
      "                       military_leaders_z  21\n",
      "                       military_leaders_x  18\n",
      "                       military_leaders_y  18\n",
      "                      indirect_election_z  17\n",
      "          no_partisan_legislature_legal_z  17\n",
      "                      indirect_election_x  16\n",
      "                      indirect_election_y  15\n",
      "            no_non_regime_parties_exist_z  15\n",
      "          no_partisan_legislature_legal_y  15\n",
      "            no_non_regime_parties_exist_x  13\n",
      "            no_non_regime_parties_exist_y  13\n",
      "          no_partisan_legislature_legal_x  13\n",
      "                        direct_election_y  11\n",
      "                        direct_election_z  11\n",
      "                        direct_election_x  10\n",
      "                     democratic_regimes_z   9\n",
      "                     democratic_regimes_x   8\n",
      "                     democratic_regimes_y   8\n",
      "                         no_legislature_z   8\n",
      "no_non_regime_legislature_parties_legal_z   7\n",
      "                       one_party_exists_y   7\n",
      "                       one_party_exists_z   7\n",
      "                         no_legislature_x   6\n",
      "                       one_party_exists_x   6\n",
      "                    all_parties_illegal_z   5\n",
      "                         no_legislature_y   5\n",
      "               non_elective_legislature_z   5\n",
      "                    all_parties_illegal_y   4\n",
      "                      communist_leaders_y   4\n",
      "                      communist_leaders_z   4\n",
      "no_non_regime_legislature_parties_legal_x   4\n",
      "no_non_regime_legislature_parties_legal_y   4\n",
      "               non_elective_legislature_x   4\n",
      "               non_elective_legislature_y   4\n",
      "              single_party_state_exists_x   4\n",
      "              single_party_state_exists_y   4\n",
      "              single_party_state_exists_z   4\n",
      "                    all_parties_illegal_x   3\n",
      "                      communist_leaders_x   3\n",
      "                       no_parties_exist_y   2\n",
      "                       no_parties_exist_z   2\n",
      "                       no_parties_exist_x   1\n",
      "                            participant_a   0\n",
      "                            participant_b   0\n"
     ]
    }
   ],
   "source": [
    "print('Counting Total Dyadic War and Year Combinations by Descriptive Field\\n')\n",
    "initial_dyad_columns = ['start_date', 'start_year', 'end_date', 'end_year', 'war_num', 'c_code_a', 'c_code_b', 'participant_a', 'participant_b']\n",
    "the_networks_of_war_python_functions.print_new_fields(dyad_df, initial_dyad_columns, list(dyad_df.drop(initial_dyad_columns, axis=1).columns))\n"
   ]
  },
  {
   "cell_type": "markdown",
   "metadata": {},
   "source": [
    "## Finalizing Participant and Dyadic Dataframes"
   ]
  },
  {
   "cell_type": "markdown",
   "metadata": {},
   "source": [
    "### Keeping values for first and last year of each dyad\n",
    "### Combining these into one row per dyad"
   ]
  },
  {
   "cell_type": "code",
   "execution_count": 10,
   "metadata": {
    "code_folding": [
     8
    ]
   },
   "outputs": [],
   "source": [
    "## creating unique identifier \"conflict_pair\" for each dyad\n",
    "## based on name\n",
    "for i, participant_a in enumerate(dyad_df['participant_a']):\n",
    "    ## standardizing participant names with ccode when available\n",
    "    dyad_list = []\n",
    "    \n",
    "    if dyad_df.loc[i, 'c_code_a'] in list(c_code_df['c_code']):\n",
    "        dyad_list.append(str(dyad_df.loc[i, 'c_code_a']))\n",
    "    else:\n",
    "        dyad_list.append(participant_a)\n",
    "    if dyad_df.loc[i, 'c_code_b'] in list(c_code_df['c_code']):\n",
    "        dyad_list.append(str(dyad_df.loc[i, 'c_code_b']))\n",
    "    else:\n",
    "        dyad_list.append(dyad_df.loc[i, 'participant_b'])\n",
    "    dyad_list = str(sorted(dyad_list))\n",
    "    dyad_df.loc[i, 'conflict_pair'] = dyad_list\n",
    "\n",
    "\n",
    "## keeping the values for once for each a/b dyad combination.\n",
    "## need to dedupe across conflict pair so a vs b are never repeated interchangably.\n",
    "dyad_df.drop_duplicates(subset=['war_num', 'conflict_pair'], keep='first', inplace=True)"
   ]
  },
  {
   "cell_type": "markdown",
   "metadata": {},
   "source": [
    "### Addressing in null values, missing data, and conversions for dyads and participants"
   ]
  },
  {
   "cell_type": "code",
   "execution_count": 11,
   "metadata": {},
   "outputs": [
    {
     "name": "stdout",
     "output_type": "stream",
     "text": [
      "\n",
      "Addressng null values, missing data, and conversions for part_df.\n",
      "\n",
      "Total Columns Adjusted: 66\n",
      "Total Columns Adjusted for Conversion: 22\n",
      "Total Null Values Notated: 68,529\n",
      "Total Unknown Values Notated: 671\n",
      "\n",
      "Addressng null values, missing data, and conversions for dyad_df.\n",
      "\n",
      "Total Columns Adjusted: 90\n",
      "Total Columns Adjusted for Conversion: 0\n",
      "Total Null Values Notated: 93,866\n",
      "Total Unknown Values Notated: 0\n"
     ]
    }
   ],
   "source": [
    "conversion_dic = {'money_flow_in': 1000000,\n",
    "                  'money_flow_out': 1000000,\n",
    "                  'military_expenditure': 1000,\n",
    "                  'military_personnel': 1000,\n",
    "                  'population': 1000,\n",
    "                  'urban_population': 1000,\n",
    "                  'refugees_originated': 1000,\n",
    "                  'internally_displaced_persons': 1000,\n",
    "                  'refugees_hosted': 1000,\n",
    "#                   'land_mass_exchange_gain': 'unsure',\n",
    "#                   'land_mass_exchange_loss': 'unsure',\n",
    "#                   'population_exchange_gain': 'unsure',\n",
    "#                   'population_exchange_loss': 'unsure',\n",
    "                  ## these are thousands of tons\n",
    "                  'iron_steel_production': 2000000,\n",
    "                  'energy_consumption': 2000000\n",
    "                 }\n",
    "print('\\nAddressng null values, missing data, and conversions for part_df.')\n",
    "part_df = deepcopy(the_networks_of_war_python_functions.column_fills_and_converions(part_df, 'participant', conversion_dic))\n",
    "\n",
    "print('\\nAddressng null values, missing data, and conversions for dyad_df.')\n",
    "dyad_df = deepcopy(the_networks_of_war_python_functions.column_fills_and_converions(dyad_df, 'dyad', None))"
   ]
  },
  {
   "cell_type": "markdown",
   "metadata": {},
   "source": [
    "### Saving the data"
   ]
  },
  {
   "cell_type": "code",
   "execution_count": 12,
   "metadata": {},
   "outputs": [
    {
     "name": "stdout",
     "output_type": "stream",
     "text": [
      "Total Participants: 1,715\n",
      "Total Dyadic Combinations: 1,106\n",
      "Total Wars: 678\n"
     ]
    }
   ],
   "source": [
    "print('Total Participants: {}'.format(format(len(part_df), ',d')))\n",
    "print('Total Dyadic Combinations: {}'.format(format(len(dyad_df), ',d')))\n",
    "print('Total Wars: {}'.format(format(len(war_df), ',d')))\n",
    "\n",
    "part_df.to_pickle(pickle_directory + 'part_df.pkl')\n",
    "dyad_df.to_pickle(pickle_directory + 'dyad_df.pkl')\n",
    "war_df.to_pickle(pickle_directory + 'war_df.pkl')"
   ]
  },
  {
   "cell_type": "code",
   "execution_count": 13,
   "metadata": {},
   "outputs": [],
   "source": [
    "part_df = pd.read_pickle(pickle_directory + 'part_df.pkl')\n",
    "dyad_df = pd.read_pickle(pickle_directory + 'dyad_df.pkl')\n",
    "war_df = pd.read_pickle(pickle_directory + 'war_df.pkl')"
   ]
  },
  {
   "cell_type": "markdown",
   "metadata": {},
   "source": [
    "## JSON Export for D3.js Processing"
   ]
  },
  {
   "cell_type": "code",
   "execution_count": 15,
   "metadata": {
    "code_folding": [],
    "scrolled": true
   },
   "outputs": [
    {
     "name": "stdout",
     "output_type": "stream",
     "text": [
      "\n",
      "Updating/recreating one JSON file per war_num.\n",
      "JSON Files to be Rewritten: 678\n",
      "\n",
      "Floating Node in Third Somalia War: 500\n",
      "Floating Node in Third Somalia War: 501\n",
      "Floating Node in Third Somalia War: 516\n",
      "Floating Node in First Waziristan War: 2\n",
      "Floating Node in Cote d'Ivoire Military War: 220\n",
      "Floating Node in Africa's World War: 516\n",
      "Floating Node in Second Sierra Leone War: 200\n",
      "Floating Node in Bosnian-Serb Rebellion: 2\n",
      "Floating Node in Bosnian-Serb Rebellion: 344\n",
      "Floating Node in Fourth Lebanese War: 630\n",
      "Floating Node in Fourth Lebanese War: 652\n",
      "Floating Node in Chad - FAN War: 220\n",
      "Floating Node in Chad - FAN War: 490\n",
      "Floating Node in Second Lebanese War: 652\n",
      "Floating Node in First Laotian War: 2\n",
      "Floating Node in Spanish Civil War: 235\n",
      "Floating Node in Spanish Civil War: 255\n",
      "Floating Node in Spanish Civil War: 325\n",
      "Floating Node in Xinjiang Revolt: 365\n",
      "Floating Node in World War I: 740\n",
      "Floating Node in Third Mexican War: 2\n",
      "\n",
      "Completed JSON File Updates.\n",
      "\n",
      "Updating war_file_list.csv\n",
      "\n",
      "Completed war_file_list update.\n"
     ]
    }
   ],
   "source": [
    "war_column_list = deepcopy(list(war_df.columns))\n",
    "## dropping fields that won't be needed in the participant section of the json file\n",
    "## values may also differ between those in part_df and war_df.\n",
    "## those in war_df have undergone additional preprocessing.\n",
    "part_column_list = deepcopy(list(part_df.drop(['war_num',\n",
    "                                               'war_name',\n",
    "                                               'war_type',\n",
    "                                               'war_subtype'\n",
    "#                                                'deaths_both_sides_z'\n",
    "                                              ], axis=1).columns))\n",
    "## dropping fields that won't be needed in the dyad section of the json file\n",
    "\n",
    "dyad_column_list = deepcopy(list(dyad_df.drop(initial_dyad_columns, axis=1).columns))\n",
    "\n",
    "print('\\nUpdating/recreating one JSON file per war_num.')\n",
    "print('JSON Files to be Rewritten: {}\\n'.format(format(len(war_df), ',d')))\n",
    "\n",
    "for i, war in enumerate(war_df['war_num']):\n",
    "    \n",
    "    file_name = deepcopy('war_num_' + str(war).replace('.', '_') + '.json')\n",
    "    ## need to filter by war here because i does not follow the sorting of the dataframe\n",
    "    war_df.loc[war_df['war_num']==war, 'file_name'] = file_name\n",
    "    ## rewriting all of the files each time\n",
    "    graph_file = open(json_output_directory + file_name, 'w').close()\n",
    "    graph_file = open(json_output_directory + file_name, 'w')\n",
    "     \n",
    "    part_df_copy = deepcopy(part_df[part_df['war_num']==war].reset_index(drop=True))\n",
    "    dyad_df_copy = deepcopy(dyad_df[dyad_df['war_num']==war].reset_index(drop=True))\n",
    "    war_df_copy = deepcopy(war_df[war_df['war_num']==war].reset_index(drop=True))\n",
    "    \n",
    "    if len(part_df_copy)==0:\n",
    "        print('No participants for war_num {} ({}), {} dyads'.format(war, war_df_copy.loc[0, 'war_name'], len(part_df_copy)))\n",
    "    if len(dyad_df_copy)==0:\n",
    "        print('No dyads for war_num {} ({}), {} participants'.format(war, war_df_copy.loc[0, 'war_name'], len(part_df_copy)))\n",
    "        \n",
    "    war_line = ''\n",
    "    for i, column in enumerate(war_column_list):\n",
    "        if i==0:\n",
    "            war_line = deepcopy(war_line + '\"' + column + '\": \"' + str(war_df_copy.loc[0, column]))\n",
    "        else:\n",
    "            war_line = deepcopy(war_line + '\", \"' + column + '\": \"' + str(war_df_copy.loc[0, column]))\n",
    "\n",
    "    graph_file.write('{\\n  \"war\": [\\n    {' + war_line + '\"}\\n')\n",
    "\n",
    "    node_names = []\n",
    "    sides = []\n",
    "    for i, participant in enumerate(part_df_copy['participant']):\n",
    "        ## assigning the input based on whether a c_code is available\n",
    "        ## this will be used to link part_df_copy to the dyad_df_copy\n",
    "        ## (since c_code is not always availablen and participant names are not standardized)\n",
    "        c_code_input = part_df_copy.loc[i, 'c_code']\n",
    "        if str(c_code_input)[0].isdigit():\n",
    "            node_names.append(part_df_copy.loc[i, 'c_code'])\n",
    "        else:\n",
    "            node_names.append(participant)\n",
    "        sides.append(part_df_copy.loc[i, 'side'])\n",
    "        \n",
    "    participant_line = ''\n",
    "    for i, participant in enumerate(part_df_copy['participant']):\n",
    "        ## this process begins the writing of the file and is completely separate from the one above\n",
    "        participant_line = deepcopy(participant_line + '    {\"id\": \"' + str(i))\n",
    "        for column in part_column_list:\n",
    "            participant_line = deepcopy(participant_line + '\", \"' + column + '\": \"' + str(part_df_copy.loc[i, column]))\n",
    "        participant_line = deepcopy(participant_line + '\"},\\n')\n",
    "\n",
    "    graph_file.write('  ],\\n  \"nodes\": [\\n' + participant_line[:-2] + '\\n')\n",
    "\n",
    "    link_line = ''\n",
    "    dyad_inputs = []\n",
    "    for i, node_1 in enumerate(dyad_df_copy['c_code_a']):\n",
    "        ## assigning the input based on whether a c_code is available\n",
    "                    \n",
    "        if str(node_1)[0].isdigit():\n",
    "            node_1_input = node_1\n",
    "            dyad_inputs.append(node_1)\n",
    "        else:\n",
    "            node_1_input = dyad_df_copy.loc[i, 'participant_a']\n",
    "            dyad_inputs.append(node_1_input)\n",
    "        ## assigning the input based on whether a c_code is available\n",
    "        if str(dyad_df_copy.loc[i, 'c_code_b'])[0].isdigit():\n",
    "            node_2_input = dyad_df_copy.loc[i, 'c_code_b']\n",
    "            dyad_inputs.append(node_2_input)\n",
    "        else:\n",
    "            node_2_input = dyad_df_copy.loc[i, 'participant_b']\n",
    "            dyad_inputs.append(node_2_input)\n",
    "        ## sometimes a country could be in the dyad and not in the participant df_copy.\n",
    "        ## this is rare but has happened (see Spain in WWII)\n",
    "        ## should be taken care of in processes above, so checking below to see if that process failed\n",
    "        if node_1_input not in node_names:\n",
    "            print(\"Participant Missing in Dyadic Data: {} ({}) for {}.\".format(dyad_df_copy.loc[i, 'participant_a'], int(dyad_df_copy.loc[i, 'c_code_a']), war_df_copy.loc[0, 'war_name']))   \n",
    "        elif node_2_input not in node_names:\n",
    "            print(\"Participant Missing in Dyadic Data: {} {} for {}.\".format(dyad_df_copy.loc[i, 'participant_b'], int(dyad_df_copy.loc[i, 'c_code_b']), war_df_copy.loc[0, 'war_name']))   \n",
    "        else:\n",
    "            link_line = deepcopy(link_line\n",
    "                + '    {\"source\": \"' + str(node_names.index(node_1_input))\n",
    "                + '\", \"target\": \"' + str(node_names.index(node_2_input)))\n",
    "            for column in dyad_column_list:\n",
    "                link_line = deepcopy(link_line + '\", \"' + column + '\": \"' + str(dyad_df_copy.loc[i, column]))\n",
    "            link_line = deepcopy(link_line + '\"},\\n')\n",
    "            ## checking for any dyads that are paired with participants on the same side as them\n",
    "            ## this would most likely suggest a mistake in pre-processing\n",
    "            ## does not apply to side 3 (switched sides)\n",
    "            if sides[node_names.index(node_1_input)]==sides[node_names.index(node_2_input)] and sides[node_names.index(node_1_input)]!=3:\n",
    "                print('Dyads on the Same Side: {} {} and {} {} for {}.'.format(dyad_df_copy.loc[i, 'participant_a'], int(dyad_df_copy.loc[i, 'c_code_a']), dyad_df_copy.loc[i, 'participant_b'], int(dyad_df_copy.loc[i, 'c_code_b']), war_df_copy.loc[0, 'war_name']))   \n",
    "                         \n",
    "    graph_file.write('  ],\\n  \"links\": [\\n' + link_line[:-2] + '\\n\\n  ]\\n}')\n",
    "\n",
    "    for node in node_names:\n",
    "        if node not in dyad_inputs:\n",
    "            if str(node)[0].isdigit():\n",
    "                print('Floating Node in {}: {}'.format(war_df_copy.loc[0, 'war_name'],\n",
    "                                                       node))\n",
    "            else:\n",
    "                print('Floating Node in {}: {}'.format(war_df_copy.loc[0, 'war_name'],\n",
    "                                                       node))\n",
    "                \n",
    "print('\\nCompleted JSON File Updates.')\n",
    "\n",
    "print('\\nUpdating war_file_list.csv')\n",
    "war_df.to_csv(csv_output_directory + 'war_file_list.csv', index=None)\n",
    "print('\\nCompleted war_file_list update.')"
   ]
  },
  {
   "cell_type": "code",
   "execution_count": null,
   "metadata": {},
   "outputs": [],
   "source": []
  },
  {
   "cell_type": "code",
   "execution_count": null,
   "metadata": {},
   "outputs": [],
   "source": []
  },
  {
   "cell_type": "code",
   "execution_count": null,
   "metadata": {},
   "outputs": [],
   "source": []
  }
 ],
 "metadata": {
  "kernelspec": {
   "display_name": "Python 3",
   "language": "python",
   "name": "python3"
  },
  "language_info": {
   "codemirror_mode": {
    "name": "ipython",
    "version": 3
   },
   "file_extension": ".py",
   "mimetype": "text/x-python",
   "name": "python",
   "nbconvert_exporter": "python",
   "pygments_lexer": "ipython3",
   "version": "3.9.2"
  }
 },
 "nbformat": 4,
 "nbformat_minor": 2
}
