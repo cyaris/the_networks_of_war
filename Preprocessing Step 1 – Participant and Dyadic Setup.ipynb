{
 "cells": [
  {
   "cell_type": "code",
   "execution_count": 1,
   "metadata": {},
   "outputs": [],
   "source": [
    "import pandas as pd\n",
    "import numpy as np\n",
    "from pandasql import sqldf\n",
    "pysqldf = lambda q: sqldf(q, globals())\n",
    "from copy import deepcopy\n",
    "from importlib import reload\n",
    "from traceback import format_exc\n",
    "# from pprint import pprint\n",
    "import the_networks_of_war_python_functions"
   ]
  },
  {
   "cell_type": "code",
   "execution_count": 2,
   "metadata": {},
   "outputs": [],
   "source": [
    "pd.set_option('display.max_columns', None)\n",
    "pd.set_option('display.float_format', lambda x: '%.5f' % x)"
   ]
  },
  {
   "cell_type": "code",
   "execution_count": 3,
   "metadata": {},
   "outputs": [],
   "source": [
    "csv_output_directory = '../cyaris.github.io/assets/csv/the_networks_of_war/'\n",
    "json_output_directory = '../cyaris.github.io/assets/json/the_networks_of_war/'\n",
    "csv_directory = '/Users/charlieyaris/Personal/data_sources/the_networks_of_war/csvs/'\n",
    "pickle_directory = '/Users/charlieyaris/Personal/data_sources/the_networks_of_war/pickles/'"
   ]
  },
  {
   "cell_type": "code",
   "execution_count": 4,
   "metadata": {},
   "outputs": [],
   "source": [
    "war_type_df = deepcopy(pd.read_csv('war_types.csv'))"
   ]
  },
  {
   "cell_type": "markdown",
   "metadata": {},
   "source": [
    "## Setup for Identifying Countries by Code\n",
    "### Note: This is helpful for when different names are used for the same country."
   ]
  },
  {
   "cell_type": "code",
   "execution_count": 5,
   "metadata": {},
   "outputs": [
    {
     "name": "stdout",
     "output_type": "stream",
     "text": [
      "Total Country Codes: 217\n"
     ]
    }
   ],
   "source": [
    "c_code_dic = the_networks_of_war_python_functions.define_c_code_dic()"
   ]
  },
  {
   "cell_type": "code",
   "execution_count": 6,
   "metadata": {},
   "outputs": [],
   "source": [
    "c_code_df = pd.read_csv(csv_directory + 'COW country codes.csv', encoding='latin-1')\n",
    "\n",
    "query_text = \"\"\"\n",
    "\n",
    "select\n",
    "    ccode as c_code,\n",
    "    statenme as state_name,\n",
    "    stateabb as state_name_abbreviation\n",
    "from c_code_df\n",
    "group by 1, 2, 3\n",
    "\n",
    "\"\"\"\n",
    "\n",
    "c_code_df = deepcopy(pysqldf(query_text))"
   ]
  },
  {
   "cell_type": "code",
   "execution_count": 7,
   "metadata": {},
   "outputs": [],
   "source": [
    "part_query_template = \"\"\"\n",
    "    \n",
    "select\n",
    "    cast(a.war_num as integer) as war_num,\n",
    "    a.war_name,\n",
    "    cast(a.war_type as integer) as war_type_code,\n",
    "    wt.war_type,\n",
    "    coalesce(wt.war_subtype, wt.war_type) as war_subtype,\n",
    "    a.C_CODE as c_code,\n",
    "    coalesce(cc.state_name, a.PARTICIPANT) as participant,\n",
    "    case when min(a.SIDE) = 1 and max(a.SIDE) = 2 then 3\n",
    "        else max(a.SIDE) end as side,\n",
    "    sum(case when a.BATTLE_DEATHS >= 0 then a.BATTLE_DEATHS else null end) as battle_deaths,\n",
    "    cast(strftime('%Y', min(a.start_date)) as integer) as start_year,\n",
    "    cast(strftime('%m', min(a.start_date)) as integer) as start_month,\n",
    "    cast(strftime('%d', min(a.start_date)) as integer) as start_day,\n",
    "    min(start_date) as start_date,\n",
    "    cast(strftime('%Y', max(a.end_date)) as integer) as end_year,\n",
    "    cast(strftime('%m', max(a.end_date)) as integer) as end_month,\n",
    "    cast(strftime('%d', max(a.end_date)) as integer) as end_day,\n",
    "    max(a.end_date) as end_date,\n",
    "    max(a.ongoing_participation) as ongoing_participation,\n",
    "    max(a.start_date_estimated) as start_date_estimated,\n",
    "    max(a.end_date_estimated) as end_date_estimated,\n",
    "    max(a.LAGGING_WAR) as lagging_war,\n",
    "    max(a.LEADING_WAR) as leading_war,\n",
    "    sum(case when a.DEATHS_BOTH_SIDES >= 0 then a.DEATHS_BOTH_SIDES else null end) as deaths_both_sides,\n",
    "    sum(case when a.PEAK_FORCES_AVAILABLE >= 0 then a.PEAK_FORCES_AVAILABLE else null end) as peak_forces_available,\n",
    "    sum(case when a.PEAK_BATTLE_FORCES >= 0 then a.PEAK_BATTLE_FORCES else null end) as peak_battle_forces\n",
    "from SOURCE_TABLE a\n",
    "left join c_code_df cc on a.C_CODE = cc.c_code\n",
    "left join war_type_df wt on a.war_type = wt.war_type_code\n",
    "group by 1, 2, 3, 4, 5, 6, 7\n",
    "\n",
    "\"\"\""
   ]
  },
  {
   "cell_type": "markdown",
   "metadata": {},
   "source": [
    "## Participant DataFrames\n",
    "### Note: Only inter-state wars have different source files for dyadic and participant data."
   ]
  },
  {
   "cell_type": "markdown",
   "metadata": {},
   "source": [
    "### Inter-State Wars"
   ]
  },
  {
   "cell_type": "code",
   "execution_count": 8,
   "metadata": {
    "scrolled": true
   },
   "outputs": [
    {
     "name": "stdout",
     "output_type": "stream",
     "text": [
      "Total Rows With Both Dates Found: 337\n",
      "Total Rows With At Least One Date Not Found: 0\n",
      "Total Estimated Start Dates: 0\n",
      "Total Estimated End Dates: 0\n",
      "\n"
     ]
    }
   ],
   "source": [
    "part_df_1 = pd.read_csv(csv_directory + 'Inter-StateWarData_v4.0.csv', encoding='latin-1')\n",
    "part_df_1_renaming = {'WarNum': 'war_num',\n",
    "                      'WarName': 'war_name',\n",
    "                      'WarType': 'war_type',\n",
    "                      'ccode': 'c_code',\n",
    "                      'StateName': 'participant',\n",
    "                      'Side': 'side',\n",
    "                      'BatDeath': 'battle_deaths',\n",
    "                      'StartYear1': 'start_year',\n",
    "                      'StartMonth1': 'start_month',\n",
    "                      'StartDay1': 'start_day',\n",
    "                      'EndYear1': 'end_year',\n",
    "                      'EndMonth1': 'end_month',\n",
    "                      'EndDay1': 'end_day'}\n",
    "part_df_1.rename(part_df_1_renaming, axis=1, inplace=True)\n",
    "part_df_1 = deepcopy(part_df_1[list(part_df_1_renaming.values())])\n",
    "part_df_1 = deepcopy(the_networks_of_war_python_functions.start_and_end_dates(part_df_1))"
   ]
  },
  {
   "cell_type": "code",
   "execution_count": 9,
   "metadata": {},
   "outputs": [
    {
     "name": "stdout",
     "output_type": "stream",
     "text": [
      "Manually changing USSR to side 3 for WWII based on dyadic data.\n",
      "Manually changing Finland to side 3 for WWII based on dyadic data.\n"
     ]
    }
   ],
   "source": [
    "print('Manually changing USSR to side 3 for WWII based on dyadic data.')\n",
    "## manually changing USSR to side 3 for WWII because they invaded Poland before fighting against Germany.\n",
    "part_df_1.loc[(part_df_1['war_num']==139) & (part_df_1['c_code']==365), 'side'] = 3\n",
    "\n",
    "print('Manually changing Finland to side 3 for WWII based on dyadic data.')\n",
    "## manually changing Finald to side 3 for WWII because they fought with Germany before Fighting against Germany.\n",
    "part_df_1.loc[(part_df_1['war_num']==139) & (part_df_1['c_code']==375), 'side'] = 3"
   ]
  },
  {
   "cell_type": "code",
   "execution_count": 10,
   "metadata": {},
   "outputs": [],
   "source": [
    "template_replacement_dic = {\n",
    "    \n",
    "    'SOURCE_TABLE': 'part_df_1',\n",
    "    'C_CODE': 'c_code',\n",
    "    'PARTICIPANT': 'participant',\n",
    "    'BATTLE_DEATHS': 'battle_deaths',\n",
    "    'a.LAGGING_WAR': 'null',\n",
    "    'a.LEADING_WAR': 'null',\n",
    "    'a.DEATHS_BOTH_SIDES': 'null',\n",
    "    'a.PEAK_FORCES_AVAILABLE': 'null',\n",
    "    'a.PEAK_BATTLE_FORCES': 'null',\n",
    "    'SIDE': 'side'\n",
    "}\n",
    "\n",
    "query_text = deepcopy(part_query_template)\n",
    "for replacement in template_replacement_dic.keys():\n",
    "    query_text = deepcopy(query_text.replace(replacement, template_replacement_dic[replacement]))\n",
    "part_df_1 = deepcopy(pysqldf(query_text))"
   ]
  },
  {
   "cell_type": "markdown",
   "metadata": {},
   "source": [
    "### Intra-State Wars\n",
    "#### Using the same file to create the participant dataframe and dyadic dataframe."
   ]
  },
  {
   "cell_type": "code",
   "execution_count": 11,
   "metadata": {},
   "outputs": [],
   "source": [
    "## creating new dataframe to union to interstate wars part_df\n",
    "## note: the code below is very intefficient because something is off with integer formatting in this file.\n",
    "## this did not occur in the interstate war file.\n",
    "dyad_df_2 = pd.read_csv(csv_directory + 'INTRA-STATE_State_participants v5.1.csv', encoding='latin-1')\n",
    "## either one of these a or b may not actually be states.\n",
    "## this wil be fixed later on\n",
    "dyad_df_2_renaming = {'WarNum': 'war_num',\n",
    "                      'WarName': 'war_name',\n",
    "                      'WarType': 'war_type',\n",
    "                      'CcodeA': 'c_code_a',\n",
    "                      'CcodeB': 'c_code_b',\n",
    "                      'SideA': 'participant_a',\n",
    "                      'SideB': 'participant_b',\n",
    "                      'StartDy1': 'start_day',\n",
    "                      'StartMo1': 'start_month',\n",
    "                      'StartYr1': 'start_year',\n",
    "                      'EndDy1': 'end_day',\n",
    "                      'EndMo1': 'end_month',\n",
    "                      'EndYr1': 'end_year',\n",
    "                      'TransFrom': 'lagging_war',\n",
    "                      'TransTo': 'leading_war',\n",
    "                      ## unsure if these are the same as battle deaths, or include civilians\n",
    "                      'Deaths A': 'battle_deaths_a',\n",
    "                      'Deaths B': 'battle_deaths_b',\n",
    "                      ## according to documentation, this includes both sides\n",
    "                      'TotalBDeaths': 'deaths_both_sides',\n",
    "#                       'WDuratDays': 'total_days_in_war',\n",
    "                      'SideAPeakTotForces': 'peak_forces_available_a',\n",
    "                      'SideBPeakTotForces': 'peak_forces_available_b',\n",
    "                      'SideAPeak TheatForces': 'peak_battle_forces_a',\n",
    "                      'SideBPeakTheatForces': 'peak_battle_forces_b'}\n",
    "dyad_df_2.rename(dyad_df_2_renaming, axis=1, inplace = True)\n",
    "dyad_df_2 = deepcopy(dyad_df_2[list(dyad_df_2_renaming.values())])"
   ]
  },
  {
   "cell_type": "code",
   "execution_count": 12,
   "metadata": {},
   "outputs": [],
   "source": [
    "## adjusting for wrong start year\n",
    "## this needs to be automated (check for  'of ___' in war_name where start_year <> ___)\n",
    "dyad_df_2.loc[dyad_df_2['war_num']==976, 'start_year'] = 2011\n",
    "\n",
    "## two syrian arab spring wars starting on the same date.\n",
    "## I believe one of these is a data entry error.\n",
    "## combining both war_nums into one war\n",
    "dyad_df_2.loc[dyad_df_2['war_num']==977, 'war_num'] = 979"
   ]
  },
  {
   "cell_type": "code",
   "execution_count": 13,
   "metadata": {},
   "outputs": [],
   "source": [
    "# reload(the_networks_of_war_python_functions)"
   ]
  },
  {
   "cell_type": "code",
   "execution_count": 14,
   "metadata": {},
   "outputs": [
    {
     "name": "stdout",
     "output_type": "stream",
     "text": [
      "Total Rows With Both Dates Found: 593\n",
      "Total Rows With At Least One Date Not Found: 0\n",
      "Total Estimated Start Dates: 80\n",
      "Total Estimated End Dates: 94\n",
      "\n"
     ]
    }
   ],
   "source": [
    "format_part_df_return = deepcopy(the_networks_of_war_python_functions.process_dyadic_data(dyad_df_2))\n",
    "part_df_2 = deepcopy(format_part_df_return[0])\n",
    "dyad_df_2 = deepcopy(format_part_df_return[1])"
   ]
  },
  {
   "cell_type": "code",
   "execution_count": 15,
   "metadata": {},
   "outputs": [],
   "source": [
    "template_replacement_dic = {\n",
    "    \n",
    "    'SOURCE_TABLE': 'part_df_2',\n",
    "    'C_CODE': 'c_code',\n",
    "    'PARTICIPANT': 'participant',\n",
    "    'BATTLE_DEATHS': 'battle_deaths',\n",
    "    'LAGGING_WAR': 'lagging_war',\n",
    "    'LEADING_WAR': 'leading_war',\n",
    "    'DEATHS_BOTH_SIDES': 'deaths_both_sides',\n",
    "    'PEAK_FORCES_AVAILABLE': 'peak_forces_available',\n",
    "    'PEAK_BATTLE_FORCES': 'peak_battle_forces',\n",
    "    'SIDE': 'side'\n",
    "}\n",
    "\n",
    "query_text = deepcopy(part_query_template)\n",
    "for replacement in template_replacement_dic.keys():\n",
    "    query_text = deepcopy(query_text.replace(replacement, template_replacement_dic[replacement]))\n",
    "part_df_2 = deepcopy(pysqldf(query_text))"
   ]
  },
  {
   "cell_type": "markdown",
   "metadata": {},
   "source": [
    "### Extra State Wars\n",
    "#### Using the same file to create the participant dataframe and dyadic dataframe."
   ]
  },
  {
   "cell_type": "code",
   "execution_count": 16,
   "metadata": {},
   "outputs": [
    {
     "name": "stdout",
     "output_type": "stream",
     "text": [
      "Total Rows With Both Dates Found: 198\n",
      "Total Rows With At Least One Date Not Found: 0\n",
      "Total Estimated Start Dates: 46\n",
      "Total Estimated End Dates: 51\n",
      "\n"
     ]
    }
   ],
   "source": [
    "## creating new dataframe to union to extra-state wars part_df\n",
    "## inefficient pipeline from above was used to accomodate integer formatting\n",
    "## unsure if that problem occurs for this one too though\n",
    "dyad_df_3 = pd.read_csv(csv_directory + 'Extra-StateWarData_v4.0.csv', encoding='latin-1')\n",
    "## either one of these a or b may not actually be states.\n",
    "## this wil be fixed later on\n",
    "dyad_df_3_renaming = {'WarNum': 'war_num',\n",
    "                      'WarName': 'war_name',\n",
    "                      'WarType': 'war_type',\n",
    "                      'ccode1': 'c_code_a',\n",
    "                      'ccode2': 'c_code_b',\n",
    "                      'SideA': 'participant_a',\n",
    "                      'SideB': 'participant_b',\n",
    "                      'StartDay1': 'start_day',\n",
    "                      'StartMonth1': 'start_month',\n",
    "                      'StartYear1': 'start_year',\n",
    "                      'EndDay1': 'end_day',\n",
    "                      'EndMonth1': 'end_month',\n",
    "                      'EndYear1': 'end_year',\n",
    "                      'TransFrom': 'lagging_war',\n",
    "                      'TransTo': 'leading_war',\n",
    "                      ## unsure if these are the same as battle deaths, or include civilians\n",
    "                      'BatDeath': 'battle_deaths_a',\n",
    "                      'NonStateDeaths': 'battle_deaths_b'}\n",
    "dyad_df_3.rename(dyad_df_3_renaming, axis=1, inplace=True)\n",
    "dyad_df_3 = deepcopy(dyad_df_3[list(dyad_df_3_renaming.values())])\n",
    "\n",
    "format_part_df_return = deepcopy(the_networks_of_war_python_functions.process_dyadic_data(dyad_df_3))\n",
    "part_df_3 = deepcopy(format_part_df_return[0])\n",
    "dyad_df_3 = deepcopy(format_part_df_return[1])"
   ]
  },
  {
   "cell_type": "code",
   "execution_count": 17,
   "metadata": {},
   "outputs": [],
   "source": [
    "template_replacement_dic = {\n",
    "    \n",
    "    'SOURCE_TABLE': 'part_df_3',\n",
    "    'C_CODE': 'c_code',\n",
    "    'PARTICIPANT': 'participant',\n",
    "    'BATTLE_DEATHS': 'battle_deaths',\n",
    "    'LAGGING_WAR': 'lagging_war',\n",
    "    'LEADING_WAR': 'leading_war',\n",
    "    'a.DEATHS_BOTH_SIDES': 'null',\n",
    "    'a.PEAK_FORCES_AVAILABLE': 'null',\n",
    "    'a.PEAK_BATTLE_FORCES': 'null',\n",
    "    'SIDE': 'side'\n",
    "}\n",
    "\n",
    "query_text = deepcopy(part_query_template)\n",
    "for replacement in template_replacement_dic.keys():\n",
    "    query_text = deepcopy(query_text.replace(replacement, template_replacement_dic[replacement]))\n",
    "part_df_3 = deepcopy(pysqldf(query_text))"
   ]
  },
  {
   "cell_type": "markdown",
   "metadata": {},
   "source": [
    "### Combining Participant Sources"
   ]
  },
  {
   "cell_type": "code",
   "execution_count": 18,
   "metadata": {},
   "outputs": [
    {
     "name": "stdout",
     "output_type": "stream",
     "text": [
      "Total War Participants After Merging All War Types: 1,705\n"
     ]
    }
   ],
   "source": [
    "## removing non applicable participants\n",
    "## don't need to do this for inter-state war because all is applicable\n",
    "    \n",
    "query_text = \"\"\"\n",
    "\n",
    "select\n",
    "    *\n",
    "from part_df_1\n",
    "union\n",
    "select\n",
    "    *\n",
    "from part_df_2\n",
    "union\n",
    "select\n",
    "    *\n",
    "from part_df_3\n",
    "\n",
    "\"\"\"\n",
    "\n",
    "part_df = deepcopy(pysqldf(query_text))\n",
    "\n",
    "print('Total War Participants After Merging All War Types: {}'.format(format(len(part_df), ',d')))"
   ]
  },
  {
   "cell_type": "markdown",
   "metadata": {},
   "source": [
    "### Creating Dictionary to Lookup Wars Individually"
   ]
  },
  {
   "cell_type": "code",
   "execution_count": 19,
   "metadata": {},
   "outputs": [],
   "source": [
    "## creating war_dic that will be used to fill in missing values\n",
    "war_dic = the_networks_of_war_python_functions.dictionary_from_field(part_df, 'war_num', 'war_name')"
   ]
  },
  {
   "cell_type": "markdown",
   "metadata": {},
   "source": [
    "## Creating Inter-State Dyadic DataFrame"
   ]
  },
  {
   "cell_type": "markdown",
   "metadata": {},
   "source": [
    "### Note: The other dyadic dataframes have already been defined above."
   ]
  },
  {
   "cell_type": "markdown",
   "metadata": {},
   "source": [
    "### Reading in the data and unioning each participant so they both appear as a and b"
   ]
  },
  {
   "cell_type": "code",
   "execution_count": 20,
   "metadata": {},
   "outputs": [
    {
     "data": {
      "text/plain": [
       "<module 'the_networks_of_war_python_functions' from '/Users/charlieyaris/Personal/github_repositories/the_networks_of_war/the_networks_of_war_python_functions.py'>"
      ]
     },
     "execution_count": 20,
     "metadata": {},
     "output_type": "execute_result"
    }
   ],
   "source": [
    "reload(the_networks_of_war_python_functions)"
   ]
  },
  {
   "cell_type": "code",
   "execution_count": 21,
   "metadata": {},
   "outputs": [
    {
     "name": "stdout",
     "output_type": "stream",
     "text": [
      "Total Rows With Both Dates Found: 1,364\n",
      "Total Rows With At Least One Date Not Found: 0\n",
      "Total Estimated Start Dates: 0\n",
      "Total Estimated End Dates: 0\n",
      "\n"
     ]
    }
   ],
   "source": [
    "## battle deaths and start/end dates are in this file too, but it's more confusing than the part_df.\n",
    "## this will just be used to get the combinations of countries directly at war with each other.\n",
    "dyad_df_1 = pd.read_csv(csv_directory + 'directed_dyadic_war.csv', encoding='latin-1')\n",
    "\n",
    "## including columns that need to be included later on (that don't need name changes)\n",
    "dyad_df_1_renaming = {'warnum': 'war_num',\n",
    "                      'statea': 'c_code_a',\n",
    "                      'stateb': 'c_code_b',\n",
    "                      'batdtha': 'battle_deaths_a',\n",
    "                      'batdthb': 'battle_deaths_b',\n",
    "                      'batdths': 'deaths_both_sides',\n",
    "                      'warstrtyr': 'start_year',\n",
    "                      'warstrtmnth': 'start_month',\n",
    "                      'warstrtday': 'start_day',\n",
    "                      'warendyr': 'end_year',\n",
    "                      'warendmnth': 'end_month',\n",
    "                      'warenday': 'end_day',\n",
    "                      'disno': 'disno'}\n",
    "\n",
    "dyad_df_1.rename(dyad_df_1_renaming, axis=1, inplace = True)\n",
    "dyad_df_1 = deepcopy(dyad_df_1[list(dyad_df_1_renaming.values())])\n",
    "\n",
    "## fixing data entry errors\n",
    "dyad_df_1.loc[dyad_df_1['start_month']==24, 'start_month'] = 12\n",
    "dyad_df_1.loc[dyad_df_1['end_year']==19118, 'end_year'] = 1918\n",
    "\n",
    "format_part_df_return = deepcopy(the_networks_of_war_python_functions.process_dyadic_data(dyad_df_1))\n",
    "part_df_1_1 = deepcopy(format_part_df_return[0])\n",
    "dyad_df_1 = deepcopy(format_part_df_return[1])"
   ]
  },
  {
   "cell_type": "code",
   "execution_count": 39,
   "metadata": {},
   "outputs": [],
   "source": [
    "mid_df = pd.read_csv(csv_directory + 'dyadic_mid_4.02.csv', encoding='latin-1')\n",
    "## including columns that need to be included later on (that don't need name changes)\n",
    "mid_df_renaming = {'war': 'war',\n",
    "                   'statea': 'c_code_a',\n",
    "                   'stateb': 'c_code_b',\n",
    "                   'strtyr': 'start_year',\n",
    "                   'strtmnth': 'start_month',\n",
    "                   'strtday': 'start_day',\n",
    "                   'endyear': 'end_year',\n",
    "                   'endmnth': 'end_month',\n",
    "                   'endday': 'end_day',\n",
    "                   'disno': 'disno'}\n",
    "\n",
    "mid_df.rename(mid_df_renaming, axis=1, inplace=True)\n",
    "mid_df = deepcopy(mid_df[list(mid_df_renaming.values())])\n",
    "mid_df = deepcopy(mid_df[mid_df['war']==1].reset_index(drop=True))"
   ]
  },
  {
   "cell_type": "code",
   "execution_count": 22,
   "metadata": {},
   "outputs": [
    {
     "name": "stdout",
     "output_type": "stream",
     "text": [
      "Total Rows With Both Dates Found: 7,258\n",
      "Total Rows With At Least One Date Not Found: 0\n",
      "Total Estimated Start Dates: 0\n",
      "Total Estimated End Dates: 0\n",
      "\n"
     ]
    }
   ],
   "source": [
    "### Checking for any missing dyads that can be extracted from MID data\n",
    "### Adding in Dyads (Not Included) Marked as War==1 in MID Data\n",
    "mid_df = pd.read_csv(csv_directory + 'dyadic_mid_4.02.csv', encoding='latin-1')\n",
    "\n",
    "## including columns that need to be included later on (that don't need name changes)\n",
    "mid_df_renaming = {'war': 'war',\n",
    "                   'statea': 'c_code_a',\n",
    "                   'stateb': 'c_code_b',\n",
    "                   'strtyr': 'start_year',\n",
    "                   'strtmnth': 'start_month',\n",
    "                   'strtday': 'start_day',\n",
    "                   'endyear': 'end_year',\n",
    "                   'endmnth': 'end_month',\n",
    "                   'endday': 'end_day',\n",
    "                   'disno': 'disno'}\n",
    "\n",
    "mid_df.rename(mid_df_renaming, axis=1, inplace=True)\n",
    "mid_df = deepcopy(mid_df[list(mid_df_renaming.values())])\n",
    "mid_df = deepcopy(the_networks_of_war_python_functions.union_opposite_columns(mid_df))\n",
    "mid_df = deepcopy(the_networks_of_war_python_functions.start_and_end_dates(mid_df))\n",
    "mid_df = deepcopy(mid_df[mid_df['war']==1].reset_index(drop=True))\n",
    "\n",
    "## FIX TABLE BELOW TO MAKE RESULTS COMPLETE\n",
    "\n",
    "query_text = \"\"\"\n",
    "    \n",
    "select\n",
    "    a.disno,\n",
    "    pd11.war_num,\n",
    "    pd.war_name\n",
    "from dyad_df_1 a\n",
    "left join part_df_1_1 pd11 on a.disno = pd11.disno\n",
    "left join part_df pd on pd11.war_num = pd.war_num\n",
    "group by 1, 2, 3\n",
    "\n",
    "\"\"\"\n",
    "\n",
    "disno_war_num_df = deepcopy(pysqldf(query_text))\n",
    "\n",
    "query_text = \"\"\"\n",
    "\n",
    "select\n",
    "    coalesce(dwn.war_num, -1) as war_num,\n",
    "    a.c_code_a,\n",
    "    cca.state_name as participant_a,\n",
    "    a.c_code_b,\n",
    "    ccb.state_name as participant_b,\n",
    "    min(a.start_date) as start_date,\n",
    "    cast(strftime('%Y', min(a.start_date)) as integer) as start_year,\n",
    "    max(a.end_date) as end_date,\n",
    "    cast(strftime('%Y', max(a.end_date)) as integer) as end_year\n",
    "from mid_df a\n",
    "left join disno_war_num_df dwn on a.disno = dwn.disno\n",
    "left join c_code_df cca on a.c_code_a = cca.c_code\n",
    "left join c_code_df ccb on a.c_code_b = ccb.c_code\n",
    "group by 1, 2, 3, 4, 5\n",
    "\n",
    "\"\"\"\n",
    "\n",
    "# left join dyad_df_1 dd on a.c_code_a = dd.c_code_a and a.c_code_b = dd.c_code_b and a.start_date between dd.start_date and dd.end_date and a.end_date between dd.start_date and dd.end_date\n",
    "# where dd.c_code_a is null\n",
    "\n",
    "mid_df = deepcopy(pysqldf(query_text))\n",
    "\n",
    "mid_df.to_pickle(pickle_directory + 'mid_df.pkl')"
   ]
  },
  {
   "cell_type": "code",
   "execution_count": 23,
   "metadata": {},
   "outputs": [],
   "source": [
    "mid_df.to_pickle(pickle_directory + 'mid_df.pkl')"
   ]
  },
  {
   "cell_type": "code",
   "execution_count": 55,
   "metadata": {},
   "outputs": [],
   "source": [
    "mid_df = pd.read_pickle(pickle_directory + 'mid_df.pkl')"
   ]
  },
  {
   "cell_type": "code",
   "execution_count": null,
   "metadata": {},
   "outputs": [],
   "source": []
  },
  {
   "cell_type": "code",
   "execution_count": 63,
   "metadata": {},
   "outputs": [
    {
     "name": "stdout",
     "output_type": "stream",
     "text": [
      "Total Dyads Added From MIDs: 28\n",
      "Note: These have all been manually reviewed in assigning war numbers.\n"
     ]
    }
   ],
   "source": [
    "dyad_df_1 = deepcopy(pd.merge(dyad_df_1, mid_df, how='outer', on=['war_num',\n",
    "                                                                  'c_code_a',\n",
    "                                                                  'c_code_b',\n",
    "                                                                  'participant_a',\n",
    "                                                                  'participant_b',\n",
    "                                                                  'start_year',\n",
    "                                                                  'start_date',\n",
    "                                                                  'end_year',\n",
    "                                                                  'end_date']))\n",
    "\n",
    "aggregations = {\n",
    "    'start_date': 'min',\n",
    "    'start_year': 'min',\n",
    "    'end_date': 'max',\n",
    "    'end_year': 'max'\n",
    "    }\n",
    "dyad_df_1 = deepcopy(dyad_df_1.groupby(['war_num', 'c_code_a', 'c_code_b', 'participant_a', 'participant_b']).agg(aggregations).reset_index())\n",
    "\n",
    "total_dyads_added = deepcopy(len(dyad_df_1[dyad_df_1['war_num']==-1]))\n",
    "\n",
    "## these have been manually reviewed to all be WWII dyads\n",
    "dyad_df_1.loc[(dyad_df_1['war_num']==-1) & (dyad_df_1['start_year']<=1945), 'war_num'] = 139\n",
    "\n",
    "missing_dyads = [\n",
    "    [483, 500],\n",
    "    [483, 517],\n",
    "    [490, 500],\n",
    "    [490, 517],\n",
    "    [500, 540],\n",
    "    [500, 552],\n",
    "    [500, 565],\n",
    "    [517, 540],\n",
    "    [517, 552],\n",
    "    [517, 565]\n",
    "]\n",
    "\n",
    "for dyad in missing_dyads:\n",
    "\n",
    "    ## independently verified to all be part of Africa's World War\n",
    "    dyad_df_1.loc[(dyad_df_1['war_num']==-1) & (dyad_df_1['c_code_a']==dyad[0]) & (dyad_df_1['c_code_b']==dyad[1]), 'war_num'] = 905\n",
    "    dyad_df_1.loc[(dyad_df_1['war_num']==-1) & (dyad_df_1['c_code_a']==dyad[1]) & (dyad_df_1['c_code_b']==dyad[0]), 'war_num'] = 905\n",
    "\n",
    "## should be 14 (28 if counted with unioned c_codes)\n",
    "if total_dyads_added!=28:\n",
    "    raise Exception('There are usually 28 MIDs added here.')\n",
    "    \n",
    "print('Total Dyads Added From MIDs: {}'.format(format(total_dyads_added, ',d')))\n",
    "print('Note: These have all been manually reviewed in assigning war numbers.')"
   ]
  },
  {
   "cell_type": "code",
   "execution_count": 67,
   "metadata": {},
   "outputs": [],
   "source": [
    "# dyad_df_1.head(total_dyads_added)"
   ]
  },
  {
   "cell_type": "code",
   "execution_count": 62,
   "metadata": {},
   "outputs": [
    {
     "data": {
      "text/html": [
       "<div>\n",
       "<style scoped>\n",
       "    .dataframe tbody tr th:only-of-type {\n",
       "        vertical-align: middle;\n",
       "    }\n",
       "\n",
       "    .dataframe tbody tr th {\n",
       "        vertical-align: top;\n",
       "    }\n",
       "\n",
       "    .dataframe thead th {\n",
       "        text-align: right;\n",
       "    }\n",
       "</style>\n",
       "<table border=\"1\" class=\"dataframe\">\n",
       "  <thead>\n",
       "    <tr style=\"text-align: right;\">\n",
       "      <th></th>\n",
       "      <th>war_num</th>\n",
       "      <th>c_code_a</th>\n",
       "      <th>c_code_b</th>\n",
       "      <th>participant_a</th>\n",
       "      <th>participant_b</th>\n",
       "      <th>start_date</th>\n",
       "      <th>start_year</th>\n",
       "      <th>end_date</th>\n",
       "      <th>end_year</th>\n",
       "    </tr>\n",
       "  </thead>\n",
       "  <tbody>\n",
       "    <tr>\n",
       "      <th>18</th>\n",
       "      <td>-1</td>\n",
       "      <td>517</td>\n",
       "      <td>552</td>\n",
       "      <td>Rwanda</td>\n",
       "      <td>Zimbabwe</td>\n",
       "      <td>1998-08-23</td>\n",
       "      <td>1998</td>\n",
       "      <td>2001-06-03</td>\n",
       "      <td>2001</td>\n",
       "    </tr>\n",
       "    <tr>\n",
       "      <th>23</th>\n",
       "      <td>-1</td>\n",
       "      <td>552</td>\n",
       "      <td>517</td>\n",
       "      <td>Zimbabwe</td>\n",
       "      <td>Rwanda</td>\n",
       "      <td>1998-08-23</td>\n",
       "      <td>1998</td>\n",
       "      <td>2001-06-03</td>\n",
       "      <td>2001</td>\n",
       "    </tr>\n",
       "    <tr>\n",
       "      <th>26</th>\n",
       "      <td>-1</td>\n",
       "      <td>660</td>\n",
       "      <td>666</td>\n",
       "      <td>Lebanon</td>\n",
       "      <td>Israel</td>\n",
       "      <td>1993-04-06</td>\n",
       "      <td>1993</td>\n",
       "      <td>2006-09-08</td>\n",
       "      <td>2006</td>\n",
       "    </tr>\n",
       "    <tr>\n",
       "      <th>27</th>\n",
       "      <td>-1</td>\n",
       "      <td>666</td>\n",
       "      <td>660</td>\n",
       "      <td>Israel</td>\n",
       "      <td>Lebanon</td>\n",
       "      <td>1993-04-06</td>\n",
       "      <td>1993</td>\n",
       "      <td>2006-09-08</td>\n",
       "      <td>2006</td>\n",
       "    </tr>\n",
       "  </tbody>\n",
       "</table>\n",
       "</div>"
      ],
      "text/plain": [
       "    war_num  c_code_a  c_code_b participant_a participant_b  start_date  \\\n",
       "18       -1       517       552        Rwanda      Zimbabwe  1998-08-23   \n",
       "23       -1       552       517      Zimbabwe        Rwanda  1998-08-23   \n",
       "26       -1       660       666       Lebanon        Israel  1993-04-06   \n",
       "27       -1       666       660        Israel       Lebanon  1993-04-06   \n",
       "\n",
       "    start_year    end_date  end_year  \n",
       "18        1998  2001-06-03      2001  \n",
       "23        1998  2001-06-03      2001  \n",
       "26        1993  2006-09-08      2006  \n",
       "27        1993  2006-09-08      2006  "
      ]
     },
     "execution_count": 62,
     "metadata": {},
     "output_type": "execute_result"
    }
   ],
   "source": [
    "dyad_df_1[dyad_df_1['war_num']==-1]"
   ]
  },
  {
   "cell_type": "code",
   "execution_count": 34,
   "metadata": {},
   "outputs": [
    {
     "data": {
      "text/html": [
       "<div>\n",
       "<style scoped>\n",
       "    .dataframe tbody tr th:only-of-type {\n",
       "        vertical-align: middle;\n",
       "    }\n",
       "\n",
       "    .dataframe tbody tr th {\n",
       "        vertical-align: top;\n",
       "    }\n",
       "\n",
       "    .dataframe thead th {\n",
       "        text-align: right;\n",
       "    }\n",
       "</style>\n",
       "<table border=\"1\" class=\"dataframe\">\n",
       "  <thead>\n",
       "    <tr style=\"text-align: right;\">\n",
       "      <th></th>\n",
       "      <th>war_num</th>\n",
       "      <th>c_code_a</th>\n",
       "      <th>c_code_b</th>\n",
       "      <th>participant_a</th>\n",
       "      <th>participant_b</th>\n",
       "      <th>start_date</th>\n",
       "      <th>start_year</th>\n",
       "      <th>end_date</th>\n",
       "      <th>end_year</th>\n",
       "    </tr>\n",
       "  </thead>\n",
       "  <tbody>\n",
       "    <tr>\n",
       "      <th>172</th>\n",
       "      <td>83</td>\n",
       "      <td>365</td>\n",
       "      <td>710</td>\n",
       "      <td>Russia</td>\n",
       "      <td>China</td>\n",
       "      <td>1900-07-03</td>\n",
       "      <td>1900</td>\n",
       "      <td>1900-01-01</td>\n",
       "      <td>1900</td>\n",
       "    </tr>\n",
       "    <tr>\n",
       "      <th>173</th>\n",
       "      <td>83</td>\n",
       "      <td>710</td>\n",
       "      <td>365</td>\n",
       "      <td>China</td>\n",
       "      <td>Russia</td>\n",
       "      <td>1900-07-03</td>\n",
       "      <td>1900</td>\n",
       "      <td>1900-01-01</td>\n",
       "      <td>1900</td>\n",
       "    </tr>\n",
       "    <tr>\n",
       "      <th>358</th>\n",
       "      <td>139</td>\n",
       "      <td>290</td>\n",
       "      <td>365</td>\n",
       "      <td>Poland</td>\n",
       "      <td>Russia</td>\n",
       "      <td>1939-09-01</td>\n",
       "      <td>1939</td>\n",
       "      <td>1939-01-01</td>\n",
       "      <td>1939</td>\n",
       "    </tr>\n",
       "    <tr>\n",
       "      <th>386</th>\n",
       "      <td>139</td>\n",
       "      <td>365</td>\n",
       "      <td>290</td>\n",
       "      <td>Russia</td>\n",
       "      <td>Poland</td>\n",
       "      <td>1939-09-01</td>\n",
       "      <td>1939</td>\n",
       "      <td>1939-01-01</td>\n",
       "      <td>1939</td>\n",
       "    </tr>\n",
       "    <tr>\n",
       "      <th>422</th>\n",
       "      <td>148</td>\n",
       "      <td>645</td>\n",
       "      <td>666</td>\n",
       "      <td>Iraq</td>\n",
       "      <td>Israel</td>\n",
       "      <td>1948-05-14</td>\n",
       "      <td>1948</td>\n",
       "      <td>1948-01-22</td>\n",
       "      <td>1948</td>\n",
       "    </tr>\n",
       "    <tr>\n",
       "      <th>424</th>\n",
       "      <td>148</td>\n",
       "      <td>652</td>\n",
       "      <td>666</td>\n",
       "      <td>Syria</td>\n",
       "      <td>Israel</td>\n",
       "      <td>1948-05-14</td>\n",
       "      <td>1948</td>\n",
       "      <td>1948-01-31</td>\n",
       "      <td>1948</td>\n",
       "    </tr>\n",
       "    <tr>\n",
       "      <th>425</th>\n",
       "      <td>148</td>\n",
       "      <td>660</td>\n",
       "      <td>666</td>\n",
       "      <td>Lebanon</td>\n",
       "      <td>Israel</td>\n",
       "      <td>1948-05-14</td>\n",
       "      <td>1948</td>\n",
       "      <td>1948-01-31</td>\n",
       "      <td>1948</td>\n",
       "    </tr>\n",
       "    <tr>\n",
       "      <th>427</th>\n",
       "      <td>148</td>\n",
       "      <td>666</td>\n",
       "      <td>645</td>\n",
       "      <td>Israel</td>\n",
       "      <td>Iraq</td>\n",
       "      <td>1948-05-14</td>\n",
       "      <td>1948</td>\n",
       "      <td>1948-01-22</td>\n",
       "      <td>1948</td>\n",
       "    </tr>\n",
       "    <tr>\n",
       "      <th>429</th>\n",
       "      <td>148</td>\n",
       "      <td>666</td>\n",
       "      <td>652</td>\n",
       "      <td>Israel</td>\n",
       "      <td>Syria</td>\n",
       "      <td>1948-05-14</td>\n",
       "      <td>1948</td>\n",
       "      <td>1948-01-31</td>\n",
       "      <td>1948</td>\n",
       "    </tr>\n",
       "    <tr>\n",
       "      <th>430</th>\n",
       "      <td>148</td>\n",
       "      <td>666</td>\n",
       "      <td>660</td>\n",
       "      <td>Israel</td>\n",
       "      <td>Lebanon</td>\n",
       "      <td>1948-05-14</td>\n",
       "      <td>1948</td>\n",
       "      <td>1948-01-31</td>\n",
       "      <td>1948</td>\n",
       "    </tr>\n",
       "    <tr>\n",
       "      <th>576</th>\n",
       "      <td>205</td>\n",
       "      <td>652</td>\n",
       "      <td>666</td>\n",
       "      <td>Syria</td>\n",
       "      <td>Israel</td>\n",
       "      <td>1982-06-05</td>\n",
       "      <td>1982</td>\n",
       "      <td>1982-06-01</td>\n",
       "      <td>1982</td>\n",
       "    </tr>\n",
       "    <tr>\n",
       "      <th>577</th>\n",
       "      <td>205</td>\n",
       "      <td>666</td>\n",
       "      <td>652</td>\n",
       "      <td>Israel</td>\n",
       "      <td>Syria</td>\n",
       "      <td>1982-06-05</td>\n",
       "      <td>1982</td>\n",
       "      <td>1982-06-01</td>\n",
       "      <td>1982</td>\n",
       "    </tr>\n",
       "  </tbody>\n",
       "</table>\n",
       "</div>"
      ],
      "text/plain": [
       "     war_num  c_code_a  c_code_b participant_a participant_b  start_date  \\\n",
       "172       83       365       710        Russia         China  1900-07-03   \n",
       "173       83       710       365         China        Russia  1900-07-03   \n",
       "358      139       290       365        Poland        Russia  1939-09-01   \n",
       "386      139       365       290        Russia        Poland  1939-09-01   \n",
       "422      148       645       666          Iraq        Israel  1948-05-14   \n",
       "424      148       652       666         Syria        Israel  1948-05-14   \n",
       "425      148       660       666       Lebanon        Israel  1948-05-14   \n",
       "427      148       666       645        Israel          Iraq  1948-05-14   \n",
       "429      148       666       652        Israel         Syria  1948-05-14   \n",
       "430      148       666       660        Israel       Lebanon  1948-05-14   \n",
       "576      205       652       666         Syria        Israel  1982-06-05   \n",
       "577      205       666       652        Israel         Syria  1982-06-05   \n",
       "\n",
       "     start_year    end_date  end_year  \n",
       "172        1900  1900-01-01      1900  \n",
       "173        1900  1900-01-01      1900  \n",
       "358        1939  1939-01-01      1939  \n",
       "386        1939  1939-01-01      1939  \n",
       "422        1948  1948-01-22      1948  \n",
       "424        1948  1948-01-31      1948  \n",
       "425        1948  1948-01-31      1948  \n",
       "427        1948  1948-01-22      1948  \n",
       "429        1948  1948-01-31      1948  \n",
       "430        1948  1948-01-31      1948  \n",
       "576        1982  1982-06-01      1982  \n",
       "577        1982  1982-06-01      1982  "
      ]
     },
     "execution_count": 34,
     "metadata": {},
     "output_type": "execute_result"
    }
   ],
   "source": [
    "dyad_df_1[dyad_df_1['start_date'] > dyad_df_1['end_date']]"
   ]
  },
  {
   "cell_type": "markdown",
   "metadata": {},
   "source": [
    "## Combining Dyadic Sources\n",
    "#### Second and third dyadic sources are defined above during processing for participant dataframes."
   ]
  },
  {
   "cell_type": "code",
   "execution_count": null,
   "metadata": {},
   "outputs": [],
   "source": [
    "dyad_df = deepcopy(pd.concat([dyad_df_1, dyad_df_2], sort=True, ignore_index=True).reset_index(drop=True))\n",
    "dyad_df = deepcopy(pd.concat([dyad_df, dyad_df_3], sort=True, ignore_index=True).reset_index(drop=True))\n",
    "\n",
    "## saving this for process below\n",
    "dyad_df_for_missing_values = deepcopy(dyad_df)\n",
    "\n",
    "## dropping all columns that were only needed for adding missing values\n",
    "dyad_df.drop(['disno',\n",
    "              'battle_deaths_a',\n",
    "              'battle_deaths_b',\n",
    "              'deaths_both_sides'], axis=1, inplace=True)\n",
    "\n",
    "## removing any duplicates that were present in the three dyadic sources\n",
    "dyad_df.drop_duplicates(subset=list(dyad_df.columns), keep='first', inplace=True)\n",
    "dyad_df = deepcopy(dyad_df.reset_index(drop=True))\n",
    "\n",
    "print('Total Unique Dyads After Merging All War Types: {}'.format(format(int(len(dyad_df)/2), ',d')))"
   ]
  },
  {
   "cell_type": "markdown",
   "metadata": {},
   "source": [
    "## Final Data Adjustments"
   ]
  },
  {
   "cell_type": "markdown",
   "metadata": {},
   "source": [
    "### Adjusting participant names for part_df and dyad_df"
   ]
  },
  {
   "cell_type": "code",
   "execution_count": null,
   "metadata": {},
   "outputs": [],
   "source": [
    "part_df = deepcopy(the_networks_of_war_python_functions.adjust_participant_names(part_df, 'participant'))\n",
    "dyad_df = deepcopy(the_networks_of_war_python_functions.adjust_participant_names(dyad_df, 'dyad'))"
   ]
  },
  {
   "cell_type": "code",
   "execution_count": null,
   "metadata": {},
   "outputs": [],
   "source": [
    "# print('Displaying all participant names.\\n')\n",
    "# sorted(list(set(list(part_df['participant'].unique()) + list(dyad_df['participant_a'].unique()) + list(dyad_df['participant_a'].unique()))))"
   ]
  },
  {
   "cell_type": "markdown",
   "metadata": {},
   "source": [
    "## Addressing Missing Values from both Participant and Dyadic Data"
   ]
  },
  {
   "cell_type": "markdown",
   "metadata": {},
   "source": [
    "### Adding in Missing Dyads for Wars with Only One Possible Adverary"
   ]
  },
  {
   "cell_type": "code",
   "execution_count": null,
   "metadata": {},
   "outputs": [],
   "source": [
    "## need to figure out a way to add dyadic data when it's missing.\n",
    "## these are clear cases where it should be added because one side on the war is only one country.\n",
    "## or, both sides are only one country\n",
    "## it'll be trickier when each side isn't just one country.\n",
    "## that will lead to a floating noad that isn't grounded in the network analysis graph\n",
    "\n",
    "total_dyads = deepcopy(len(dyad_df))\n",
    "\n",
    "for war_num in list(part_df['war_num'].unique()):\n",
    "    \n",
    "    part_df_copy = deepcopy(part_df[part_df['war_num']==war_num].reset_index(drop=True))\n",
    "    total_side_1 = len(list(part_df_copy[part_df_copy['side']==1]['participant'].unique()))\n",
    "    total_side_2 = len(list(part_df_copy[part_df_copy['side']==2]['participant'].unique()))\n",
    "    ## non-state only\n",
    "    total_side_1_non_state = len(list(part_df_copy[(part_df_copy['side']==1) & (part_df_copy['c_code']==-8)]['participant'].unique()))\n",
    "    total_side_2_non_state = len(list(part_df_copy[(part_df_copy['side']==2) & (part_df_copy['c_code']==-8)]['participant'].unique()))\n",
    "\n",
    "    ## state only\n",
    "    total_side_1_state = len(list(part_df_copy[(part_df_copy['side']==1) & (part_df_copy['c_code']!=-8)]['c_code'].unique()))\n",
    "    total_side_2_state = len(list(part_df_copy[(part_df_copy['side']==2) & (part_df_copy['c_code']!=-8)]['c_code'].unique()))\n",
    "    \n",
    "    if total_side_1==1:\n",
    "        dyad_df = deepcopy(the_networks_of_war_python_functions.add_missing_dyads(part_df_copy, dyad_df, war_num, 1, 'all_participants').reset_index(drop=True))\n",
    "    elif total_side_2==1:\n",
    "        dyad_df = deepcopy(the_networks_of_war_python_functions.add_missing_dyads(part_df_copy, dyad_df, war_num, 2, 'all_participants').reset_index(drop=True))\n",
    "    ## if the above processes fail, at the very least we can link all opposing parties to the non-state participant on the other side\n",
    "    ## if there is only on non-state participant on the other side, we know that all opposing forces fought against them\n",
    "    ## the thought here is that if there is only one non-state participant on a particular side, we can assume all members of the other side fought against them because this isn't an inter-state war\n",
    "    elif total_side_1_non_state==1:\n",
    "        dyad_df = deepcopy(the_networks_of_war_python_functions.add_missing_dyads(part_df_copy, dyad_df, war_num, 1, 'non-state').reset_index(drop=True))\n",
    "    elif total_side_2_non_state==1:\n",
    "        dyad_df = deepcopy(the_networks_of_war_python_functions.add_missing_dyads(part_df_copy, dyad_df, war_num, 2, 'non-state').reset_index(drop=True))\n",
    "    else:\n",
    "        pass\n",
    "\n",
    "    ## below is the case where only one state participant was on a particular side in a non-state war.\n",
    "    ## assuming that this country fought with all opposing parties.\n",
    "    ## filling in any networks with only one state participant on a particular side\n",
    "    ## see Eritrea in Third Somalia War\n",
    "    if total_side_1_state==1:\n",
    "        dyad_df = deepcopy(the_networks_of_war_python_functions.add_missing_dyads(part_df_copy, dyad_df, war_num, 1, 'state').reset_index(drop=True))\n",
    "    elif total_side_2_state==1:\n",
    "        dyad_df = deepcopy(the_networks_of_war_python_functions.add_missing_dyads(part_df_copy, dyad_df, war_num, 2, 'state').reset_index(drop=True))\n",
    "    else:\n",
    "        pass\n",
    "\n",
    "dyads_added = deepcopy(len(dyad_df) - total_dyads)\n",
    "print('Checking for floating participants with only one possible adversary, or one definite adversary.\\n')\n",
    "print('Total Dyads Added Overall: {}'.format(format(dyads_added, ',d')))\n",
    "print('Total Particpants with Null Start Years: {}'.format(len(part_df[part_df['start_year'].isnull()])))\n",
    "print('Total Particpants with Null End Years: {}'.format(len(part_df[part_df['end_year'].isnull()])))\n",
    "print('Total Dyads with Null Years: {}'.format(len(dyad_df[dyad_df['year'].isnull()])))\n",
    "\n",
    "total_dyads = deepcopy(len(dyad_df))\n",
    "## unioning to obtain all combinations of dyads that were added\n",
    "dyad_df = deepcopy(the_networks_of_war_python_functions.union_opposite_columns(dyad_df))\n",
    "dyads_added = deepcopy(len(dyad_df) - total_dyads)\n",
    "print('Total Dyads Unioned From Opposite Columns: {}'.format(format(dyads_added, ',d')))"
   ]
  },
  {
   "cell_type": "markdown",
   "metadata": {},
   "source": [
    "### Adding in Missing Participants that Appear in Dyadic Data for War"
   ]
  },
  {
   "cell_type": "code",
   "execution_count": null,
   "metadata": {
    "code_folding": [],
    "scrolled": false
   },
   "outputs": [],
   "source": [
    "print('Participants Added from Dyadic Data:\\n')\n",
    "war_list = list(dyad_df['war_num'].unique())\n",
    "\n",
    "## filling in values below using MID data\n",
    "mid_df = pd.read_csv(csv_directory + 'dyadic MIDs 3.1.csv', encoding='latin-1')\n",
    "mid_df.rename({'statea': 'c_code_a',\n",
    "               'stateb': 'c_code_b',\n",
    "               'namea': 'participant_a',\n",
    "               'nameb': 'participant_b'}, axis=1, inplace=True)\n",
    "\n",
    "## giving this to the opposite side of the participant they fought against in the war (grabs first record)\n",
    "## troublesome if they swithced sides but this would be very rare\n",
    "opposing_side_dic = {1: 2,\n",
    "                     2: 1,\n",
    "                     3: 3}\n",
    "\n",
    "original_part_df_length = deepcopy(len(part_df))\n",
    "## the following checks for missing data across participant names and c_codes\n",
    "## this is only possible (at the moment) for participants with c_codes, because the rest comes from dyadic data\n",
    "for war_num in war_list:\n",
    "\n",
    "    part_df_copy = deepcopy(part_df[part_df['war_num']==war_num].reset_index(drop=True))\n",
    "    participant_list = list(part_df_copy['c_code'])\n",
    "    \n",
    "    dyad_df_copy = deepcopy(dyad_df[dyad_df['war_num']==war_num].reset_index(drop=True))\n",
    "    dyad_list = list(set(list(dyad_df_copy['c_code_a']) + list(dyad_df_copy['c_code_b'])))\n",
    "    \n",
    "    try:\n",
    "        dyad_list.remove(-8)\n",
    "    except:\n",
    "        pass\n",
    "    for participant in dyad_list:\n",
    "        if participant not in participant_list:\n",
    "            \n",
    "            war_num = part_df_copy['war_num'].values[0]\n",
    "\n",
    "            print(str(war_num)[:-2] + ', ' + war_dic[war_num] + ': ' + str(int(participant)) + ', ' + c_code_dic[participant])\n",
    "            \n",
    "            ## this will overwrite the dyad_df_copy dataframe made just a few lines earlier.\n",
    "            dyad_df_copy = deepcopy(dyad_df_for_missing_values[(dyad_df_for_missing_values['war_num']==war_num) & ((dyad_df_for_missing_values['c_code_a']==participant) | (dyad_df_for_missing_values['c_code_b']==participant))].reset_index(drop=True))\n",
    "            dispute_numbers = list(dyad_df_copy['disno'].unique())\n",
    "            dispute_number = dispute_numbers[0]\n",
    "            \n",
    "            ## should always be 1\n",
    "            if len(dispute_numbers) > 1:\n",
    "                print('Missing participant has more than 1 dispute.')\n",
    "                print('Logic will need to be adjusted.')\n",
    "                print('Total Disputes for Missing Participant: {}'.format(len(dispute_numbers)))\n",
    "            \n",
    "            mid_df_copy = deepcopy(mid_df[(mid_df['disno']==dispute_number) & ((mid_df['c_code_a']==participant) | (mid_df['c_code_b']==participant))].reset_index(drop=True))\n",
    "            mid_df_copy.rename({'strtday': 'start_day',\n",
    "                              'strtmnth': 'start_month',\n",
    "                              'strtyr': 'start_year',\n",
    "                              'endday': 'end_day',\n",
    "                              'endmnth': 'end_month',\n",
    "                              'endyear': 'end_year',\n",
    "                             }, axis=1, inplace = True)\n",
    "            mid_df_copy['war_num'] = war_num\n",
    "            mid_df_copy = deepcopy(the_networks_of_war_python_functions.start_and_end_dates(mid_df_copy))\n",
    "            aggregations = {\n",
    "                'start_date': 'min',\n",
    "                'end_date': 'max',\n",
    "#                 'days_at_war': 'max',\n",
    "                ## aggregation for estimation fields.\n",
    "                ## this could fail for aggregations over multiple dates\n",
    "                'start_date_estimated': 'max',\n",
    "                'end_date_estimated': 'max'\n",
    "                }\n",
    "            mid_df_copy = deepcopy(mid_df_copy.groupby(['war_num', 'c_code_a', 'c_code_b', 'participant_a', 'participant_b']).agg(aggregations).reset_index())\n",
    "            \n",
    "            ## manually filling in values that are found in dyadic cow datasets but seem to be missing from country level sources.\n",
    "            ## values have been obtained from dyadic data (directed_dyadic_war.csv' and dyadic MIDs 3.1.csv)\n",
    "            df_length = deepcopy(len(part_df))\n",
    "            \n",
    "            part_df_copy = deepcopy(part_df[part_df['war_num']==war_num].reset_index(drop=True))\n",
    "            \n",
    "            if len(mid_df_copy[mid_df_copy['c_code_a']==participant]) > 0:\n",
    "                part_df.loc[df_length, 'c_code'] = mid_df_copy[mid_df_copy['c_code_a']==participant]['c_code_a'].values[0]\n",
    "                ## assuming it's in c_code_dic\n",
    "                ## otherwise, this breaks!\n",
    "                part_df.loc[df_length, 'participant'] = c_code_dic[mid_df_copy[mid_df_copy['c_code_a']==participant]['c_code_a'].values[0]]\n",
    "                opposite_participant = mid_df_copy[mid_df_copy['c_code_a']==participant]['c_code_b'].values[0]\n",
    "            else:\n",
    "                part_df.loc[df_length, 'c_code'] = mid_df_copy[mid_df_copy['c_code_b']==participant]['c_code_b'].values[0]\n",
    "                ## assuming it's in c_code_dic\n",
    "                ## otherwise, this breaks!\n",
    "                part_df.loc[df_length, 'participant'] = c_code_dic[mid_df_copy[mid_df_copy['c_code_b']==participant]['c_code_a'].values[0]]\n",
    "                opposite_participant = mid_df_copy[mid_df_copy['c_code_a']==participant]['c_code_b'].values[0]\n",
    "             \n",
    "            part_df.loc[df_length, 'war_num'] = war_num\n",
    "            part_df.loc[df_length, 'war_name'] = war_dic[war_num]\n",
    "            part_df.loc[df_length, 'war_type'] = part_df_copy['war_type'].values[0]\n",
    "            part_df.loc[df_length, 'war_type_code'] = part_df_copy['war_type_code'].values[0]\n",
    "            part_df.loc[df_length, 'war_sub_type'] = part_df_copy['war_sub_type'].values[0]\n",
    "            \n",
    "            part_df.loc[df_length, 'side'] = opposing_side_dic[part_df_copy[part_df_copy['c_code']==opposite_participant]['side'].values[0]]\n",
    "            part_df.loc[df_length, 'battle_deaths'] = max(list(dyad_df_copy[dyad_df_copy['c_code_a']==participant]['battle_deaths_a']) + list(dyad_df_copy[dyad_df_copy['c_code_b']==participant]['battle_deaths_b']))\n",
    "            \n",
    "            part_df.loc[df_length, 'start_date'] = mid_df_copy['start_date'].values[0]\n",
    "            part_df.loc[df_length, 'start_year'] = float(str(mid_df_copy['start_date'].values[0])[0:4])\n",
    "            part_df.loc[df_length, 'end_date'] = pd.to_datetime(str(mid_df_copy['end_date'].values[0])[0:11])\n",
    "            part_df.loc[df_length, 'end_year'] = float(str(mid_df_copy['end_date'].values[0])[0:4])\n",
    "#             part_df.loc[df_length, 'days_at_war'] = float(mid_df_copy['days_at_war'].values[0])\n",
    "            part_df.loc[df_length, 'start_date_estimated'] = float(mid_df_copy['start_date_estimated'].values[0])\n",
    "            part_df.loc[df_length, 'end_date_estimated'] = float(mid_df_copy['end_date_estimated'].values[0])\n",
    "            ## prevent duplication in for loop\n",
    "            ## this may be an issue if they fought with more than one country\n",
    "            participant_list.append(participant)\n",
    "        else:\n",
    "            pass\n",
    "        \n",
    "part_df['war_num'] = part_df['war_num'].astype(float)\n",
    "part_df['start_year'] = part_df['start_year'].astype(float)\n",
    "part_df['end_year'] = part_df['end_year'].astype(float)\n",
    "\n",
    "participants_added = deepcopy(len(part_df) - original_part_df_length)\n",
    "print('\\nTotal Participants Added from Dyadic Data: {}'.format(format(participants_added, ',d')))"
   ]
  },
  {
   "cell_type": "code",
   "execution_count": null,
   "metadata": {},
   "outputs": [],
   "source": [
    "# missing value for thailand battle deaths in WWII obtained from wikipedia\n",
    "# https://en.wikipedia.org/wiki/Thailand_in_World_War_II#:~:text=Thailand%20suffered%20about%205%2C569%20military,the%20brief%20Franco%2DThai%20War.\n",
    "print('Manually adding battle deaths from Wikipedia for Thailand during WWII.')\n",
    "part_df.loc[(part_df['war_num']==139) & (part_df['participant']=='Thailand'), 'battle_deaths'] = 5569\n",
    "\n",
    "# missing value for greece battle deaths in Turco Cypriot obtained from wikipedia\n",
    "# https://en.wikipedia.org/wiki/Turkish_invasion_of_Cyprus#:~:text=The%20violence%20resulted%20in%20the,of%2025%2C000%E2%80%9330%2C000%20Turkish%20Cypriots.\n",
    "print('Manually adding battle deaths from Wikipedia for Greece during Turco Cypriot.')\n",
    "part_df.loc[(part_df['war_num']==184) & (part_df['participant']=='Greece'), 'battle_deaths'] = 105"
   ]
  },
  {
   "cell_type": "code",
   "execution_count": null,
   "metadata": {},
   "outputs": [],
   "source": [
    "# # check for all values that were just added\n",
    "# # making sure no fields are null that shouldn't be null\n",
    "# part_df.tail(len(part_df)-original_part_df_length)"
   ]
  },
  {
   "cell_type": "markdown",
   "metadata": {},
   "source": [
    "## Defining War DataFrame (One row for each war)"
   ]
  },
  {
   "cell_type": "code",
   "execution_count": null,
   "metadata": {
    "scrolled": true
   },
   "outputs": [],
   "source": [
    "## part_df_copy will be used to calculate war_df.\n",
    "part_df_copy = deepcopy(part_df)\n",
    "part_df_copy.rename({'participant': 'total_participants'}, axis=1, inplace=True)\n",
    "\n",
    "## filling these dates in arbitrarily before taking aggregates\n",
    "## high date for start_date because this will be min\n",
    "## low date for end_date because this will be max\n",
    "part_df_copy['start_date'].fillna(pd.to_datetime('2100-01-01'), inplace=True)\n",
    "part_df_copy['end_date'].fillna(pd.to_datetime('1700-01-01'), inplace=True)\n",
    "part_df_copy.rename({'ongoing_participation': 'ongoing_war'}, axis=1, inplace=True)\n",
    "\n",
    "war_name_changes = {}\n",
    "wars_changed_to_ongoing = []\n",
    "for i, war in enumerate(part_df_copy['war_name']):\n",
    "    original_war_name = part_df_copy.loc[i, 'war_name']\n",
    "    if part_df_copy.loc[i, 'ongoing_war']==1:\n",
    "        pass\n",
    "    elif 'present' in part_df_copy.loc[i, 'war_name'].lower() or 'ongoing' in part_df_copy.loc[i, 'war_name'].lower():\n",
    "        part_df_copy.loc[i, 'ongoing_war'] = 1\n",
    "        wars_changed_to_ongoing.append(part_df_copy.loc[i, 'war_num'])\n",
    "    if ' of 1' in part_df_copy.loc[i, 'war_name']:\n",
    "        part_df_copy.loc[i, 'war_name'] = part_df_copy.loc[i, 'war_name'].split(' of 1')[0].replace('  ', ' ')\n",
    "    elif ' of 2' in part_df_copy.loc[i, 'war_name']:\n",
    "        part_df_copy.loc[i, 'war_name'] = part_df_copy.loc[i, 'war_name'].split(' of 2')[0].replace('  ', ' ')\n",
    "    if part_df_copy.loc[i, 'war_name'][0]==' ':\n",
    "        part_df_copy.loc[i, 'war_name'] = part_df_copy.loc[i, 'war_name'][1:]\n",
    "    if original_war_name!=part_df_copy.loc[i, 'war_name']:\n",
    "        war_name_changes[original_war_name] = part_df_copy.loc[i, 'war_name']\n",
    "        \n",
    "print('Total Wars Manually Changed to Ongoing: {}'.format(format(len(list(set(wars_changed_to_ongoing))), ',d')))\n",
    "print('Total Wars Marked as Ongoing: {}'.format(format(len(list(part_df_copy[part_df_copy['ongoing_war']==1]['war_num'].unique())), ',d')))\n",
    "print('Total Wars With Name Adjustments: {}'.format(format(len(war_name_changes.keys()), ',d')))\n",
    "# pprint(war_name_changes)"
   ]
  },
  {
   "cell_type": "code",
   "execution_count": null,
   "metadata": {},
   "outputs": [],
   "source": [
    "### Creating Dictionary to Lookup Estimated Dates That Have Affected Days_At_War\n",
    "estimated_start_df = deepcopy(part_df_copy[part_df_copy['start_date_estimated']==1][['war_num', 'start_date']])\n",
    "estimated_start_dates = the_networks_of_war_python_functions.dictionary_from_field(estimated_start_df, 'war_num', 'start_date')\n",
    "\n",
    "estimated_end_df = deepcopy(part_df_copy[(part_df_copy['end_date_estimated']==1) & (part_df_copy['ongoing_war']==0)][['war_num', 'end_date']])\n",
    "estimated_end_dates = the_networks_of_war_python_functions.dictionary_from_field(estimated_end_df, 'war_num', 'end_date')\n",
    "\n",
    "## not longer needed after the dictionaries are created\n",
    "## however, they could still potentially have been used to generate days_at_war_by_participant\n",
    "part_df.drop(['start_date_estimated',\n",
    "              'end_date_estimated'], axis=1, inplace=True)\n",
    "## needed for to create war_df but not individually part_df\n",
    "part_df.drop(['lagging_war',\n",
    "              'leading_war'], axis=1, inplace=True)\n",
    "\n",
    "print('Total Wars with Estimated Start Dates: {}'.format(len(list(estimated_start_df['war_num'].unique()))))\n",
    "print('Total (Non-Ongoing) Wars with Estimated End Dates: {}'.format(len(list(estimated_end_df['war_num'].unique()))))"
   ]
  },
  {
   "cell_type": "code",
   "execution_count": null,
   "metadata": {},
   "outputs": [],
   "source": [
    "aggregations = {\n",
    "    'total_participants': 'count',\n",
    "    'start_year': 'min',\n",
    "    'end_year': 'max',\n",
    "    ## this will not be accurate if there are more than one lagging/leading wars per war.\n",
    "    'lagging_war': 'min',\n",
    "    'leading_war': 'max',\n",
    "    'ongoing_war': 'max',\n",
    "    'start_date': 'min',\n",
    "    'end_date': 'max'\n",
    "    ## not sure how to add this one just yet\n",
    "#     'total_deaths_both_sides': 'max'\n",
    "    }\n",
    "war_df = deepcopy(part_df_copy.groupby(['war_num',\n",
    "                                        'war_name',\n",
    "                                        'war_type_code',\n",
    "                                        'war_type',\n",
    "                                        'war_sub_type']).agg(aggregations).reset_index())\n",
    "\n",
    "## putting these back to none in case they made it through the aggregation\n",
    "war_df.loc[war_df['start_date']==pd.to_datetime('2100-01-01'), 'start_date'] = None\n",
    "war_df.loc[war_df['end_date']==pd.to_datetime('1700-01-01'), 'end_date'] = None\n",
    "\n",
    "for i, war in enumerate(war_df['war_name']):\n",
    "    try:\n",
    "        war_df.loc[i, 'total_days_in_war'] = war_df.loc[i, 'end_date'] - war_df.loc[i, 'start_date']\n",
    "        war_df.loc[i, 'total_days_in_war'] = int(str(war_df.loc[i, 'total_days_in_war']).split(' ')[0]) + 1\n",
    "    except:\n",
    "        war_df.loc[i, 'total_days_in_war'] = None\n",
    "        \n",
    "war_df = deepcopy(war_df.sort_values(by=['start_year', 'ongoing_war', 'end_year', 'start_date', 'war_name'], ascending=(False, False, False, False, True)))\n",
    "\n",
    "print('Total Wars with Null Start Years: {}'.format(format(int(len(war_df[war_df['start_year'].isnull()])), ',d')))\n",
    "print('Total (Non-Ongoing) Wars with Null End Years: {}'.format(format(int(len(war_df[(war_df['end_year'].isnull()) & (war_df['ongoing_war']==0)])), ',d')))\n",
    "print('Total Ongoing Wars: {}'.format(format(int(len(war_df[war_df['ongoing_war']==1])), ',d')))\n"
   ]
  },
  {
   "cell_type": "code",
   "execution_count": null,
   "metadata": {},
   "outputs": [],
   "source": [
    "print('Evaluating for each war, whether the start/end date is based on an estimation.')\n",
    "\n",
    "for i, war in enumerate(war_df['war_num']):\n",
    "    if war_df.loc[i, 'war_num'] in list(estimated_start_dates.keys()) and estimated_start_dates[war_df.loc[i, 'war_num']]==war_df.loc[i, 'start_date']:\n",
    "        war_df.loc[i, 'start_date_estimated'] = 1\n",
    "    if war_df.loc[i, 'war_num'] in list(estimated_end_dates.keys()) and estimated_end_dates[war_df.loc[i, 'war_num']]==war_df.loc[i, 'end_date']:\n",
    "        war_df.loc[i, 'end_date_estimated'] = 1\n",
    "        \n",
    "war_df.loc[war_df['start_date_estimated'].isnull(), 'start_date_estimated'] = 0\n",
    "war_df.loc[war_df['end_date_estimated'].isnull(), 'end_date_estimated'] = 0\n",
    "\n",
    "print(\"Total Estimated Start Dates: {}\".format(format(len(war_df[war_df['start_date_estimated']==1]), ',d')))\n",
    "print(\"Total Estimated End Dates: {}\".format(format(len(war_df[war_df['end_date_estimated']==1]), ',d')))"
   ]
  },
  {
   "cell_type": "code",
   "execution_count": null,
   "metadata": {},
   "outputs": [],
   "source": [
    "print('Total Participants: {}'.format(format(len(part_df), ',d')))\n",
    "print('Total Dyadic Combinations: {}'.format(format(len(dyad_df), ',d')))\n",
    "print('Total Wars: {}'.format(format(len(war_df), ',d')))\n",
    "\n",
    "pickle_directory = '/Users/charlieyaris/Personal/data_sources/the_networks_of_war/pickles/'\n",
    "\n",
    "part_df.to_pickle(pickle_directory + 'initial_part_df.pkl')\n",
    "dyad_df.to_pickle(pickle_directory + 'initial_dyad_df.pkl')\n",
    "war_df.to_pickle(pickle_directory + 'initial_war_df.pkl')"
   ]
  },
  {
   "cell_type": "code",
   "execution_count": null,
   "metadata": {},
   "outputs": [],
   "source": []
  },
  {
   "cell_type": "code",
   "execution_count": null,
   "metadata": {},
   "outputs": [],
   "source": []
  }
 ],
 "metadata": {
  "kernelspec": {
   "display_name": "Python 3",
   "language": "python",
   "name": "python3"
  },
  "language_info": {
   "codemirror_mode": {
    "name": "ipython",
    "version": 3
   },
   "file_extension": ".py",
   "mimetype": "text/x-python",
   "name": "python",
   "nbconvert_exporter": "python",
   "pygments_lexer": "ipython3",
   "version": "3.9.2"
  }
 },
 "nbformat": 4,
 "nbformat_minor": 2
}
